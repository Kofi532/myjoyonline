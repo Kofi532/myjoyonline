{
 "cells": [
  {
   "cell_type": "code",
   "execution_count": null,
   "id": "d48c71ab-c9ee-42d4-b983-ddc4daede001",
   "metadata": {},
   "outputs": [],
   "source": []
  },
  {
   "cell_type": "code",
   "execution_count": 77,
   "id": "51686df3-b938-4ea8-8630-e013549a8095",
   "metadata": {},
   "outputs": [
    {
     "name": "stderr",
     "output_type": "stream",
     "text": [
      "\n",
      "\n",
      "====== WebDriver manager ======\n",
      "Current google-chrome version is 101.0.4951\n",
      "Get LATEST chromedriver version for 101.0.4951 google-chrome\n",
      "Driver [C:\\Users\\kofi\\.wdm\\drivers\\chromedriver\\win32\\101.0.4951.41\\chromedriver.exe] found in cache\n",
      "C:\\Users\\kofi\\AppData\\Local\\Temp/ipykernel_10708/2285986147.py:6: DeprecationWarning: executable_path has been deprecated, please pass in a Service object\n",
      "  driver = webdriver.Chrome(ChromeDriverManager().install())\n"
     ]
    }
   ],
   "source": [
    "import time\n",
    "from time import sleep\n",
    "from selenium import webdriver\n",
    "from selenium.webdriver.common.keys import Keys\n",
    "from webdriver_manager.chrome import ChromeDriverManager\n",
    "driver = webdriver.Chrome(ChromeDriverManager().install())\n",
    "\n",
    "time.sleep(5)\n"
   ]
  },
  {
   "cell_type": "code",
   "execution_count": 37,
   "id": "6451f554-0a21-410b-afd7-f90d4f2c5afc",
   "metadata": {},
   "outputs": [],
   "source": [
    "driver.maximize_window()\n",
    "time.sleep(2)"
   ]
  },
  {
   "cell_type": "code",
   "execution_count": 49,
   "id": "2769a060-57e2-46bf-8c07-9f46c0f81742",
   "metadata": {},
   "outputs": [
    {
     "name": "stdout",
     "output_type": "stream",
     "text": [
      "did not finish loading\n"
     ]
    }
   ],
   "source": [
    "try:\n",
    "    \n",
    "    driver.get(\"https://www.pulse.com.gh/\")    \n",
    "    time.sleep(30)   \n",
    "except Exception:\n",
    "    pass\n",
    "print('did not finish loading')"
   ]
  },
  {
   "cell_type": "code",
   "execution_count": 50,
   "id": "0b454fb2-935a-4fa6-9b97-35c731a89128",
   "metadata": {},
   "outputs": [
    {
     "name": "stderr",
     "output_type": "stream",
     "text": [
      "C:\\Users\\kofi\\AppData\\Local\\Temp/ipykernel_10708/1622795889.py:1: DeprecationWarning: find_element_by_xpath is deprecated. Please use find_element(by=By.XPATH, value=xpath) instead\n",
      "  i = driver.find_element_by_xpath(\"(//body)[1]\")\n"
     ]
    }
   ],
   "source": [
    "i = driver.find_element_by_xpath(\"(//body)[1]\")\n",
    " #(//div)[39]\n",
    "    #(//div[@class='jeg_viewport'])[1]"
   ]
  },
  {
   "cell_type": "code",
   "execution_count": 51,
   "id": "36127dce-7d90-4b82-977c-856427ddac7d",
   "metadata": {},
   "outputs": [],
   "source": [
    "k = i.text"
   ]
  },
  {
   "cell_type": "code",
   "execution_count": 52,
   "id": "e567a31a-d398-49b0-aaf9-04cb31b885cf",
   "metadata": {},
   "outputs": [],
   "source": [
    "rep = k.replace(\"\\n\", \". \")"
   ]
  },
  {
   "cell_type": "code",
   "execution_count": 53,
   "id": "301810b1-cdaf-4e88-a179-83a11a17a945",
   "metadata": {},
   "outputs": [],
   "source": [
    "import re\n",
    "expression = re.compile(r'([A-Z][^\\.!?]*[\\.!?])')\n",
    "new_list = re.findall(expression, rep)"
   ]
  },
  {
   "cell_type": "code",
   "execution_count": 54,
   "id": "a5cf4968-888c-4bb6-acfc-a9c37dd1e45d",
   "metadata": {},
   "outputs": [
    {
     "data": {
      "text/plain": [
       "['News.',\n",
       " 'Entertainment.',\n",
       " 'Lifestyle.',\n",
       " 'Sports.',\n",
       " 'Business.',\n",
       " 'Quizzes.',\n",
       " 'Sam George blasts Gov’t over reports of E-levy deductions on amounts below GHc100.',\n",
       " \"Practice what you preach, give 10% of tithe you collect to GRA as E-tithe' - KSM to Pastors.\",\n",
       " 'NPP delegate collapses and dies after declaration of constituency election results.',\n",
       " 'Here’s how much every ‘big man’ spent at Asamoah Gyan’s book launch.',\n",
       " 'JOIN OUR PULSE COMMUNITY!',\n",
       " 'Our newsletter gives you access to a curated selection of the most important stories daily.',\n",
       " 'SUBSCRIBE.',\n",
       " 'LATEST.',\n",
       " 'Sam George blasts Gov’t over reports of E-levy deductions on amounts below GHc100.',\n",
       " \"Practice what you preach, give 10% of tithe you collect to GRA as E-tithe' - KSM to Pastors.\",\n",
       " 'NPP delegate collapses, dies after declaration of constituency election results.',\n",
       " 'Taxes of Ghanaians are at work – Akufo-Addo.',\n",
       " 'Pay living wages to workers; stop starvation wages - Dr.',\n",
       " 'Duffuor.',\n",
       " 'Here’s how much every ‘big man’ spent at Asamoah Gyan’s book launch.',\n",
       " 'E-Levy deductions begin today; Yvonne Nelson joins social media to lament.',\n",
       " 'Ken Agyapong, Dr.',\n",
       " 'Ofori Sarpong buy first copies of Gyan’s book for GHc100,000.',\n",
       " 'Asamoah Gyan sheds tears at book launch whilst talking about brother (WATCH).',\n",
       " \"EDITOR'S PICK.\",\n",
       " 'EMMANUEL AYAMGA.',\n",
       " 'Bombs, fear and iffy survival: The escape story of Ghanaian footballers in war-torn Ukraine.',\n",
       " 'KOFI BOATENG.',\n",
       " \"Black Sherif showed a glimpse of his future at 3Music Awards' darkest but illuminating night.\",\n",
       " 'EMMANUEL AYAMGA.',\n",
       " 'The boos at Jordan Ayew were utterly shameful.',\n",
       " 'NEWS.',\n",
       " 'Read More >>.',\n",
       " 'Sam George blasts Gov’t over reports of E-levy deductions on amounts below GHc100.',\n",
       " 'NPP delegate collapses, dies after declaration of constituency election results.',\n",
       " 'Taxes of Ghanaians are at work – Akufo-Addo.',\n",
       " 'ENTERTAINMENT.',\n",
       " 'Read More>>.',\n",
       " \"Practice what you preach, give 10% of tithe you collect to GRA as E-tithe' - KSM to Pastors.\",\n",
       " 'E-Levy deductions begin today; Yvonne Nelson joins social media to lament.',\n",
       " 'Gloria Sarfo in tears as she buries her mum; colleagues show up to support (WATCH).',\n",
       " 'Black Sherif lands first international show in Portugal.',\n",
       " 'LIFESTYLE.',\n",
       " 'Read More >>.',\n",
       " 'DIY Recipes: How to make Fula drink.',\n",
       " 'The best celebrity pictures on Instagram this week.',\n",
       " 'How long does it take a man to know he wants to marry you?',\n",
       " 'SPORTS.',\n",
       " 'Read More>>.',\n",
       " 'Here’s how much every ‘big man’ spent at Asamoah Gyan’s book launch.',\n",
       " 'Ken Agyapong, Dr.',\n",
       " 'Ofori Sarpong buy first copies of Gyan’s book for GHc100,000.',\n",
       " 'Asamoah Gyan sheds tears at book launch whilst talking about brother (WATCH).',\n",
       " 'Jesus take the wheel” - Brazilian striker continues red-hot form to help Man City overtake Liverpool in thrilling title race.',\n",
       " 'BUSINESS.',\n",
       " 'Read More >>.',\n",
       " \"Workers' Day: Here are 20 best companies for workers in Nigeria, Kenya, Egypt and South Africa.\",\n",
       " 'Ways Africans can make money with Blockchain.',\n",
       " 'Ralph Mupita went from dreaming of going to the moon to becoming CEO of MTN Group Ltd.',\n",
       " \"There's a positive outlook for mass grocery retail in Ghana as household spending increases.\",\n",
       " 'QUIZZES.',\n",
       " 'Read More >>.',\n",
       " 'Quiz: How will you be spending this long weekend?',\n",
       " 'Quiz: How well do you know about the 1992 Constitution?',\n",
       " 'Take this quiz and know more about the Vice Chancellors of the University of Ghana, Legon.',\n",
       " 'Quiz:Only true Jackie Appiah fans can score 6/6 on this quiz.',\n",
       " 'TRENDING.',\n",
       " 'Strive Masiyiwa surpasses Patrice Motsepe to become the richest black man in Southern Africa.',\n",
       " \"Yul Edochie's 2nd wife Judy Austin Moghalu.\",\n",
       " 'African countries with the highest number of dollar millionaires, according to latest ranking.',\n",
       " 'African countries by international tourists, according to latest available stats.',\n",
       " 'Advertise with us.',\n",
       " 'Reach out to us at sales@pulse.',\n",
       " \"Find out more about Pulse's products and advertising opportunities at pulse.\",\n",
       " 'Home.',\n",
       " 'News.',\n",
       " 'Business.',\n",
       " 'Entertainment.',\n",
       " 'Lifestyle.',\n",
       " 'Sports.',\n",
       " 'Quizzes.',\n",
       " 'About us.',\n",
       " 'About us.',\n",
       " 'Advertise with us.',\n",
       " 'Terms & Conditions.',\n",
       " 'Privacy Policy.',\n",
       " 'Pulse Influencer Awards.',\n",
       " 'Social.',\n",
       " 'Facebook.',\n",
       " 'Twitter.',\n",
       " 'Instagram.',\n",
       " 'Youtube.',\n",
       " 'Tiktok.']"
      ]
     },
     "execution_count": 54,
     "metadata": {},
     "output_type": "execute_result"
    }
   ],
   "source": [
    "new_list"
   ]
  },
  {
   "cell_type": "code",
   "execution_count": 55,
   "id": "1f47f8aa-8a95-47b2-bd05-62e5c7972115",
   "metadata": {},
   "outputs": [
    {
     "name": "stdout",
     "output_type": "stream",
     "text": [
      "['Taxes of Ghanaians are at work – Akufo-Addo.', 'Bombs, fear and iffy survival: The escape story of Ghanaian footballers in war-torn Ukraine.', 'Taxes of Ghanaians are at work – Akufo-Addo.', \"There's a positive outlook for mass grocery retail in Ghana as household spending increases.\", 'Take this quiz and know more about the Vice Chancellors of the University of Ghana, Legon.']\n"
     ]
    }
   ],
   "source": [
    "matches = []\n",
    "#('arm','weapon', 'shot', 'police', 'military', 'drugs', 'suspect')\n",
    "for match in new_list:\n",
    "    if \"arm\" in match:\n",
    "        matches.append(match)\n",
    "    if \"weapon\" in match:\n",
    "        matches.append(match)\n",
    "    if \"shot\" in match:\n",
    "        matches.append(match)\n",
    "    if \"police\" in match:\n",
    "        matches.append(match)\n",
    "    if \"military\" in match:\n",
    "        matches.append(match)\n",
    "    if \"drugs\" in match:\n",
    "        matches.append(match)\n",
    "    if \"suspects\" in match:\n",
    "        matches.append(match)\n",
    "    if \"Arm\" in match:\n",
    "        matches.append(match)\n",
    "    if \"Weapon\" in match:\n",
    "        matches.append(match)\n",
    "    if \"Shot\" in match:\n",
    "        matches.append(match)\n",
    "    if \"Police\" in match:\n",
    "        matches.append(match)\n",
    "    if \"Military\" in match:\n",
    "        matches.append(match)\n",
    "    if \"Drugs\" in match:\n",
    "        matches.append(match)\n",
    "    if \"Suspects\" in match:\n",
    "        matches.append(match)\n",
    "    if \"kill\" in match:\n",
    "        matches.append(match)\n",
    "    if \"Ghana\" in match:\n",
    "        matches.append(match)\n",
    "print(matches)"
   ]
  },
  {
   "cell_type": "code",
   "execution_count": 56,
   "id": "9ac188a6-d06f-4dde-bf50-b3323811125a",
   "metadata": {},
   "outputs": [],
   "source": [
    "new_ = [s.replace(\",\", \"\") for s in matches]\n",
    "new_l = [s.replace(\".\", \"\") for s in new_]\n",
    "new_li = [s.replace(\"–\", \"\") for s in new_l]\n",
    "new_lis = [s.replace(\"?\", \"\") for s in new_li]\n",
    "new_list = [s.replace(\":\", \"\") for s in new_lis]\n",
    "new_lists = [s.replace(\";\", \"\") for s in new_list]"
   ]
  },
  {
   "cell_type": "code",
   "execution_count": 57,
   "id": "5406d0ca-7eae-4fc0-bf4b-5e167f6c7f9c",
   "metadata": {},
   "outputs": [
    {
     "data": {
      "text/plain": [
       "5"
      ]
     },
     "execution_count": 57,
     "metadata": {},
     "output_type": "execute_result"
    }
   ],
   "source": [
    "len(new_lists)"
   ]
  },
  {
   "cell_type": "code",
   "execution_count": 58,
   "id": "d35854df-1058-4b19-a648-c510ffa26796",
   "metadata": {},
   "outputs": [
    {
     "data": {
      "text/plain": [
       "['Taxes of Ghanaians are at work  Akufo-Addo',\n",
       " 'Bombs fear and iffy survival The escape story of Ghanaian footballers in war-torn Ukraine',\n",
       " 'Taxes of Ghanaians are at work  Akufo-Addo',\n",
       " \"There's a positive outlook for mass grocery retail in Ghana as household spending increases\",\n",
       " 'Take this quiz and know more about the Vice Chancellors of the University of Ghana Legon']"
      ]
     },
     "execution_count": 58,
     "metadata": {},
     "output_type": "execute_result"
    }
   ],
   "source": [
    "new_lists"
   ]
  },
  {
   "cell_type": "code",
   "execution_count": null,
   "id": "fcc26388-5517-450b-8ccd-a51a93e0e59c",
   "metadata": {},
   "outputs": [],
   "source": []
  },
  {
   "cell_type": "markdown",
   "id": "10353be7-2ba2-4036-bc1d-f0389f925d17",
   "metadata": {
    "tags": []
   },
   "source": [
    "## 1st"
   ]
  },
  {
   "cell_type": "code",
   "execution_count": 59,
   "id": "919d46ec-34d3-4afe-8166-48f1d24f6e84",
   "metadata": {},
   "outputs": [],
   "source": [
    "from selenium.webdriver.common.action_chains import ActionChains"
   ]
  },
  {
   "cell_type": "code",
   "execution_count": 61,
   "id": "718e8477-dec1-4171-9de9-c41535f79bd6",
   "metadata": {},
   "outputs": [
    {
     "name": "stderr",
     "output_type": "stream",
     "text": [
      "C:\\Users\\kofi\\AppData\\Local\\Temp/ipykernel_10708/322708303.py:2: DeprecationWarning: find_element_by_xpath is deprecated. Please use find_element(by=By.XPATH, value=xpath) instead\n",
      "  button = driver.find_element_by_xpath(\"(//div[@id='search-button'])[1]\")\n"
     ]
    }
   ],
   "source": [
    "#driver.find_element_by_xpath(\"(//input[@id='s'])[2]\").send_keys(new_lists[0])\n",
    "button = driver.find_element_by_xpath(\"(//div[@id='search-button'])[1]\")\n",
    "#maximize window\n",
    "#sleep(5)\n",
    "ActionChains(driver).move_to_element(button).click(button).perform()\n",
    "driver.find_element_by_xpath(\"(//button[normalize-space()='O'])[1]\").click()"
   ]
  },
  {
   "cell_type": "code",
   "execution_count": 62,
   "id": "77bd1454-e1ea-4521-a767-b57c11c5cccf",
   "metadata": {},
   "outputs": [
    {
     "name": "stderr",
     "output_type": "stream",
     "text": [
      "C:\\Users\\kofi\\AppData\\Local\\Temp/ipykernel_10708/4022627259.py:3: DeprecationWarning: find_element_by_xpath is deprecated. Please use find_element(by=By.XPATH, value=xpath) instead\n",
      "  driver.find_element_by_xpath(\"(//input[@placeholder='I’m looking for...'])[1]\").send_keys(new_lists[0])\n"
     ]
    }
   ],
   "source": [
    "#driver.find_element_by_xpath(\"(//form[@class='jeg_search_form'])[3]\").send_keys(new_lists[0])\n",
    "#(//input[@placeholder='I’m looking for...'])[1]\n",
    "driver.find_element_by_xpath(\"(//input[@placeholder='I’m looking for...'])[1]\").send_keys(new_lists[0])"
   ]
  },
  {
   "cell_type": "code",
   "execution_count": 63,
   "id": "3e7900f0-f06b-4935-9194-d91777bd5543",
   "metadata": {},
   "outputs": [
    {
     "name": "stderr",
     "output_type": "stream",
     "text": [
      "C:\\Users\\kofi\\AppData\\Local\\Temp/ipykernel_10708/3438420835.py:1: DeprecationWarning: find_element_by_xpath is deprecated. Please use find_element(by=By.XPATH, value=xpath) instead\n",
      "  driver.find_element_by_xpath(\"(//button[normalize-space()='O'])[1]\").click()\n"
     ]
    }
   ],
   "source": [
    "driver.find_element_by_xpath(\"(//button[normalize-space()='O'])[1]\").click()"
   ]
  },
  {
   "cell_type": "code",
   "execution_count": 64,
   "id": "45f67670-1011-4ed6-bb42-fbfc9d7032f6",
   "metadata": {},
   "outputs": [
    {
     "name": "stderr",
     "output_type": "stream",
     "text": [
      "C:\\Users\\kofi\\AppData\\Local\\Temp/ipykernel_10708/2947398954.py:1: DeprecationWarning: find_element_by_xpath is deprecated. Please use find_element(by=By.XPATH, value=xpath) instead\n",
      "  driver.find_element_by_xpath(\"(//div[@class='gradient-overlay'])[1]\").click()\n"
     ]
    }
   ],
   "source": [
    "driver.find_element_by_xpath(\"(//div[@class='gradient-overlay'])[1]\").click()\n",
    "#(//div[@class='gradient-overlay'])[1]"
   ]
  },
  {
   "cell_type": "code",
   "execution_count": 67,
   "id": "1ae3a70b-0b4e-4e5e-8f10-5f8a433a799b",
   "metadata": {},
   "outputs": [
    {
     "name": "stderr",
     "output_type": "stream",
     "text": [
      "C:\\Users\\kofi\\AppData\\Local\\Temp/ipykernel_10708/2739967046.py:1: DeprecationWarning: find_element_by_xpath is deprecated. Please use find_element(by=By.XPATH, value=xpath) instead\n",
      "  driver.find_element_by_xpath(\"(//body)[1]\").text\n"
     ]
    },
    {
     "data": {
      "text/plain": [
       "'News\\nEntertainment\\nLifestyle\\nSports\\nBusiness\\nQuizzes\\ninstagram\\ntwitter\\ninstagram\\nyoutube\\ntiktok\\nNews Local\\nSam George blasts Gov’t over reports of E-levy deductions on amounts below GHc100\\nEMMANUEL AYAMGA\\nMay 1, 2022 4:12 PM\\nA section of Ghanaians have taken to social media to complain about E-levy deductions on transactions below the GHc100 threshold.\\nSam George blasts Gov’t over reports of E-levy deductions on amounts below GHc100\\nTo this end, the Member of Parliament for Ningo Prampram, Sam Nartey George, has called out the government and the Ghana Revenue Authority (GRA).\\nRECOMMENDED ARTICLES\\nNews\\nTaxes of Ghanaians are at work – Akufo-Addo\\nSports\\nAsamoah Gyan sheds tears at book launch whilst talking about brother (WATCH)\\nSports\\nHere’s how much every ‘big man’ spent at Asamoah Gyan’s book launch\\nThe legislator believes the implementation of the controversial electronic levy was rushed, adding that the situation will only get worse.\\nhttps://twitter.com/samgeorgegh/status/1520735597555601408\\nThe E-levy deductions officially kickstarted today, May 1, 2022, with a 1.5% tax imposed on transactions above GHc100 between different mobile money or bank.\\nIn a Facebook post, Sam George accused the government of rushing to implement the E-levy in a bid to frustrate the injunction case in court.\\nRead Sam George full post below:\\nDear Ghana Revenue Authority - Official, have you noticed the many complaints and mess in your implementation of the obnoxious e-Levy? Is this the best May Day gift you can give to the hardworking Ghanaian people on behalf of President Nana Addo Dankwa Akufo-Addo?\\nMy colleague, the Honourable John Ampontuah Kumah, Deputy Minister for Finance who loudly called me a liar for saying that the configuration of the system was flawed and that the GRA and Ministry were not ready should bow his head in shame.\\nI told the Nation that even GH50 transactions would be charged the 1.5% e-Levy because of the nature of implementation. I also said the reversal APIs had not been configured and deployed and so even when people are wrongly charged, there\\'s no remedy. Here we are!\\nAn abysmal illegality of an implementation is what we are witnessing in an attempt to frustrate the injunction case in court. This mess is with on-net transactions oh, wait for the real chaos when they attempt the off-net and interoperability platform. The worst is yet to come. Pray for Ghana.\\nEMMANUEL AYAMGA\\nWriter with special interest in sports and other stories of social interest. Follow him on Twitter @TheAyamga\\nJOIN OUR PULSE COMMUNITY!\\nOur newsletter gives you access to a curated selection of the most important stories daily.\\nSUBSCRIBE\\nDon’t miss a thing! Get notifications for important news & events right in your browser\\nACTIVATE NOTIFICATIONS\\nEyewitness? Submit your stories now via social or:\\nEmail: eyewitness@pulse.com.gh\\nRECOMMENDED ARTICLES\\nSam George blasts Gov’t over reports of E-levy deductions on amounts below GHc100\\nNPP delegate collapses, dies after declaration of constituency election results\\nTaxes of Ghanaians are at work – Akufo-Addo\\nPay living wages to workers; stop starvation wages - Dr. Duffuor\\nDr. Kofi Amoah urges Elon Musk to buy Africa and delete all the leaders\\nE-levy: Wrongful deductions must be reversed – GRA to charging entities\\nCPP to set up funeral committee to plan \"befitting burial\" for Kwame Nkrumah\\nDuffuor donates GHC100k to NDC for outreach programme in Eastern region\\nKrowor Assembly demolishes illegal structures to make way for road construction\\nTRENDING\\nIt was a mistake to come to Ghana — Evacuated students from Ukraine complain\\nAccidents: Drivers consume \\'wee toffee\\' to aid them drive for long hours — Fire Commander\\nDr. Kofi Amoah urges Elon Musk to buy Africa and delete all the leaders\\n22-year-old KNUST student murdered over GH¢300 debt\\nAdvertise with us\\nReach out to us at sales@pulse.com.gh or +233202469221 to advertise with us. Find out more about Pulse\\'s products and advertising opportunities at pulse.africa\\nHome\\nNews\\nBusiness\\nEntertainment\\nLifestyle\\nSports\\nQuizzes\\nAbout us\\nAbout us\\nAdvertise with us\\nTerms & Conditions\\nPrivacy Policy\\nPulse Influencer Awards\\nSocial\\nFacebook\\nTwitter\\nInstagram\\nYoutube\\nTiktok\\nNewsletter'"
      ]
     },
     "execution_count": 67,
     "metadata": {},
     "output_type": "execute_result"
    }
   ],
   "source": [
    "driver.find_element_by_xpath(\"(//body)[1]\").text\n",
    "#(//div[@id='sbwrap'])[1]"
   ]
  },
  {
   "cell_type": "code",
   "execution_count": 68,
   "id": "d442ac93-4e62-4b71-bed0-00aa06ce3d5d",
   "metadata": {},
   "outputs": [
    {
     "name": "stderr",
     "output_type": "stream",
     "text": [
      "C:\\Users\\kofi\\AppData\\Local\\Temp/ipykernel_10708/1990699650.py:2: DeprecationWarning: find_element_by_xpath is deprecated. Please use find_element(by=By.XPATH, value=xpath) instead\n",
      "  head1 = driver.find_element_by_xpath(\"(//h1[contains(@class,'article-headline')])[1]\").text\n"
     ]
    }
   ],
   "source": [
    "try:\n",
    "    head1 = driver.find_element_by_xpath(\"(//h1[contains(@class,'article-headline')])[1]\").text\n",
    "    first = driver.current_url\n",
    "except Exception:\n",
    "    pass"
   ]
  },
  {
   "cell_type": "code",
   "execution_count": 69,
   "id": "6a6c336d-4cc8-4a23-961c-4aa0b4e57c38",
   "metadata": {
    "jupyter": {
     "source_hidden": true
    },
    "tags": []
   },
   "outputs": [],
   "source": [
    "hh1 = [] #urls, keynames\n",
    "try:\n",
    "    h1 = head1\n",
    "except Exception:\n",
    "    h1 = 'unavailable'\n",
    "hh1.append(h1)"
   ]
  },
  {
   "cell_type": "code",
   "execution_count": 70,
   "id": "f9073766-aaa5-463d-b059-80735afe31cb",
   "metadata": {},
   "outputs": [
    {
     "data": {
      "text/plain": [
       "['Sam George blasts Gov’t over reports of E-levy deductions on amounts below GHc100']"
      ]
     },
     "execution_count": 70,
     "metadata": {},
     "output_type": "execute_result"
    }
   ],
   "source": [
    "hh1"
   ]
  },
  {
   "cell_type": "markdown",
   "id": "4b90da9d-6a14-4603-bf81-8d46fd2ab5b5",
   "metadata": {
    "tags": []
   },
   "source": [
    "## 2"
   ]
  },
  {
   "cell_type": "code",
   "execution_count": 74,
   "id": "80a253b5-b751-4563-ac1d-efcb221467a4",
   "metadata": {},
   "outputs": [
    {
     "data": {
      "text/plain": [
       "'Bombs fear and iffy survival The escape story of Ghanaian footballers in war-torn Ukraine'"
      ]
     },
     "execution_count": 74,
     "metadata": {},
     "output_type": "execute_result"
    }
   ],
   "source": [
    "new_lists[1]"
   ]
  },
  {
   "cell_type": "code",
   "execution_count": 78,
   "id": "1a4b39df-2746-4d4c-91f8-16ffa74ae876",
   "metadata": {},
   "outputs": [
    {
     "name": "stderr",
     "output_type": "stream",
     "text": [
      "C:\\Users\\kofi\\AppData\\Local\\Temp/ipykernel_10708/3094303440.py:6: DeprecationWarning: find_element_by_xpath is deprecated. Please use find_element(by=By.XPATH, value=xpath) instead\n",
      "  button = driver.find_element_by_xpath(\"(//div[@id='search-button'])[1]\")\n",
      "C:\\Users\\kofi\\AppData\\Local\\Temp/ipykernel_10708/3094303440.py:9: DeprecationWarning: find_element_by_xpath is deprecated. Please use find_element(by=By.XPATH, value=xpath) instead\n",
      "  driver.find_element_by_xpath(\"(//button[normalize-space()='O'])[1]\").click()\n",
      "C:\\Users\\kofi\\AppData\\Local\\Temp/ipykernel_10708/3094303440.py:10: DeprecationWarning: find_element_by_xpath is deprecated. Please use find_element(by=By.XPATH, value=xpath) instead\n",
      "  driver.find_element_by_xpath(\"(//input[@placeholder='I’m looking for...'])[1]\").send_keys(new_lists[1])\n",
      "C:\\Users\\kofi\\AppData\\Local\\Temp/ipykernel_10708/3094303440.py:12: DeprecationWarning: find_element_by_xpath is deprecated. Please use find_element(by=By.XPATH, value=xpath) instead\n",
      "  driver.find_element_by_xpath(\"(//button[normalize-space()='O'])[1]\").click()\n",
      "C:\\Users\\kofi\\AppData\\Local\\Temp/ipykernel_10708/3094303440.py:17: DeprecationWarning: find_element_by_xpath is deprecated. Please use find_element(by=By.XPATH, value=xpath) instead\n",
      "  driver.find_element_by_xpath(\"(//div[@class='gradient-overlay'])[1]\").click()\n",
      "C:\\Users\\kofi\\AppData\\Local\\Temp/ipykernel_10708/3094303440.py:21: DeprecationWarning: find_element_by_xpath is deprecated. Please use find_element(by=By.XPATH, value=xpath) instead\n",
      "  driver.find_element_by_xpath(\"(//body)[1]\").text\n"
     ]
    }
   ],
   "source": [
    "try:\n",
    "    try:\n",
    "        driver.get(\"https://www.pulse.com.gh/\") \n",
    "    except Exception:\n",
    "        pass\n",
    "    button = driver.find_element_by_xpath(\"(//div[@id='search-button'])[1]\")\n",
    "    ActionChains(driver).move_to_element(button).click(button).perform()\n",
    "    time.sleep(5)\n",
    "    driver.find_element_by_xpath(\"(//button[normalize-space()='O'])[1]\").click()\n",
    "    driver.find_element_by_xpath(\"(//input[@placeholder='I’m looking for...'])[1]\").send_keys(new_lists[1])\n",
    "    try:\n",
    "        driver.find_element_by_xpath(\"(//button[normalize-space()='O'])[1]\").click()\n",
    "        time.sleep(30)\n",
    "    except Exception:\n",
    "        pass        \n",
    "    try:\n",
    "        driver.find_element_by_xpath(\"(//div[@class='gradient-overlay'])[1]\").click()\n",
    "        time.sleep(30)\n",
    "    except Exception:\n",
    "        pass\n",
    "    driver.find_element_by_xpath(\"(//body)[1]\").text\n",
    "except Exception:\n",
    "    pass"
   ]
  },
  {
   "cell_type": "code",
   "execution_count": 79,
   "id": "e8a36bf4-0f79-4dc7-b1d4-d7a345a836bc",
   "metadata": {},
   "outputs": [
    {
     "name": "stderr",
     "output_type": "stream",
     "text": [
      "C:\\Users\\kofi\\AppData\\Local\\Temp/ipykernel_10708/3425895291.py:2: DeprecationWarning: find_element_by_xpath is deprecated. Please use find_element(by=By.XPATH, value=xpath) instead\n",
      "  head2 = driver.find_element_by_xpath(\"(//h1[contains(@class,'article-headline')])[1]\").text\n"
     ]
    }
   ],
   "source": [
    "try:\n",
    "    head2 = driver.find_element_by_xpath(\"(//h1[contains(@class,'article-headline')])[1]\").text\n",
    "    second = driver.current_url\n",
    "except Exception:\n",
    "    pass"
   ]
  },
  {
   "cell_type": "code",
   "execution_count": 80,
   "id": "e4f21be5-c851-4740-af81-a6c5ff038ac0",
   "metadata": {},
   "outputs": [],
   "source": [
    "hh2 = [] #urls, keynames\n",
    "try:\n",
    "    h2 = head2\n",
    "except Exception:\n",
    "    h2 = 'unavailable'\n",
    "hh2.append(h2)"
   ]
  },
  {
   "cell_type": "markdown",
   "id": "19b0f08d-f22f-41ca-9dbb-3ca32f11d58b",
   "metadata": {
    "jupyter": {
     "source_hidden": true
    },
    "tags": []
   },
   "source": [
    "## 3"
   ]
  },
  {
   "cell_type": "markdown",
   "id": "a83dd92a-bcab-4737-8c69-9bcffa836c3f",
   "metadata": {},
   "source": [
    "## 3"
   ]
  },
  {
   "cell_type": "code",
   "execution_count": 82,
   "id": "fb5bbe21-377f-4df9-bb91-3db3b231b588",
   "metadata": {},
   "outputs": [
    {
     "name": "stderr",
     "output_type": "stream",
     "text": [
      "C:\\Users\\kofi\\AppData\\Local\\Temp/ipykernel_10708/1922046289.py:6: DeprecationWarning: find_element_by_xpath is deprecated. Please use find_element(by=By.XPATH, value=xpath) instead\n",
      "  button = driver.find_element_by_xpath(\"(//div[@id='search-button'])[1]\")\n",
      "C:\\Users\\kofi\\AppData\\Local\\Temp/ipykernel_10708/1922046289.py:9: DeprecationWarning: find_element_by_xpath is deprecated. Please use find_element(by=By.XPATH, value=xpath) instead\n",
      "  driver.find_element_by_xpath(\"(//button[normalize-space()='O'])[1]\").click()\n",
      "C:\\Users\\kofi\\AppData\\Local\\Temp/ipykernel_10708/1922046289.py:10: DeprecationWarning: find_element_by_xpath is deprecated. Please use find_element(by=By.XPATH, value=xpath) instead\n",
      "  driver.find_element_by_xpath(\"(//input[@placeholder='I’m looking for...'])[1]\").send_keys(new_lists[2])\n",
      "C:\\Users\\kofi\\AppData\\Local\\Temp/ipykernel_10708/1922046289.py:12: DeprecationWarning: find_element_by_xpath is deprecated. Please use find_element(by=By.XPATH, value=xpath) instead\n",
      "  driver.find_element_by_xpath(\"(//button[normalize-space()='O'])[1]\").click()\n",
      "C:\\Users\\kofi\\AppData\\Local\\Temp/ipykernel_10708/1922046289.py:17: DeprecationWarning: find_element_by_xpath is deprecated. Please use find_element(by=By.XPATH, value=xpath) instead\n",
      "  driver.find_element_by_xpath(\"(//div[@class='gradient-overlay'])[1]\").click()\n",
      "C:\\Users\\kofi\\AppData\\Local\\Temp/ipykernel_10708/1922046289.py:21: DeprecationWarning: find_element_by_xpath is deprecated. Please use find_element(by=By.XPATH, value=xpath) instead\n",
      "  driver.find_element_by_xpath(\"(//body)[1]\").text\n"
     ]
    }
   ],
   "source": [
    "try:\n",
    "    try:\n",
    "        driver.get(\"https://www.pulse.com.gh/\") \n",
    "    except Exception:\n",
    "        pass\n",
    "    button = driver.find_element_by_xpath(\"(//div[@id='search-button'])[1]\")\n",
    "    ActionChains(driver).move_to_element(button).click(button).perform()\n",
    "    time.sleep(5)\n",
    "    driver.find_element_by_xpath(\"(//button[normalize-space()='O'])[1]\").click()\n",
    "    driver.find_element_by_xpath(\"(//input[@placeholder='I’m looking for...'])[1]\").send_keys(new_lists[2])\n",
    "    try:\n",
    "        driver.find_element_by_xpath(\"(//button[normalize-space()='O'])[1]\").click()\n",
    "        time.sleep(30)\n",
    "    except Exception:\n",
    "        pass        \n",
    "    try:\n",
    "        driver.find_element_by_xpath(\"(//div[@class='gradient-overlay'])[1]\").click()\n",
    "        time.sleep(30)\n",
    "    except Exception:\n",
    "        pass\n",
    "    driver.find_element_by_xpath(\"(//body)[1]\").text\n",
    "except Exception:\n",
    "    pass"
   ]
  },
  {
   "cell_type": "code",
   "execution_count": 83,
   "id": "b56d3a19-98a3-4f61-a9d2-8d768aef1f76",
   "metadata": {},
   "outputs": [
    {
     "name": "stderr",
     "output_type": "stream",
     "text": [
      "C:\\Users\\kofi\\AppData\\Local\\Temp/ipykernel_10708/1103304188.py:2: DeprecationWarning: find_element_by_xpath is deprecated. Please use find_element(by=By.XPATH, value=xpath) instead\n",
      "  head3 = driver.find_element_by_xpath(\"(//h1[contains(@class,'article-headline')])[1]\").text\n"
     ]
    }
   ],
   "source": [
    "try:\n",
    "    head3 = driver.find_element_by_xpath(\"(//h1[contains(@class,'article-headline')])[1]\").text\n",
    "    third = driver.current_url\n",
    "except Exception:\n",
    "    pass"
   ]
  },
  {
   "cell_type": "code",
   "execution_count": 84,
   "id": "ab69131b-e2e9-4edd-a00f-2261641a4cbb",
   "metadata": {},
   "outputs": [],
   "source": [
    "hh3 = [] #urls, keynames\n",
    "try:\n",
    "    h3 = head3\n",
    "except Exception:\n",
    "    h3 = 'unavailable'\n",
    "hh3.append(h3)"
   ]
  },
  {
   "cell_type": "code",
   "execution_count": 85,
   "id": "ac876440-9ed6-46ac-86c8-43c303b85b92",
   "metadata": {},
   "outputs": [
    {
     "data": {
      "text/plain": [
       "['Sam George blasts Gov’t over reports of E-levy deductions on amounts below GHc100']"
      ]
     },
     "execution_count": 85,
     "metadata": {},
     "output_type": "execute_result"
    }
   ],
   "source": [
    "hh3"
   ]
  },
  {
   "cell_type": "markdown",
   "id": "913569c2-f43f-40a8-be07-fbf1e6595c35",
   "metadata": {},
   "source": [
    "## 4"
   ]
  },
  {
   "cell_type": "code",
   "execution_count": 86,
   "id": "8531a0cc-cb0e-480e-b181-d3905579969d",
   "metadata": {},
   "outputs": [
    {
     "name": "stderr",
     "output_type": "stream",
     "text": [
      "C:\\Users\\kofi\\AppData\\Local\\Temp/ipykernel_10708/1926902959.py:6: DeprecationWarning: find_element_by_xpath is deprecated. Please use find_element(by=By.XPATH, value=xpath) instead\n",
      "  button = driver.find_element_by_xpath(\"(//div[@id='search-button'])[1]\")\n",
      "C:\\Users\\kofi\\AppData\\Local\\Temp/ipykernel_10708/1926902959.py:9: DeprecationWarning: find_element_by_xpath is deprecated. Please use find_element(by=By.XPATH, value=xpath) instead\n",
      "  driver.find_element_by_xpath(\"(//button[normalize-space()='O'])[1]\").click()\n",
      "C:\\Users\\kofi\\AppData\\Local\\Temp/ipykernel_10708/1926902959.py:10: DeprecationWarning: find_element_by_xpath is deprecated. Please use find_element(by=By.XPATH, value=xpath) instead\n",
      "  driver.find_element_by_xpath(\"(//input[@placeholder='I’m looking for...'])[1]\").send_keys(new_lists[3])\n",
      "C:\\Users\\kofi\\AppData\\Local\\Temp/ipykernel_10708/1926902959.py:12: DeprecationWarning: find_element_by_xpath is deprecated. Please use find_element(by=By.XPATH, value=xpath) instead\n",
      "  driver.find_element_by_xpath(\"(//button[normalize-space()='O'])[1]\").click()\n",
      "C:\\Users\\kofi\\AppData\\Local\\Temp/ipykernel_10708/1926902959.py:17: DeprecationWarning: find_element_by_xpath is deprecated. Please use find_element(by=By.XPATH, value=xpath) instead\n",
      "  driver.find_element_by_xpath(\"(//div[@class='gradient-overlay'])[1]\").click()\n",
      "C:\\Users\\kofi\\AppData\\Local\\Temp/ipykernel_10708/1926902959.py:21: DeprecationWarning: find_element_by_xpath is deprecated. Please use find_element(by=By.XPATH, value=xpath) instead\n",
      "  driver.find_element_by_xpath(\"(//body)[1]\").text\n"
     ]
    }
   ],
   "source": [
    "try:\n",
    "    try:\n",
    "        driver.get(\"https://www.pulse.com.gh/\") \n",
    "    except Exception:\n",
    "        pass\n",
    "    button = driver.find_element_by_xpath(\"(//div[@id='search-button'])[1]\")\n",
    "    ActionChains(driver).move_to_element(button).click(button).perform()\n",
    "    time.sleep(5)\n",
    "    driver.find_element_by_xpath(\"(//button[normalize-space()='O'])[1]\").click()\n",
    "    driver.find_element_by_xpath(\"(//input[@placeholder='I’m looking for...'])[1]\").send_keys(new_lists[3])\n",
    "    try:\n",
    "        driver.find_element_by_xpath(\"(//button[normalize-space()='O'])[1]\").click()\n",
    "        time.sleep(30)\n",
    "    except Exception:\n",
    "        pass        \n",
    "    try:\n",
    "        driver.find_element_by_xpath(\"(//div[@class='gradient-overlay'])[1]\").click()\n",
    "        time.sleep(30)\n",
    "    except Exception:\n",
    "        pass\n",
    "    driver.find_element_by_xpath(\"(//body)[1]\").text\n",
    "except Exception:\n",
    "    pass\n",
    "#driver.find_element_by_xpath(\"(//h1[contains(@class,'article-headline')])[1]\").text"
   ]
  },
  {
   "cell_type": "code",
   "execution_count": 87,
   "id": "9ef10236-54f5-4e1a-a09f-544663e0eb52",
   "metadata": {},
   "outputs": [
    {
     "name": "stderr",
     "output_type": "stream",
     "text": [
      "C:\\Users\\kofi\\AppData\\Local\\Temp/ipykernel_10708/1626122099.py:2: DeprecationWarning: find_element_by_xpath is deprecated. Please use find_element(by=By.XPATH, value=xpath) instead\n",
      "  head4 = driver.find_element_by_xpath(\"(//h1[contains(@class,'article-headline')])[1]\").text\n"
     ]
    }
   ],
   "source": [
    "try:\n",
    "    head4 = driver.find_element_by_xpath(\"(//h1[contains(@class,'article-headline')])[1]\").text\n",
    "    forth = driver.current_url\n",
    "except Exception:\n",
    "    pass"
   ]
  },
  {
   "cell_type": "code",
   "execution_count": 88,
   "id": "a5c74497-8eae-4504-8430-8b249b983351",
   "metadata": {},
   "outputs": [],
   "source": [
    "hh4 = [] #urls, keynames\n",
    "try:\n",
    "    h4 = head4\n",
    "except Exception:\n",
    "    h4 = 'unavailable'\n",
    "hh4.append(h4)"
   ]
  },
  {
   "cell_type": "code",
   "execution_count": 89,
   "id": "b1a8c211-647f-4060-a441-81662c8cee57",
   "metadata": {},
   "outputs": [
    {
     "data": {
      "text/plain": [
       "[\"There's a positive outlook for mass grocery retail in Ghana as household spending increases\"]"
      ]
     },
     "execution_count": 89,
     "metadata": {},
     "output_type": "execute_result"
    }
   ],
   "source": [
    "hh4"
   ]
  },
  {
   "cell_type": "markdown",
   "id": "d1854de3-ea88-49b3-96eb-a0898b373289",
   "metadata": {},
   "source": [
    "## 5"
   ]
  },
  {
   "cell_type": "code",
   "execution_count": 93,
   "id": "01156528-abf6-46bd-84cb-5adb9fca9720",
   "metadata": {},
   "outputs": [
    {
     "name": "stderr",
     "output_type": "stream",
     "text": [
      "C:\\Users\\kofi\\AppData\\Local\\Temp/ipykernel_10708/1192959859.py:6: DeprecationWarning: find_element_by_xpath is deprecated. Please use find_element(by=By.XPATH, value=xpath) instead\n",
      "  button = driver.find_element_by_xpath(\"(//div[@id='search-button'])[1]\")\n",
      "C:\\Users\\kofi\\AppData\\Local\\Temp/ipykernel_10708/1192959859.py:9: DeprecationWarning: find_element_by_xpath is deprecated. Please use find_element(by=By.XPATH, value=xpath) instead\n",
      "  driver.find_element_by_xpath(\"(//button[normalize-space()='O'])[1]\").click()\n",
      "C:\\Users\\kofi\\AppData\\Local\\Temp/ipykernel_10708/1192959859.py:10: DeprecationWarning: find_element_by_xpath is deprecated. Please use find_element(by=By.XPATH, value=xpath) instead\n",
      "  driver.find_element_by_xpath(\"(//input[@placeholder='I’m looking for...'])[1]\").send_keys(new_lists[4])\n",
      "C:\\Users\\kofi\\AppData\\Local\\Temp/ipykernel_10708/1192959859.py:12: DeprecationWarning: find_element_by_xpath is deprecated. Please use find_element(by=By.XPATH, value=xpath) instead\n",
      "  driver.find_element_by_xpath(\"(//button[normalize-space()='O'])[1]\").click()\n",
      "C:\\Users\\kofi\\AppData\\Local\\Temp/ipykernel_10708/1192959859.py:17: DeprecationWarning: find_element_by_xpath is deprecated. Please use find_element(by=By.XPATH, value=xpath) instead\n",
      "  driver.find_element_by_xpath(\"(//div[@class='gradient-overlay'])[1]\").click()\n",
      "C:\\Users\\kofi\\AppData\\Local\\Temp/ipykernel_10708/1192959859.py:21: DeprecationWarning: find_element_by_xpath is deprecated. Please use find_element(by=By.XPATH, value=xpath) instead\n",
      "  driver.find_element_by_xpath(\"(//body)[1]\").text\n"
     ]
    }
   ],
   "source": [
    "try:\n",
    "    try:\n",
    "        driver.get(\"https://www.pulse.com.gh/\") \n",
    "    except Exception:\n",
    "        pass\n",
    "    button = driver.find_element_by_xpath(\"(//div[@id='search-button'])[1]\")\n",
    "    ActionChains(driver).move_to_element(button).click(button).perform()\n",
    "    time.sleep(5)\n",
    "    driver.find_element_by_xpath(\"(//button[normalize-space()='O'])[1]\").click()\n",
    "    driver.find_element_by_xpath(\"(//input[@placeholder='I’m looking for...'])[1]\").send_keys(new_lists[4])\n",
    "    try:\n",
    "        driver.find_element_by_xpath(\"(//button[normalize-space()='O'])[1]\").click()\n",
    "        time.sleep(30)\n",
    "    except Exception:\n",
    "        pass        \n",
    "    try:\n",
    "        driver.find_element_by_xpath(\"(//div[@class='gradient-overlay'])[1]\").click()\n",
    "        time.sleep(30)\n",
    "    except Exception:\n",
    "        pass\n",
    "    driver.find_element_by_xpath(\"(//body)[1]\").text\n",
    "except Exception:\n",
    "    pass\n",
    "#driver.find_element_by_xpath(\"(//h1[contains(@class,'article-headline')])[1]\").text"
   ]
  },
  {
   "cell_type": "code",
   "execution_count": 94,
   "id": "23d9ffa2-01a5-40c1-b5df-f47c6afe397e",
   "metadata": {},
   "outputs": [
    {
     "name": "stderr",
     "output_type": "stream",
     "text": [
      "C:\\Users\\kofi\\AppData\\Local\\Temp/ipykernel_10708/2363067687.py:2: DeprecationWarning: find_element_by_xpath is deprecated. Please use find_element(by=By.XPATH, value=xpath) instead\n",
      "  head5 = driver.find_element_by_xpath(\"(//h1[contains(@class,'article-headline')])[1]\").text\n"
     ]
    }
   ],
   "source": [
    "try:\n",
    "    head5 = driver.find_element_by_xpath(\"(//h1[contains(@class,'article-headline')])[1]\").text\n",
    "    fifth = driver.current_url\n",
    "except Exception:\n",
    "    pass"
   ]
  },
  {
   "cell_type": "code",
   "execution_count": 95,
   "id": "562aefa0-ff1c-4f05-9c47-9eb5ad06d154",
   "metadata": {},
   "outputs": [],
   "source": [
    "hh5 = [] #urls, keynames\n",
    "try:\n",
    "    h5 = head5\n",
    "except Exception:\n",
    "    h5 = 'unavailable'\n",
    "hh5.append(h5)"
   ]
  },
  {
   "cell_type": "code",
   "execution_count": 96,
   "id": "577fefac-60d5-4d66-884f-6654704f4a56",
   "metadata": {},
   "outputs": [
    {
     "data": {
      "text/plain": [
       "['Take this quiz and know more about the Vice Chancellors of the University of Ghana, Legon']"
      ]
     },
     "execution_count": 96,
     "metadata": {},
     "output_type": "execute_result"
    }
   ],
   "source": [
    "hh5"
   ]
  },
  {
   "cell_type": "markdown",
   "id": "4a62ccbc-38e4-4082-a784-93a3d10a8845",
   "metadata": {},
   "source": [
    "## 6"
   ]
  },
  {
   "cell_type": "code",
   "execution_count": 97,
   "id": "792e6008-3577-4e5a-81a6-f1b90babc5a7",
   "metadata": {},
   "outputs": [
    {
     "name": "stderr",
     "output_type": "stream",
     "text": [
      "C:\\Users\\kofi\\AppData\\Local\\Temp/ipykernel_10708/2153915408.py:6: DeprecationWarning: find_element_by_xpath is deprecated. Please use find_element(by=By.XPATH, value=xpath) instead\n",
      "  button = driver.find_element_by_xpath(\"(//div[@id='search-button'])[1]\")\n",
      "C:\\Users\\kofi\\AppData\\Local\\Temp/ipykernel_10708/2153915408.py:9: DeprecationWarning: find_element_by_xpath is deprecated. Please use find_element(by=By.XPATH, value=xpath) instead\n",
      "  driver.find_element_by_xpath(\"(//button[normalize-space()='O'])[1]\").click()\n",
      "C:\\Users\\kofi\\AppData\\Local\\Temp/ipykernel_10708/2153915408.py:10: DeprecationWarning: find_element_by_xpath is deprecated. Please use find_element(by=By.XPATH, value=xpath) instead\n",
      "  driver.find_element_by_xpath(\"(//input[@placeholder='I’m looking for...'])[1]\").send_keys(new_lists[5])\n"
     ]
    }
   ],
   "source": [
    "try:\n",
    "    try:\n",
    "        driver.get(\"https://www.pulse.com.gh/\") \n",
    "    except Exception:\n",
    "        pass\n",
    "    button = driver.find_element_by_xpath(\"(//div[@id='search-button'])[1]\")\n",
    "    ActionChains(driver).move_to_element(button).click(button).perform()\n",
    "    time.sleep(5)\n",
    "    driver.find_element_by_xpath(\"(//button[normalize-space()='O'])[1]\").click()\n",
    "    driver.find_element_by_xpath(\"(//input[@placeholder='I’m looking for...'])[1]\").send_keys(new_lists[5])\n",
    "    try:\n",
    "        driver.find_element_by_xpath(\"(//button[normalize-space()='O'])[1]\").click()\n",
    "        time.sleep(30)\n",
    "    except Exception:\n",
    "        pass        \n",
    "    try:\n",
    "        driver.find_element_by_xpath(\"(//div[@class='gradient-overlay'])[1]\").click()\n",
    "        time.sleep(30)\n",
    "    except Exception:\n",
    "        pass\n",
    "    driver.find_element_by_xpath(\"(//body)[1]\").text\n",
    "except Exception:\n",
    "    pass\n",
    "#driver.find_element_by_xpath(\"(//h1[contains(@class,'article-headline')])[1]\").text"
   ]
  },
  {
   "cell_type": "code",
   "execution_count": 98,
   "id": "78ac6257-8146-4848-956a-9bc5bdc24c31",
   "metadata": {},
   "outputs": [
    {
     "name": "stderr",
     "output_type": "stream",
     "text": [
      "C:\\Users\\kofi\\AppData\\Local\\Temp/ipykernel_10708/2175114964.py:2: DeprecationWarning: find_element_by_xpath is deprecated. Please use find_element(by=By.XPATH, value=xpath) instead\n",
      "  head6 = driver.find_element_by_xpath(\"(//h1[contains(@class,'article-headline')])[1]\").text\n"
     ]
    }
   ],
   "source": [
    "try:\n",
    "    head6 = driver.find_element_by_xpath(\"(//h1[contains(@class,'article-headline')])[1]\").text\n",
    "    sixth = driver.current_url\n",
    "except Exception:\n",
    "    pass"
   ]
  },
  {
   "cell_type": "code",
   "execution_count": 99,
   "id": "410472bf-cf5d-4c08-80a4-d638da028b62",
   "metadata": {},
   "outputs": [],
   "source": [
    "hh6 = [] #urls, keynames\n",
    "try:\n",
    "    h6 = head6\n",
    "except Exception:\n",
    "    h6 = 'unavailable'\n",
    "hh6.append(h6)"
   ]
  },
  {
   "cell_type": "markdown",
   "id": "a5b4f09f-0e67-4a36-969a-742ed0ba4903",
   "metadata": {},
   "source": [
    "## 7"
   ]
  },
  {
   "cell_type": "code",
   "execution_count": 100,
   "id": "86aa9bf2-baae-49da-9942-94a49b2635dd",
   "metadata": {},
   "outputs": [
    {
     "name": "stderr",
     "output_type": "stream",
     "text": [
      "C:\\Users\\kofi\\AppData\\Local\\Temp/ipykernel_10708/814661503.py:6: DeprecationWarning: find_element_by_xpath is deprecated. Please use find_element(by=By.XPATH, value=xpath) instead\n",
      "  button = driver.find_element_by_xpath(\"(//div[@id='search-button'])[1]\")\n",
      "C:\\Users\\kofi\\AppData\\Local\\Temp/ipykernel_10708/814661503.py:9: DeprecationWarning: find_element_by_xpath is deprecated. Please use find_element(by=By.XPATH, value=xpath) instead\n",
      "  driver.find_element_by_xpath(\"(//button[normalize-space()='O'])[1]\").click()\n",
      "C:\\Users\\kofi\\AppData\\Local\\Temp/ipykernel_10708/814661503.py:10: DeprecationWarning: find_element_by_xpath is deprecated. Please use find_element(by=By.XPATH, value=xpath) instead\n",
      "  driver.find_element_by_xpath(\"(//input[@placeholder='I’m looking for...'])[1]\").send_keys(new_lists[6])\n"
     ]
    }
   ],
   "source": [
    "try:\n",
    "    try:\n",
    "        driver.get(\"https://www.pulse.com.gh/\") \n",
    "    except Exception:\n",
    "        pass\n",
    "    button = driver.find_element_by_xpath(\"(//div[@id='search-button'])[1]\")\n",
    "    ActionChains(driver).move_to_element(button).click(button).perform()\n",
    "    time.sleep(5)\n",
    "    driver.find_element_by_xpath(\"(//button[normalize-space()='O'])[1]\").click()\n",
    "    driver.find_element_by_xpath(\"(//input[@placeholder='I’m looking for...'])[1]\").send_keys(new_lists[6])\n",
    "    try:\n",
    "        driver.find_element_by_xpath(\"(//button[normalize-space()='O'])[1]\").click()\n",
    "        time.sleep(30)\n",
    "    except Exception:\n",
    "        pass        \n",
    "    try:\n",
    "        driver.find_element_by_xpath(\"(//div[@class='gradient-overlay'])[1]\").click()\n",
    "        time.sleep(30)\n",
    "    except Exception:\n",
    "        pass\n",
    "    driver.find_element_by_xpath(\"(//body)[1]\").text\n",
    "except Exception:\n",
    "    pass\n",
    "#driver.find_element_by_xpath(\"(//h1[contains(@class,'article-headline')])[1]\").text"
   ]
  },
  {
   "cell_type": "code",
   "execution_count": 101,
   "id": "619c5efd-4de6-485e-9724-8dbb0f389b59",
   "metadata": {},
   "outputs": [
    {
     "name": "stderr",
     "output_type": "stream",
     "text": [
      "C:\\Users\\kofi\\AppData\\Local\\Temp/ipykernel_10708/3908963229.py:2: DeprecationWarning: find_element_by_xpath is deprecated. Please use find_element(by=By.XPATH, value=xpath) instead\n",
      "  head7 = driver.find_element_by_xpath(\"(//h1[contains(@class,'article-headline')])[1]\").text\n"
     ]
    }
   ],
   "source": [
    "try:\n",
    "    head7 = driver.find_element_by_xpath(\"(//h1[contains(@class,'article-headline')])[1]\").text\n",
    "    seventh = driver.current_url\n",
    "except Exception:\n",
    "    pass"
   ]
  },
  {
   "cell_type": "code",
   "execution_count": 102,
   "id": "b5fa218c-ad74-4172-9306-d27cc3dc463c",
   "metadata": {},
   "outputs": [],
   "source": [
    "hh7 = [] #urls, keynames\n",
    "try:\n",
    "    h7 = head7\n",
    "except Exception:\n",
    "    h7 = 'unavailable'\n",
    "hh7.append(h7)"
   ]
  },
  {
   "cell_type": "code",
   "execution_count": 103,
   "id": "9f790323-8a27-4ea2-8df2-297e8e4d16a9",
   "metadata": {},
   "outputs": [
    {
     "data": {
      "text/plain": [
       "['unavailable']"
      ]
     },
     "execution_count": 103,
     "metadata": {},
     "output_type": "execute_result"
    }
   ],
   "source": [
    "hh7"
   ]
  },
  {
   "cell_type": "markdown",
   "id": "6176adb5-1910-4930-b101-8d90cb101442",
   "metadata": {},
   "source": [
    "## 8"
   ]
  },
  {
   "cell_type": "code",
   "execution_count": 104,
   "id": "ac6f95ac-a5d8-4a46-abb4-b3fa9b206838",
   "metadata": {},
   "outputs": [
    {
     "name": "stderr",
     "output_type": "stream",
     "text": [
      "C:\\Users\\kofi\\AppData\\Local\\Temp/ipykernel_10708/2857151767.py:6: DeprecationWarning: find_element_by_xpath is deprecated. Please use find_element(by=By.XPATH, value=xpath) instead\n",
      "  button = driver.find_element_by_xpath(\"(//div[@id='search-button'])[1]\")\n",
      "C:\\Users\\kofi\\AppData\\Local\\Temp/ipykernel_10708/2857151767.py:9: DeprecationWarning: find_element_by_xpath is deprecated. Please use find_element(by=By.XPATH, value=xpath) instead\n",
      "  driver.find_element_by_xpath(\"(//button[normalize-space()='O'])[1]\").click()\n",
      "C:\\Users\\kofi\\AppData\\Local\\Temp/ipykernel_10708/2857151767.py:10: DeprecationWarning: find_element_by_xpath is deprecated. Please use find_element(by=By.XPATH, value=xpath) instead\n",
      "  driver.find_element_by_xpath(\"(//input[@placeholder='I’m looking for...'])[1]\").send_keys(new_lists[7])\n"
     ]
    }
   ],
   "source": [
    "try:\n",
    "    try:\n",
    "        driver.get(\"https://www.pulse.com.gh/\") \n",
    "    except Exception:\n",
    "        pass\n",
    "    button = driver.find_element_by_xpath(\"(//div[@id='search-button'])[1]\")\n",
    "    ActionChains(driver).move_to_element(button).click(button).perform()\n",
    "    time.sleep(5)\n",
    "    driver.find_element_by_xpath(\"(//button[normalize-space()='O'])[1]\").click()\n",
    "    driver.find_element_by_xpath(\"(//input[@placeholder='I’m looking for...'])[1]\").send_keys(new_lists[7])\n",
    "    try:\n",
    "        driver.find_element_by_xpath(\"(//button[normalize-space()='O'])[1]\").click()\n",
    "        time.sleep(30)\n",
    "    except Exception:\n",
    "        pass        \n",
    "    try:\n",
    "        driver.find_element_by_xpath(\"(//div[@class='gradient-overlay'])[1]\").click()\n",
    "        time.sleep(30)\n",
    "    except Exception:\n",
    "        pass\n",
    "    driver.find_element_by_xpath(\"(//body)[1]\").text\n",
    "except Exception:\n",
    "    pass\n",
    "#driver.find_element_by_xpath(\"(//h1[contains(@class,'article-headline')])[1]\").text"
   ]
  },
  {
   "cell_type": "code",
   "execution_count": 105,
   "id": "a8002703-1f09-4686-8a1f-39b5d9c00d9a",
   "metadata": {},
   "outputs": [
    {
     "name": "stderr",
     "output_type": "stream",
     "text": [
      "C:\\Users\\kofi\\AppData\\Local\\Temp/ipykernel_10708/1321050495.py:2: DeprecationWarning: find_element_by_xpath is deprecated. Please use find_element(by=By.XPATH, value=xpath) instead\n",
      "  head8 = driver.find_element_by_xpath(\"(//h1[contains(@class,'article-headline')])[1]\").text\n"
     ]
    }
   ],
   "source": [
    "try:\n",
    "    head8 = driver.find_element_by_xpath(\"(//h1[contains(@class,'article-headline')])[1]\").text\n",
    "    eighth = driver.current_url\n",
    "except Exception:\n",
    "    pass"
   ]
  },
  {
   "cell_type": "code",
   "execution_count": 106,
   "id": "46eddc6a-08fa-4a94-b6d6-68c583117982",
   "metadata": {},
   "outputs": [],
   "source": [
    "hh8 = [] #urls, keynames\n",
    "try:\n",
    "    h8 = head8\n",
    "except Exception:\n",
    "    h8 = 'unavailable'\n",
    "hh8.append(h8)"
   ]
  },
  {
   "cell_type": "code",
   "execution_count": 107,
   "id": "99956d11-de19-4077-a0d2-18949a5ae32c",
   "metadata": {},
   "outputs": [
    {
     "data": {
      "text/plain": [
       "['unavailable']"
      ]
     },
     "execution_count": 107,
     "metadata": {},
     "output_type": "execute_result"
    }
   ],
   "source": [
    "hh8"
   ]
  },
  {
   "cell_type": "markdown",
   "id": "51f76a60-6c58-412b-b786-f1189982058b",
   "metadata": {},
   "source": [
    "## 9"
   ]
  },
  {
   "cell_type": "code",
   "execution_count": 108,
   "id": "c21c72e0-46b7-41d0-b420-27abb9842344",
   "metadata": {},
   "outputs": [
    {
     "name": "stderr",
     "output_type": "stream",
     "text": [
      "C:\\Users\\kofi\\AppData\\Local\\Temp/ipykernel_10708/548425996.py:6: DeprecationWarning: find_element_by_xpath is deprecated. Please use find_element(by=By.XPATH, value=xpath) instead\n",
      "  button = driver.find_element_by_xpath(\"(//div[@id='search-button'])[1]\")\n",
      "C:\\Users\\kofi\\AppData\\Local\\Temp/ipykernel_10708/548425996.py:9: DeprecationWarning: find_element_by_xpath is deprecated. Please use find_element(by=By.XPATH, value=xpath) instead\n",
      "  driver.find_element_by_xpath(\"(//button[normalize-space()='O'])[1]\").click()\n",
      "C:\\Users\\kofi\\AppData\\Local\\Temp/ipykernel_10708/548425996.py:10: DeprecationWarning: find_element_by_xpath is deprecated. Please use find_element(by=By.XPATH, value=xpath) instead\n",
      "  driver.find_element_by_xpath(\"(//input[@placeholder='I’m looking for...'])[1]\").send_keys(new_lists[8])\n"
     ]
    }
   ],
   "source": [
    "try:\n",
    "    try:\n",
    "        driver.get(\"https://www.pulse.com.gh/\") \n",
    "    except Exception:\n",
    "        pass\n",
    "    button = driver.find_element_by_xpath(\"(//div[@id='search-button'])[1]\")\n",
    "    ActionChains(driver).move_to_element(button).click(button).perform()\n",
    "    time.sleep(5)\n",
    "    driver.find_element_by_xpath(\"(//button[normalize-space()='O'])[1]\").click()\n",
    "    driver.find_element_by_xpath(\"(//input[@placeholder='I’m looking for...'])[1]\").send_keys(new_lists[8])\n",
    "    try:\n",
    "        driver.find_element_by_xpath(\"(//button[normalize-space()='O'])[1]\").click()\n",
    "        time.sleep(30)\n",
    "    except Exception:\n",
    "        pass        \n",
    "    try:\n",
    "        driver.find_element_by_xpath(\"(//div[@class='gradient-overlay'])[1]\").click()\n",
    "        time.sleep(30)\n",
    "    except Exception:\n",
    "        pass\n",
    "    driver.find_element_by_xpath(\"(//body)[1]\").text\n",
    "except Exception:\n",
    "    pass\n",
    "#driver.find_element_by_xpath(\"(//h1[contains(@class,'article-headline')])[1]\").text"
   ]
  },
  {
   "cell_type": "code",
   "execution_count": 109,
   "id": "09845f49-fcc0-45ac-9e41-0ee696521ca4",
   "metadata": {},
   "outputs": [
    {
     "name": "stderr",
     "output_type": "stream",
     "text": [
      "C:\\Users\\kofi\\AppData\\Local\\Temp/ipykernel_10708/1896491085.py:2: DeprecationWarning: find_element_by_xpath is deprecated. Please use find_element(by=By.XPATH, value=xpath) instead\n",
      "  head9 = driver.find_element_by_xpath(\"(//h1[contains(@class,'article-headline')])[1]\").text\n"
     ]
    }
   ],
   "source": [
    "try:\n",
    "    head9 = driver.find_element_by_xpath(\"(//h1[contains(@class,'article-headline')])[1]\").text\n",
    "    nineth = driver.current_url\n",
    "except Exception:\n",
    "    pass"
   ]
  },
  {
   "cell_type": "code",
   "execution_count": 110,
   "id": "06a44af2-ce79-46e0-b3a8-271d74f51f67",
   "metadata": {},
   "outputs": [],
   "source": [
    "hh9 = [] #urls, keynames\n",
    "try:\n",
    "    h9 = head9\n",
    "except Exception:\n",
    "    h9 = 'unavailable'\n",
    "hh9.append(h9)"
   ]
  },
  {
   "cell_type": "code",
   "execution_count": 111,
   "id": "853ca304-41b7-4406-8cc6-39e4bb51fb80",
   "metadata": {},
   "outputs": [
    {
     "data": {
      "text/plain": [
       "['unavailable']"
      ]
     },
     "execution_count": 111,
     "metadata": {},
     "output_type": "execute_result"
    }
   ],
   "source": [
    "hh9"
   ]
  },
  {
   "cell_type": "markdown",
   "id": "8415e258-c78f-4c7e-90c7-2799754af100",
   "metadata": {},
   "source": [
    "## 10"
   ]
  },
  {
   "cell_type": "code",
   "execution_count": 112,
   "id": "ca9cd2a4-82e1-44d3-8839-49a2ecc489f4",
   "metadata": {},
   "outputs": [
    {
     "name": "stderr",
     "output_type": "stream",
     "text": [
      "C:\\Users\\kofi\\AppData\\Local\\Temp/ipykernel_10708/1396519807.py:6: DeprecationWarning: find_element_by_xpath is deprecated. Please use find_element(by=By.XPATH, value=xpath) instead\n",
      "  button = driver.find_element_by_xpath(\"(//div[@id='search-button'])[1]\")\n",
      "C:\\Users\\kofi\\AppData\\Local\\Temp/ipykernel_10708/1396519807.py:9: DeprecationWarning: find_element_by_xpath is deprecated. Please use find_element(by=By.XPATH, value=xpath) instead\n",
      "  driver.find_element_by_xpath(\"(//button[normalize-space()='O'])[1]\").click()\n",
      "C:\\Users\\kofi\\AppData\\Local\\Temp/ipykernel_10708/1396519807.py:10: DeprecationWarning: find_element_by_xpath is deprecated. Please use find_element(by=By.XPATH, value=xpath) instead\n",
      "  driver.find_element_by_xpath(\"(//input[@placeholder='I’m looking for...'])[1]\").send_keys(new_lists[9])\n"
     ]
    }
   ],
   "source": [
    "try:\n",
    "    try:\n",
    "        driver.get(\"https://www.pulse.com.gh/\") \n",
    "    except Exception:\n",
    "        pass\n",
    "    button = driver.find_element_by_xpath(\"(//div[@id='search-button'])[1]\")\n",
    "    ActionChains(driver).move_to_element(button).click(button).perform()\n",
    "    time.sleep(5)\n",
    "    driver.find_element_by_xpath(\"(//button[normalize-space()='O'])[1]\").click()\n",
    "    driver.find_element_by_xpath(\"(//input[@placeholder='I’m looking for...'])[1]\").send_keys(new_lists[9])\n",
    "    try:\n",
    "        driver.find_element_by_xpath(\"(//button[normalize-space()='O'])[1]\").click()\n",
    "        time.sleep(30)\n",
    "    except Exception:\n",
    "        pass        \n",
    "    try:\n",
    "        driver.find_element_by_xpath(\"(//div[@class='gradient-overlay'])[1]\").click()\n",
    "        time.sleep(30)\n",
    "    except Exception:\n",
    "        pass\n",
    "    driver.find_element_by_xpath(\"(//body)[1]\").text\n",
    "except Exception:\n",
    "    pass\n",
    "#driver.find_element_by_xpath(\"(//h1[contains(@class,'article-headline')])[1]\").text"
   ]
  },
  {
   "cell_type": "code",
   "execution_count": 113,
   "id": "663fc608-624d-4570-bc4a-5913d61650c0",
   "metadata": {},
   "outputs": [
    {
     "name": "stderr",
     "output_type": "stream",
     "text": [
      "C:\\Users\\kofi\\AppData\\Local\\Temp/ipykernel_10708/3539792414.py:2: DeprecationWarning: find_element_by_xpath is deprecated. Please use find_element(by=By.XPATH, value=xpath) instead\n",
      "  head10 = driver.find_element_by_xpath(\"(//h1[contains(@class,'article-headline')])[1]\").text\n"
     ]
    }
   ],
   "source": [
    "try:\n",
    "    head10 = driver.find_element_by_xpath(\"(//h1[contains(@class,'article-headline')])[1]\").text\n",
    "    tenth = driver.current_url\n",
    "except Exception:\n",
    "    pass"
   ]
  },
  {
   "cell_type": "code",
   "execution_count": 114,
   "id": "8761acb5-da3d-4d07-a180-73eef2e8a33f",
   "metadata": {},
   "outputs": [],
   "source": [
    "hh10 = [] #urls, keynames\n",
    "try:\n",
    "    h10 = head10\n",
    "except Exception:\n",
    "    h10 = 'unavailable'\n",
    "hh10.append(h10)"
   ]
  },
  {
   "cell_type": "code",
   "execution_count": 115,
   "id": "f50fcadb-2394-45c5-b49e-04f4f58f4ae1",
   "metadata": {},
   "outputs": [
    {
     "data": {
      "text/plain": [
       "['unavailable']"
      ]
     },
     "execution_count": 115,
     "metadata": {},
     "output_type": "execute_result"
    }
   ],
   "source": [
    "hh10"
   ]
  },
  {
   "cell_type": "markdown",
   "id": "4fe53c56-38e7-4873-9a12-200ead147723",
   "metadata": {},
   "source": [
    "## 11"
   ]
  },
  {
   "cell_type": "code",
   "execution_count": 116,
   "id": "d81dedce-0b38-44a6-a98f-ddec8e558a08",
   "metadata": {},
   "outputs": [
    {
     "name": "stderr",
     "output_type": "stream",
     "text": [
      "C:\\Users\\kofi\\AppData\\Local\\Temp/ipykernel_10708/3386310123.py:6: DeprecationWarning: find_element_by_xpath is deprecated. Please use find_element(by=By.XPATH, value=xpath) instead\n",
      "  button = driver.find_element_by_xpath(\"(//div[@id='search-button'])[1]\")\n",
      "C:\\Users\\kofi\\AppData\\Local\\Temp/ipykernel_10708/3386310123.py:9: DeprecationWarning: find_element_by_xpath is deprecated. Please use find_element(by=By.XPATH, value=xpath) instead\n",
      "  driver.find_element_by_xpath(\"(//button[normalize-space()='O'])[1]\").click()\n",
      "C:\\Users\\kofi\\AppData\\Local\\Temp/ipykernel_10708/3386310123.py:10: DeprecationWarning: find_element_by_xpath is deprecated. Please use find_element(by=By.XPATH, value=xpath) instead\n",
      "  driver.find_element_by_xpath(\"(//input[@placeholder='I’m looking for...'])[1]\").send_keys(new_lists[10])\n"
     ]
    }
   ],
   "source": [
    "try:\n",
    "    try:\n",
    "        driver.get(\"https://www.pulse.com.gh/\") \n",
    "    except Exception:\n",
    "        pass\n",
    "    button = driver.find_element_by_xpath(\"(//div[@id='search-button'])[1]\")\n",
    "    ActionChains(driver).move_to_element(button).click(button).perform()\n",
    "    time.sleep(5)\n",
    "    driver.find_element_by_xpath(\"(//button[normalize-space()='O'])[1]\").click()\n",
    "    driver.find_element_by_xpath(\"(//input[@placeholder='I’m looking for...'])[1]\").send_keys(new_lists[10])\n",
    "    try:\n",
    "        driver.find_element_by_xpath(\"(//button[normalize-space()='O'])[1]\").click()\n",
    "        time.sleep(30)\n",
    "    except Exception:\n",
    "        pass        \n",
    "    try:\n",
    "        driver.find_element_by_xpath(\"(//div[@class='gradient-overlay'])[1]\").click()\n",
    "        time.sleep(30)\n",
    "    except Exception:\n",
    "        pass\n",
    "    driver.find_element_by_xpath(\"(//body)[1]\").text\n",
    "except Exception:\n",
    "    pass\n",
    "#driver.find_element_by_xpath(\"(//h1[contains(@class,'article-headline')])[1]\").text"
   ]
  },
  {
   "cell_type": "code",
   "execution_count": 117,
   "id": "24e2b006-6f12-4a80-b5c2-67268bb8589c",
   "metadata": {},
   "outputs": [
    {
     "name": "stderr",
     "output_type": "stream",
     "text": [
      "C:\\Users\\kofi\\AppData\\Local\\Temp/ipykernel_10708/4030415922.py:2: DeprecationWarning: find_element_by_xpath is deprecated. Please use find_element(by=By.XPATH, value=xpath) instead\n",
      "  head11 = driver.find_element_by_xpath(\"(//h1[contains(@class,'article-headline')])[1]\").text\n"
     ]
    }
   ],
   "source": [
    "try:\n",
    "    head11 = driver.find_element_by_xpath(\"(//h1[contains(@class,'article-headline')])[1]\").text\n",
    "    eleventh = driver.current_url\n",
    "except Exception:\n",
    "    pass"
   ]
  },
  {
   "cell_type": "code",
   "execution_count": 118,
   "id": "6415123c-793a-40a4-b73b-a4891618264d",
   "metadata": {},
   "outputs": [],
   "source": [
    "hh11 = [] #urls, keynames\n",
    "try:\n",
    "    h11 = head11\n",
    "except Exception:\n",
    "    h11 = 'unavailable'\n",
    "hh11.append(h11)"
   ]
  },
  {
   "cell_type": "code",
   "execution_count": 119,
   "id": "26214d80-e9cc-4540-928a-7f4966a411ed",
   "metadata": {},
   "outputs": [
    {
     "data": {
      "text/plain": [
       "['unavailable']"
      ]
     },
     "execution_count": 119,
     "metadata": {},
     "output_type": "execute_result"
    }
   ],
   "source": [
    "hh11"
   ]
  },
  {
   "cell_type": "markdown",
   "id": "0d454ff1-16ad-4239-9c26-0196d9591156",
   "metadata": {},
   "source": [
    "## 12"
   ]
  },
  {
   "cell_type": "code",
   "execution_count": 121,
   "id": "166afd02-8721-4b16-92c2-c0d4287983d3",
   "metadata": {},
   "outputs": [
    {
     "name": "stderr",
     "output_type": "stream",
     "text": [
      "C:\\Users\\kofi\\AppData\\Local\\Temp/ipykernel_10708/3772975791.py:6: DeprecationWarning: find_element_by_xpath is deprecated. Please use find_element(by=By.XPATH, value=xpath) instead\n",
      "  button = driver.find_element_by_xpath(\"(//div[@id='search-button'])[1]\")\n",
      "C:\\Users\\kofi\\AppData\\Local\\Temp/ipykernel_10708/3772975791.py:9: DeprecationWarning: find_element_by_xpath is deprecated. Please use find_element(by=By.XPATH, value=xpath) instead\n",
      "  driver.find_element_by_xpath(\"(//button[normalize-space()='O'])[1]\").click()\n"
     ]
    }
   ],
   "source": [
    "try:\n",
    "    try:\n",
    "        driver.get(\"https://www.pulse.com.gh/\") \n",
    "    except Exception:\n",
    "        pass\n",
    "    button = driver.find_element_by_xpath(\"(//div[@id='search-button'])[1]\")\n",
    "    ActionChains(driver).move_to_element(button).click(button).perform()\n",
    "    time.sleep(5)\n",
    "    driver.find_element_by_xpath(\"(//button[normalize-space()='O'])[1]\").click()\n",
    "    driver.find_element_by_xpath(\"(//input[@placeholder='I’m looking for...'])[1]\").send_keys(new_lists[11])\n",
    "    try:\n",
    "        driver.find_element_by_xpath(\"(//button[normalize-space()='O'])[1]\").click()\n",
    "        time.sleep(30)\n",
    "    except Exception:\n",
    "        pass        \n",
    "    try:\n",
    "        driver.find_element_by_xpath(\"(//div[@class='gradient-overlay'])[1]\").click()\n",
    "        time.sleep(30)\n",
    "    except Exception:\n",
    "        pass\n",
    "    driver.find_element_by_xpath(\"(//body)[1]\").text\n",
    "except Exception:\n",
    "    pass\n",
    "#driver.find_element_by_xpath(\"(//h1[contains(@class,'article-headline')])[1]\").text"
   ]
  },
  {
   "cell_type": "code",
   "execution_count": 122,
   "id": "b883fcc3-3db9-41fe-ab88-71af0df215a8",
   "metadata": {},
   "outputs": [
    {
     "name": "stderr",
     "output_type": "stream",
     "text": [
      "C:\\Users\\kofi\\AppData\\Local\\Temp/ipykernel_10708/4064358327.py:2: DeprecationWarning: find_element_by_xpath is deprecated. Please use find_element(by=By.XPATH, value=xpath) instead\n",
      "  head12 = driver.find_element_by_xpath(\"(//h1[contains(@class,'article-headline')])[1]\").text\n"
     ]
    }
   ],
   "source": [
    "try:\n",
    "    head12 = driver.find_element_by_xpath(\"(//h1[contains(@class,'article-headline')])[1]\").text\n",
    "    twelveth = driver.current_url\n",
    "except Exception:\n",
    "    pass"
   ]
  },
  {
   "cell_type": "code",
   "execution_count": 123,
   "id": "f58de588-bd72-4b20-b011-9b2f3b24318d",
   "metadata": {},
   "outputs": [
    {
     "ename": "NameError",
     "evalue": "name 'hh12append' is not defined",
     "output_type": "error",
     "traceback": [
      "\u001b[1;31m---------------------------------------------------------------------------\u001b[0m",
      "\u001b[1;31mNameError\u001b[0m                                 Traceback (most recent call last)",
      "\u001b[1;32m~\\AppData\\Local\\Temp/ipykernel_10708/350538173.py\u001b[0m in \u001b[0;36m<module>\u001b[1;34m\u001b[0m\n\u001b[0;32m      4\u001b[0m \u001b[1;32mexcept\u001b[0m \u001b[0mException\u001b[0m\u001b[1;33m:\u001b[0m\u001b[1;33m\u001b[0m\u001b[1;33m\u001b[0m\u001b[0m\n\u001b[0;32m      5\u001b[0m     \u001b[0mh12\u001b[0m \u001b[1;33m=\u001b[0m \u001b[1;34m'unavailable'\u001b[0m\u001b[1;33m\u001b[0m\u001b[1;33m\u001b[0m\u001b[0m\n\u001b[1;32m----> 6\u001b[1;33m \u001b[0mhh12append\u001b[0m\u001b[1;33m(\u001b[0m\u001b[0mh12\u001b[0m\u001b[1;33m)\u001b[0m\u001b[1;33m\u001b[0m\u001b[1;33m\u001b[0m\u001b[0m\n\u001b[0m",
      "\u001b[1;31mNameError\u001b[0m: name 'hh12append' is not defined"
     ]
    }
   ],
   "source": [
    "hh12 = [] #urls, keynames\n",
    "try:\n",
    "    h12 = head12\n",
    "except Exception:\n",
    "    h12 = 'unavailable'\n",
    "hh12append(h12)"
   ]
  },
  {
   "cell_type": "markdown",
   "id": "c509fe78-867a-4b6a-94be-e4b1d638f1f8",
   "metadata": {},
   "source": [
    "## 13"
   ]
  },
  {
   "cell_type": "code",
   "execution_count": null,
   "id": "de23109a-78ec-446e-b256-12e86953c3e1",
   "metadata": {},
   "outputs": [],
   "source": [
    "try:\n",
    "    try:\n",
    "        driver.get(\"https://www.pulse.com.gh/\") \n",
    "    except Exception:\n",
    "        pass\n",
    "    button = driver.find_element_by_xpath(\"(//div[@id='search-button'])[1]\")\n",
    "    ActionChains(driver).move_to_element(button).click(button).perform()\n",
    "    time.sleep(5)\n",
    "    driver.find_element_by_xpath(\"(//button[normalize-space()='O'])[1]\").click()\n",
    "    driver.find_element_by_xpath(\"(//input[@placeholder='I’m looking for...'])[1]\").send_keys(new_lists[12])\n",
    "    try:\n",
    "        driver.find_element_by_xpath(\"(//button[normalize-space()='O'])[1]\").click()\n",
    "        time.sleep(30)\n",
    "    except Exception:\n",
    "        pass        \n",
    "    try:\n",
    "        driver.find_element_by_xpath(\"(//div[@class='gradient-overlay'])[1]\").click()\n",
    "        time.sleep(30)\n",
    "    except Exception:\n",
    "        pass\n",
    "    driver.find_element_by_xpath(\"(//body)[1]\").text\n",
    "except Exception:\n",
    "    pass\n",
    "#driver.find_element_by_xpath(\"(//h1[contains(@class,'article-headline')])[1]\").text"
   ]
  },
  {
   "cell_type": "code",
   "execution_count": null,
   "id": "05859403-dc56-45f3-9e55-ef8bc624d6f5",
   "metadata": {},
   "outputs": [],
   "source": []
  },
  {
   "cell_type": "code",
   "execution_count": null,
   "id": "c3ca97bf-f9b4-4657-8a47-f50fb1ae7207",
   "metadata": {},
   "outputs": [],
   "source": [
    "try:\n",
    "    head13 = driver.find_element_by_xpath(\"(//h1[contains(@class,'article-headline')])[1]\").text\n",
    "    thirteenth = driver.current_url\n",
    "except Exception:\n",
    "    pass"
   ]
  },
  {
   "cell_type": "code",
   "execution_count": null,
   "id": "6e401f44-4c64-47ff-ba96-8bb26cdc53e3",
   "metadata": {},
   "outputs": [],
   "source": [
    "hh13 = [] #urls, keynames\n",
    "try:\n",
    "    h13 = head13\n",
    "except Exception:\n",
    "    h13 = 'unavailable'\n",
    "hh13.append(h13)"
   ]
  },
  {
   "cell_type": "markdown",
   "id": "90b850d7-4b4d-4280-843c-a812a57a10d4",
   "metadata": {},
   "source": [
    "## 14"
   ]
  },
  {
   "cell_type": "code",
   "execution_count": null,
   "id": "cc5f2e5a-80b9-41dd-a9b6-076c36b11025",
   "metadata": {},
   "outputs": [],
   "source": [
    "try:\n",
    "    try:\n",
    "        driver.get(\"https://www.pulse.com.gh/\") \n",
    "    except Exception:\n",
    "        pass\n",
    "    button = driver.find_element_by_xpath(\"(//div[@id='search-button'])[1]\")\n",
    "    ActionChains(driver).move_to_element(button).click(button).perform()\n",
    "    time.sleep(5)\n",
    "    driver.find_element_by_xpath(\"(//button[normalize-space()='O'])[1]\").click()\n",
    "    driver.find_element_by_xpath(\"(//input[@placeholder='I’m looking for...'])[1]\").send_keys(new_lists[13])\n",
    "    try:\n",
    "        driver.find_element_by_xpath(\"(//button[normalize-space()='O'])[1]\").click()\n",
    "        time.sleep(30)\n",
    "    except Exception:\n",
    "        pass        \n",
    "    try:\n",
    "        driver.find_element_by_xpath(\"(//div[@class='gradient-overlay'])[1]\").click()\n",
    "        time.sleep(30)\n",
    "    except Exception:\n",
    "        pass\n",
    "    driver.find_element_by_xpath(\"(//body)[1]\").text\n",
    "except Exception:\n",
    "    pass\n",
    "#driver.find_element_by_xpath(\"(//h1[contains(@class,'article-headline')])[1]\").text"
   ]
  },
  {
   "cell_type": "code",
   "execution_count": null,
   "id": "f71738ef-fed6-499b-b5cd-35010558e3d2",
   "metadata": {},
   "outputs": [],
   "source": [
    "try:\n",
    "    head14 = driver.find_element_by_xpath(\"(//h1[contains(@class,'article-headline')])[1]\").text\n",
    "    forteenth = driver.current_url\n",
    "except Exception:\n",
    "    pass"
   ]
  },
  {
   "cell_type": "code",
   "execution_count": null,
   "id": "280d1dd5-a743-4690-8905-39ba0308cb25",
   "metadata": {},
   "outputs": [],
   "source": [
    "hh14 = [] #urls, keynames\n",
    "try:\n",
    "    h14 = head14\n",
    "except Exception:\n",
    "    h14 = 'unavailable'\n",
    "hh14.append(h14)"
   ]
  },
  {
   "cell_type": "markdown",
   "id": "98032015-cf77-41c1-b923-af39691e8882",
   "metadata": {},
   "source": [
    "## 15"
   ]
  },
  {
   "cell_type": "code",
   "execution_count": null,
   "id": "641c3892-ef0a-4eeb-84fd-f0c4afd34f3a",
   "metadata": {},
   "outputs": [],
   "source": [
    "try:\n",
    "    try:\n",
    "        driver.get(\"https://www.pulse.com.gh/\") \n",
    "    except Exception:\n",
    "        pass\n",
    "    button = driver.find_element_by_xpath(\"(//div[@id='search-button'])[1]\")\n",
    "    ActionChains(driver).move_to_element(button).click(button).perform()\n",
    "    time.sleep(5)\n",
    "    driver.find_element_by_xpath(\"(//button[normalize-space()='O'])[1]\").click()\n",
    "    driver.find_element_by_xpath(\"(//input[@placeholder='I’m looking for...'])[1]\").send_keys(new_lists[14])\n",
    "    try:\n",
    "        driver.find_element_by_xpath(\"(//button[normalize-space()='O'])[1]\").click()\n",
    "        time.sleep(30)\n",
    "    except Exception:\n",
    "        pass        \n",
    "    try:\n",
    "        driver.find_element_by_xpath(\"(//div[@class='gradient-overlay'])[1]\").click()\n",
    "        time.sleep(30)\n",
    "    except Exception:\n",
    "        pass\n",
    "    driver.find_element_by_xpath(\"(//body)[1]\").text\n",
    "except Exception:\n",
    "    pass\n",
    "#driver.find_element_by_xpath(\"(//h1[contains(@class,'article-headline')])[1]\").text"
   ]
  },
  {
   "cell_type": "code",
   "execution_count": null,
   "id": "1c42270d-c783-4623-9d41-d88608cda1de",
   "metadata": {},
   "outputs": [],
   "source": [
    "try:\n",
    "    head15 = driver.find_element_by_xpath(\"(//h1[contains(@class,'article-headline')])[1]\").text\n",
    "    fifteenth = driver.current_url\n",
    "except Exception:\n",
    "    pass"
   ]
  },
  {
   "cell_type": "code",
   "execution_count": null,
   "id": "b1c14408-fa2b-47a1-b55d-93847c61fddc",
   "metadata": {},
   "outputs": [],
   "source": [
    "hh15 = [] #urls, keynames\n",
    "try:\n",
    "    h15 = head15\n",
    "except Exception:\n",
    "    h15 = 'unavailable'\n",
    "hh15.append(h15)"
   ]
  },
  {
   "cell_type": "code",
   "execution_count": null,
   "id": "e7d7da95-c1e1-4943-b36b-d97387e62b05",
   "metadata": {},
   "outputs": [],
   "source": []
  },
  {
   "cell_type": "code",
   "execution_count": null,
   "id": "542ea09b-1bbb-41fb-9cc0-b224afd1beac",
   "metadata": {},
   "outputs": [],
   "source": [
    "import pandas as pd"
   ]
  },
  {
   "cell_type": "code",
   "execution_count": null,
   "id": "db4f815f-b546-4c5d-a496-6da48f406f68",
   "metadata": {},
   "outputs": [],
   "source": [
    "urls = (first, second, third, forth, fifth, sixth, seventh, eighth, nineth, tenth, eleventh, twelveth, thirteenth, forteenth, fifteenth)\n",
    "keynames = (hh1, hh2, hh3, hh4, hh5, hh6, hh7, hh8, hh9, hh10, hh11, hh12, hh13, hh14, hh15)"
   ]
  },
  {
   "cell_type": "code",
   "execution_count": null,
   "id": "e135a827-296b-48f1-b319-c70a3df74d64",
   "metadata": {},
   "outputs": [],
   "source": [
    "col1 = \"urls_of_websites\"\n",
    "col2 = \"keywords\""
   ]
  },
  {
   "cell_type": "code",
   "execution_count": null,
   "id": "ea285e64-9c9f-4b96-a6db-a46ce7c95fd3",
   "metadata": {},
   "outputs": [],
   "source": [
    "data = pd.DataFrame({col1:urls, col2:keynames})"
   ]
  },
  {
   "cell_type": "code",
   "execution_count": 124,
   "id": "c338dd0a-f68b-40a5-97c5-7e86602d22f1",
   "metadata": {},
   "outputs": [],
   "source": [
    "from datetime import datetime\n",
    "today = datetime.today().strftime('%Y-%m-%d')"
   ]
  },
  {
   "cell_type": "code",
   "execution_count": null,
   "id": "8b80ae89-f2c1-42de-b351-1b2303c52546",
   "metadata": {},
   "outputs": [],
   "source": [
    "with pd.ExcelWriter(\"C:\\\\Users\\\\hp\\\\Desktop\\\\selenium.xlsx\", engine=\"openpyxl\", mode=\"a\") as writer:\n",
    "    data.to_excel(writer, sheet_name=(today,'pulse'), startrow=0, startcol=0)"
   ]
  },
  {
   "cell_type": "code",
   "execution_count": 79,
   "id": "71e51c19-008a-4837-bd69-b0026c94def5",
   "metadata": {},
   "outputs": [],
   "source": [
    "from selenium.webdriver.common.action_chains import ActionChains"
   ]
  },
  {
   "cell_type": "code",
   "execution_count": 80,
   "id": "2c854ff8-0323-4c37-b43e-19ad0bb45c97",
   "metadata": {},
   "outputs": [
    {
     "name": "stderr",
     "output_type": "stream",
     "text": [
      "C:\\Users\\kofi\\AppData\\Local\\Temp/ipykernel_6616/2677365929.py:2: DeprecationWarning: find_element_by_xpath is deprecated. Please use find_element(by=By.XPATH, value=xpath) instead\n",
      "  button = driver.find_element_by_xpath(\"(//a[contains(@class,'jeg_search_toggle')])[1]\")\n"
     ]
    }
   ],
   "source": [
    "#driver.find_element_by_xpath(\"(//input[@id='s'])[2]\").send_keys(new_lists[0])\n",
    "button = driver.find_element_by_xpath(\"(//a[contains(@class,'jeg_search_toggle')])[1]\")\n",
    "#maximize window\n",
    "#sleep(5)\n",
    "ActionChains(driver).move_to_element(button).click(button).perform()"
   ]
  },
  {
   "cell_type": "code",
   "execution_count": 81,
   "id": "e44762c9-d25d-4080-b420-d5a7e4408b22",
   "metadata": {},
   "outputs": [
    {
     "name": "stderr",
     "output_type": "stream",
     "text": [
      "C:\\Users\\kofi\\AppData\\Local\\Temp/ipykernel_6616/1683662473.py:2: DeprecationWarning: find_element_by_class_name is deprecated. Please use find_element(by=By.CLASS_NAME, value=name) instead\n",
      "  driver.find_element_by_class_name('jeg_search_input').send_keys(new_lists[0])\n"
     ]
    }
   ],
   "source": [
    "#driver.find_element_by_xpath(\"(//form[@class='jeg_search_form'])[3]\").send_keys(new_lists[0])\n",
    "driver.find_element_by_class_name('jeg_search_input').send_keys(new_lists[0])"
   ]
  },
  {
   "cell_type": "code",
   "execution_count": 82,
   "id": "76718462-fd03-4a04-9694-426d4bebe9a0",
   "metadata": {},
   "outputs": [
    {
     "name": "stderr",
     "output_type": "stream",
     "text": [
      "C:\\Users\\kofi\\AppData\\Local\\Temp/ipykernel_6616/526668856.py:2: DeprecationWarning: find_element_by_class_name is deprecated. Please use find_element(by=By.CLASS_NAME, value=name) instead\n",
      "  driver.find_element_by_class_name('jeg_search_input').send_keys(Keys.ENTER) #sendKeys(Keys.ENTER)\n"
     ]
    }
   ],
   "source": [
    "try:\n",
    "    driver.find_element_by_class_name('jeg_search_input').send_keys(Keys.ENTER) #sendKeys(Keys.ENTER)\n",
    "    #time.sleep(20)\n",
    "except Exception:\n",
    "    pass"
   ]
  },
  {
   "cell_type": "code",
   "execution_count": 83,
   "id": "e5b8f0a3-c042-4fb0-8fac-1d8ec04a227a",
   "metadata": {},
   "outputs": [
    {
     "name": "stderr",
     "output_type": "stream",
     "text": [
      "C:\\Users\\kofi\\AppData\\Local\\Temp/ipykernel_6616/1125757646.py:1: DeprecationWarning: find_element_by_xpath is deprecated. Please use find_element(by=By.XPATH, value=xpath) instead\n",
      "  driver.find_element_by_xpath(\"(//article[@class='jeg_post jeg_pl_md_2 format-standard'])[1]\").click()\n"
     ]
    }
   ],
   "source": [
    "driver.find_element_by_xpath(\"(//article[@class='jeg_post jeg_pl_md_2 format-standard'])[1]\").click()\n",
    "#jeg_post_title"
   ]
  }
 ],
 "metadata": {
  "kernelspec": {
   "display_name": "Python 3 (ipykernel)",
   "language": "python",
   "name": "python3"
  },
  "language_info": {
   "codemirror_mode": {
    "name": "ipython",
    "version": 3
   },
   "file_extension": ".py",
   "mimetype": "text/x-python",
   "name": "python",
   "nbconvert_exporter": "python",
   "pygments_lexer": "ipython3",
   "version": "3.9.7"
  }
 },
 "nbformat": 4,
 "nbformat_minor": 5
}
