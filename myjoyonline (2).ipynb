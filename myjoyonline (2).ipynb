{
 "cells": [
  {
   "cell_type": "code",
   "execution_count": 175,
   "id": "5e869c14-2661-409e-9528-d193e04887e8",
   "metadata": {},
   "outputs": [
    {
     "name": "stderr",
     "output_type": "stream",
     "text": [
      "\n",
      "\n",
      "====== WebDriver manager ======\n",
      "Current google-chrome version is 100.0.4896\n",
      "Get LATEST chromedriver version for 100.0.4896 google-chrome\n",
      "Driver [C:\\Users\\hp\\.wdm\\drivers\\chromedriver\\win32\\100.0.4896.60\\chromedriver.exe] found in cache\n",
      "C:\\Users\\hp\\AppData\\Local\\Temp/ipykernel_7440/2953177188.py:6: DeprecationWarning: executable_path has been deprecated, please pass in a Service object\n",
      "  driver = webdriver.Chrome(ChromeDriverManager().install())\n"
     ]
    }
   ],
   "source": [
    "import time\n",
    "from time import sleep\n",
    "from selenium import webdriver\n",
    "from selenium.webdriver.common.keys import Keys\n",
    "from webdriver_manager.chrome import ChromeDriverManager\n",
    "driver = webdriver.Chrome(ChromeDriverManager().install())\n",
    "\n",
    "time.sleep(5)"
   ]
  },
  {
   "cell_type": "code",
   "execution_count": 176,
   "id": "e0babb76-2c6a-48e7-9bb6-a52b70b587cc",
   "metadata": {},
   "outputs": [],
   "source": [
    "driver.maximize_window()\n",
    "time.sleep(2)"
   ]
  },
  {
   "cell_type": "code",
   "execution_count": 177,
   "id": "a33b5520-93c9-41be-becd-b9ea01c9935a",
   "metadata": {},
   "outputs": [
    {
     "name": "stdout",
     "output_type": "stream",
     "text": [
      "did not finish loading\n"
     ]
    }
   ],
   "source": [
    "try:\n",
    "    \n",
    "    driver.get(\"https://www.myjoyonline.com/\")    \n",
    "    time.sleep(30)   \n",
    "except Exception:\n",
    "    pass\n",
    "print('did not finish loading')\n",
    "    "
   ]
  },
  {
   "cell_type": "code",
   "execution_count": null,
   "id": "f18ce89c-92ba-4e3a-90f7-b33e254b27fc",
   "metadata": {},
   "outputs": [],
   "source": []
  },
  {
   "cell_type": "code",
   "execution_count": 178,
   "id": "df130fdb-7180-4e33-b1cf-bd963422984f",
   "metadata": {},
   "outputs": [
    {
     "name": "stderr",
     "output_type": "stream",
     "text": [
      "C:\\Users\\hp\\AppData\\Local\\Temp/ipykernel_7440/2763983354.py:1: DeprecationWarning: find_element_by_xpath is deprecated. Please use find_element(by=By.XPATH, value=xpath) instead\n",
      "  i = driver.find_element_by_xpath(\" (//div)[39]\")\n"
     ]
    }
   ],
   "source": [
    "i = driver.find_element_by_xpath(\" (//div)[39]\")\n",
    " #(//div)[39]"
   ]
  },
  {
   "cell_type": "code",
   "execution_count": 179,
   "id": "727f508b-5d34-4fde-a667-2f437c8cf1a4",
   "metadata": {},
   "outputs": [],
   "source": [
    "k = i.text"
   ]
  },
  {
   "cell_type": "code",
   "execution_count": 180,
   "id": "bfdc537f-9d0b-4a39-8f6e-24f07b07476a",
   "metadata": {},
   "outputs": [],
   "source": [
    "rep = k.replace(\"\\n\", \". \")"
   ]
  },
  {
   "cell_type": "code",
   "execution_count": 181,
   "id": "114fd99e-92cc-449c-8e8d-8d9899387a61",
   "metadata": {},
   "outputs": [
    {
     "data": {
      "text/plain": [
       "\"TOP STORY. We are currently 95% ready to implement E-levy – Deputy Finance Minister. NEWS. E-Levy: May 1 implementation to be done in modified-phased approach – GRA. Government commissions €6.2m waste-to-energy conversion plant at Gyankobaa. It’s time to assess NSMQ’s impact on promotion of STEM education – Quiz mistress Prof Kaufmann. Two persons arrested at Okaikoi South for impersonating policemen – Police. ‘Transparent’ 2020 polls credible; reflected will of the people – US Report. ‘Election of MMDCEs will take place only with broad, national consensus’ – Akufo-Addo. Any woman who is not financially independent has no business in marriage – PR Practitioner. Rising rate of self-medication alarming – Health expert. 😷 Ghana 161,170 Total 1,445 Deaths 159,679 Recovered. 😷 Global 🌍 512,393,276 Total 6,257,152 Deaths 466,222,176 Recovered. PODCASTS. Super Morning Show. Cosmopolitan Mix. Midday News. DriveTime. Newsnite. Top Story. Strong and Sassy. Newsfile. Living Word. Joy Business. Joy Business Report. Joy Masterclass. That's My Opinion. The Overdrive. Executive Lounge. Geek Squad. Personality Profile. Sports Track. Locker Room. Election Brief. Home Affairs. Ultimate Health. Sports Arena. Sports Link. Spring Board. IN FOCUS. Today’s front pages: Friday, April 29, 2022. VIDEOS. Regional executives can't impose unwarranted directives .... Stonebwoy has healing music; I will .... Fundit: Choose your team wisely. “We don’t need political party .... Stonebwoy has healing music; I will .... ‘There are no shortcuts for the .... I will continue to advocate for .... NPP Constituency Election: Election in Yendi .... ENTERTAINMENT. Our family is not in support of his actions – Yul Edochie’s elder brother. Burna Boy shuts down Madison Square Garden with historic concert. Real men own up, take responsibility – Yul Edochie says after backlash. BUSINESS. World Bank provides $200m to accelerate Ghana’s Digital Transformation Agenda for better jobs. Prices of petrol, diesel to go up, but LPG to dip – COPEC. Demands of organised labour will be subjected to negotiations – CEO, Ghana Employers’ Association. Government needs to address pay disparities holistically to reduce labour agitations – Economist. 2022 May Day: Support distressed businesses to recover from covid-19 – ICU to government. Ghanaians urged to take advantage of benefits of insurance. GCB’s ambitious strategy on course – MD Kofi Adomakoh. SPORTS. 2022 Formula 1: Why Charles Leclerc has the keys to complete Ferrari turnaround. New information reveals Ghana’s penalty vs Uruguay shouldn’t have stood. The case against Kevin Durant. Were any of Brazil’s goals against Ghana in the 2006 World Cup really offside?. Shooting Stars set to host Borussia Dortmund in Ghana. Teams are afraid to play against Ridge City – Club owner reveals. Hoop Dreams: Ghana’s search for a global basketball icon. LIFESTYLE. I didn’t love my wife when we got married. I couldn’t call off my wedding but I never wanted to be married. My husband takes me for granted but I don’t really mind. If a guy does these 10 things, he doesn’t love you, he’s just settling for you. My best friend disappeared from my life without a trace. I’m still trying to find out what happened. Why does he stare at me so intensely? 5 things prolonged eye contact from a guy might mean. We traveled 10,000 miles across the world to save our marriage. OPINION. Samson’s Take: Hijacked democracy, threat to the democracy. Ama Cromwell: ‘A lady’s glory is her hair’, mummy said, so I found freedom in locs. Christian Yalley: How my journey to First Class in UG started in a room with ladies. Sweet Like Fine Choco: I love women but I’m not lesbian. Anny Osabutey: Obituary brochure – Establishing family ties through funeral handouts. Edmund Smith-Asante: ‘Abrokyire abrabo’; My wahala in Germany – Part 1￼. Nana Kwasi Gyan-Apenteng: Have the masks gone too soon?. OBITUARY. Sampson Nana Andoh. Abraham Osei aka Kwame Braimah. John McCarthy Aful. Recommended for you. Promoted. Floyd Mayweather's new home in Miami Beach is absolutely breathtaking!. Mansion Global. . UG final year student passes on; leaves 'strange' note. Nigerian actor, Osita Iheme marks 40th birthday with sizzling photos. Ayew brothers quit Black Stars. Policemen run for their lives as robbers attack bullion van. Promoted. Study in Canada! Opportunities For Scholarship. Study In Canada | Sponsored Links. Promoted. Apply for a US visa? It might be easier than you think. Apply Now. US Visa | Search ads. Promoted. Play Quizzes, Earn Coins. Quizzop. Promoted. Look at Rihanna's new $10 Million Dollar Home. Mansion Global. Recommended by. . Most Recent. Our family is not in support of his actions – Yul Edochie’s elder brother. Any man who marries more than one wife is selfish; he doesn’t succeed in life – Joy FM listener. Training of ISD Research Officers commences in Winneba. I took care of my unemployed husband for 4 years, now he has a job, he wants a second wife. Marry more wives if you want to be as wise as Solomon – Joy FM listener. ‘Neutrality allowance makes me sick; it’s the most stupid thing I’ve ever heard in my life’ – Prof. Stephen Adei. A$AP Rocky’s guns not used in shooting which was caught on video – Sources. E-levy will not affect tithes and offering – John Kumah. World Bank provides $200m to accelerate Ghana’s Digital Transformation Agenda for better jobs. Alleged prostitute sentenced to 30 years in 4 men’s overdose deaths. Real men own up, take responsibility – Yul Edochie says after backlash. GOC board criticised by Ghana Arm Wrestling Federation for ‘poor’ leadership. Prof Gadzekpo takes on security agencies for failing to resolve attacks on journalists. State car stolen as workers fix South Africa flood-hit road. How often should you change your bed sheets?. Anny Osabutey: Sabukie Osabutey – The single mother of two poetry books. Ghana face Japan, Tunisia and Chile in four-nation tournament ahead of World Cup. Queen Elizabeth eulogises Kenya’s ex-president Kibaki. We are currently 95% ready to implement E-levy – Deputy Finance Minister. Newly-elected Okaikwei South NPP chairman promises to unite factions for victory 2024. Ghana has huge opportunities for persons looking to invest – Lands Minister woos investors. Government commissions €6.2m waste-to-energy conversion plant at Gyankobaa. PURC begins stakeholder engagement in Tamale over installation of new split smart meters. Rising rate of self-medication alarming – Health expert. It’s time to assess NSMQ’s impact on promotion of STEM education – Quiz mistress Prof Kaufmann. ‘Transparent’ 2020 polls credible; reflected will of the people – US Report. Dr Prince Hamid Armah: Bridging the digital divide in Ghana, encouraging girls and women in ICT. Former Kenyan President, Mwai Kibaki’s funeral service underway. Report accurately to calm financial markets – First Deputy Governor tells journalists. Fameye releases ‘Songs of Peter’ album. 6 movies coming out in May you should be excited about. Guns found at ASAP Rocky’s L.A. home but not seized by police during investigation of shooting. Prices of petrol, diesel to go up, but LPG to dip – COPEC. Today’s front pages: Friday, April 29, 2022. Ban on menthol cigarettes and flavored cigars could save hundreds of thousands of lives – Experts. Moderna asks FDA to authorise its vaccine for children under 6. Fundit: Emphasize the originality of your business idea. Daily Facebook users up again after first-ever decline. Police serve caution to 51 motorbike and tricycle riders arrested in Ashanti Region. Kane Tanaka: Japanese woman certified world’s oldest person dies. Ukraine war: Rockets hit Kyiv as UN chief admits failings. Neo-soul artiste Ria Boss releases debut live album, ‘Remember’. What Singapore’s move to legalise egg freezing says about its society. Overturned LPG-carrying truck recovered, Tema Motorway reopened – Police. Demands of organised labour will be subjected to negotiations – CEO, Ghana Employers’ Association. Paapa Versa set to release new single ‘Call You Mine’ on May 6. Egypt criticised after singers jailed for belly dancing video. Burna Boy shuts down Madison Square Garden with historic concert. E-Levy: May 1 implementation to be done in modified-phased approach – GRA. Government needs to address pay disparities holistically to reduce labour agitations – Economist. Man sentenced to 15-years imprisonment for stealing mobile phone. Dan Botwe impressed with pace of work on Okere roads. Covid-19: Ahafo health directorate intensify campaign to vaccinate more pregnant women. Two persons arrested at Okaikoi South for impersonating policemen – Police. 14 regions devastated by illegal mining – Mining consultant. Playback: Burna Boy’s historic ‘One Night In Space Concert’ at Madison Square Garden. Ukraine war: UN chief admits Security Council has failed. Suspects who allegedly diverted premix in Keta to be arraigned. 1992 Constitution is broken beyond repair, new one needed – Economic Fighters League. Francis-Xavier Sosu: Qatar 2022 – Time is ripe to revive grassroot football and develop sustainable sporting infrastructure. Mike Ocquaye calls for reforms in appointment and removal of judges. ‘We don’t need political party participation to elect DCE and MCEs’ – Kofi Bentil. Doom in Dome Kwabenya as aspirants raise concerns about legitimacy of voter’s register. 2022 May Day: Support distressed businesses to recover from covid-19 – ICU to government. Playback: PM Express Business Edition discuss recent workers’ agitations. The Royal View Cinema hosts ‘The Play’ to entertain Kumasi. Ghanaians urged to take advantage of benefits of insurance. Trashy Bags commits to green economy. Man jailed 10 years for defilement. I wrote ‘Down Flat’ in less than 20 minutes – Kelvyn Boy impressed with new song’s popularity. NSMQ 2022: Kintampo SHS among 4 schools in Bono East that have booked national championship slots. Stonebwoy has healing music; I will like to work with him – Botswana artiste A.T.I. Asuom Youth President wishes NPP constituency election contestants best of luck. ‘Hard work, sense of enterprise can produce the accelerated economic development that we all yearn for’ – Akufo-Addo. GCB’s ambitious strategy on course – MD Kofi Adomakoh. Any woman who is not financially independent has no business in marriage – PR Practitioner. Some NPP members in Kwadaso raise red flag over constituency election. ‘Election of MMDCEs will take place only with broad, national consensus’ – Akufo-Addo. Sarkodie can apply for a diplomatic passport – Foreign Affairs Ministry representative. Democracy has been good for us – Akufo-Addo. I will continue to advocate for repeal of Article 55(3) of the constitution – Akufo-Addo. Rapper Offset honours Virgil Abloh with a tattoo. Power supply to D-Black’s nightclub cut over alleged illegal connection. Twitter announces first quarter 2022 results. Playback: Akufo-Addo addresses the nation on 1992 Constitution. New information reveals Ghana’s penalty vs Uruguay shouldn’t have stood. Photos: British High Commission celebrates Queen Elizabeth’s birthday. We enabled the French Ambassador’s exploits – Tourism Ministry PRO. I’m preaching on my ‘Son of Jacob’ album – Kwesi Arthur. Biden announces $33bn to help Ukraine in war. I’m not a Sidicoin ambassador, I have not been rewarded to promote it – Stonebwoy. Ghana celebrates international girls in ‘ICT Day’ with all ITU member states. Kim Kardashian breaks down in tears after Kanye West gifts her recovered sex tape footage. Venturing into crypto currency now dangerous—AZA Finance Country Manager. GCB to find innovative ways to keep customers on digital channels. Postal and Courier Services Regulatory Commission to root out e-commerce fraud and scams. KOICA partners University of Ghana to construct state-of-the art ICT facility. Twitter confirms it has registered in Nigeria. NPP constituency election in Yendi suspended due to confusion over album to use. Manasseh Azure Awuni: Russia’s Oligarchs, Africa’s corrupt and Joe Biden’s war. . . . Exchange Rates. USD - United States dollar $. GHS - Ghanaian cedi ₵. NGN - Nigerian naira ₦. ZAR - South African rand R. CAD - Canadian dollar $. EUR - Euro €. GBP - British pound £. JPY - Japanese yen ¥. CNY - Chinese yuan ¥. i. April 29, 2022. MOST POPULAR NEWS. New information reveals Ghana’s penalty vs Uruguay shouldn’t have stood. E-Levy: May 1 implementation to be done in modified-phased approach – GRA. Photos: British High Commission celebrates Queen Elizabeth’s birthday. Any woman who is not financially independent has no business in marriage – PR Practitioner. I will continue to advocate for repeal of Article 55(3) of the constitution – Akufo-Addo. E-levy will affect your tithes – Sam George. Two persons arrested at Okaikoi South for impersonating policemen – Police. ‘We don’t need political party participation to elect DCE and MCEs’ – Kofi Bentil. We are currently 95% ready to implement E-levy – Deputy Finance Minister. Burna Boy shuts down Madison Square Garden with historic concert. LATEST STORIES. Our family is not in support of his actions – Yul Edochie’s elder brother. Any man who marries more than one wife is selfish; he doesn’t succeed in life – Joy FM listener. Training of ISD Research Officers commences in Winneba. I took care of my unemployed husband for 4 years, now he has a job, he wants a second wife. Marry more wives if you want to be as wise as Solomon – Joy FM listener. ‘Neutrality allowance makes me sick; it’s the most stupid thing I’ve ever heard in my life’ – Prof. Stephen Adei. A$AP Rocky’s guns not used in shooting which was caught on video – Sources. E-levy will not affect tithes and offering – John Kumah. World Bank provides $200m to accelerate Ghana’s Digital Transformation Agenda for better jobs. Alleged prostitute sentenced to 30 years in 4 men’s overdose deaths. About Us. The Multimedia Group. Advertise With Us. Contact Us. Terms of Use. Privacy Policy. Radio. Joy 99.7 FM. Adom 106.3 FM. Hitz 103.9 FM. Asempa 94.7 FM. Luv 99.5 FM. Nhyira 104.5 FM. TV. Joy News. Adom TV. Joy Prime. MultiTVWorld.com. Adom TV (Audio). Joy News (Audio). Social. YouTube. Facebook. Twitter. Instagram. LinkedIn. Infographics. More. Elections. Habitat Fair.  Google Podcast  TuneIn  iTunes Spotify. © 1996-2021 Copyright: MyjoyOnline.com\""
      ]
     },
     "execution_count": 181,
     "metadata": {},
     "output_type": "execute_result"
    }
   ],
   "source": [
    "rep"
   ]
  },
  {
   "cell_type": "code",
   "execution_count": 182,
   "id": "25f14a0f-61cb-4155-a66f-203c5c6b9502",
   "metadata": {},
   "outputs": [],
   "source": [
    "import re\n",
    "expression = re.compile(r'([A-Z][^\\.!?]*[\\.!?])')\n",
    "new_list = re.findall(expression, rep)"
   ]
  },
  {
   "cell_type": "code",
   "execution_count": 183,
   "id": "c49e2488-716b-4fab-a397-e1519dbc55f8",
   "metadata": {},
   "outputs": [
    {
     "data": {
      "text/plain": [
       "['TOP STORY.',\n",
       " 'We are currently 95% ready to implement E-levy – Deputy Finance Minister.',\n",
       " 'NEWS.',\n",
       " 'E-Levy: May 1 implementation to be done in modified-phased approach – GRA.',\n",
       " 'Government commissions €6.',\n",
       " 'Gyankobaa.',\n",
       " 'It’s time to assess NSMQ’s impact on promotion of STEM education – Quiz mistress Prof Kaufmann.',\n",
       " 'Two persons arrested at Okaikoi South for impersonating policemen – Police.',\n",
       " 'Transparent’ 2020 polls credible; reflected will of the people – US Report.',\n",
       " 'Election of MMDCEs will take place only with broad, national consensus’ – Akufo-Addo.',\n",
       " 'Any woman who is not financially independent has no business in marriage – PR Practitioner.',\n",
       " 'Rising rate of self-medication alarming – Health expert.',\n",
       " 'Ghana 161,170 Total 1,445 Deaths 159,679 Recovered.',\n",
       " 'Global 🌍 512,393,276 Total 6,257,152 Deaths 466,222,176 Recovered.',\n",
       " 'PODCASTS.',\n",
       " 'Super Morning Show.',\n",
       " 'Cosmopolitan Mix.',\n",
       " 'Midday News.',\n",
       " 'DriveTime.',\n",
       " 'Newsnite.',\n",
       " 'Top Story.',\n",
       " 'Strong and Sassy.',\n",
       " 'Newsfile.',\n",
       " 'Living Word.',\n",
       " 'Joy Business.',\n",
       " 'Joy Business Report.',\n",
       " 'Joy Masterclass.',\n",
       " \"That's My Opinion.\",\n",
       " 'The Overdrive.',\n",
       " 'Executive Lounge.',\n",
       " 'Geek Squad.',\n",
       " 'Personality Profile.',\n",
       " 'Sports Track.',\n",
       " 'Locker Room.',\n",
       " 'Election Brief.',\n",
       " 'Home Affairs.',\n",
       " 'Ultimate Health.',\n",
       " 'Sports Arena.',\n",
       " 'Sports Link.',\n",
       " 'Spring Board.',\n",
       " 'IN FOCUS.',\n",
       " 'Today’s front pages: Friday, April 29, 2022.',\n",
       " 'VIDEOS.',\n",
       " \"Regional executives can't impose unwarranted directives .\",\n",
       " 'Stonebwoy has healing music; I will .',\n",
       " 'Fundit: Choose your team wisely.',\n",
       " 'We don’t need political party .',\n",
       " 'Stonebwoy has healing music; I will .',\n",
       " 'There are no shortcuts for the .',\n",
       " 'I will continue to advocate for .',\n",
       " 'NPP Constituency Election: Election in Yendi .',\n",
       " 'ENTERTAINMENT.',\n",
       " 'Our family is not in support of his actions – Yul Edochie’s elder brother.',\n",
       " 'Burna Boy shuts down Madison Square Garden with historic concert.',\n",
       " 'Real men own up, take responsibility – Yul Edochie says after backlash.',\n",
       " 'BUSINESS.',\n",
       " 'World Bank provides $200m to accelerate Ghana’s Digital Transformation Agenda for better jobs.',\n",
       " 'Prices of petrol, diesel to go up, but LPG to dip – COPEC.',\n",
       " 'Demands of organised labour will be subjected to negotiations – CEO, Ghana Employers’ Association.',\n",
       " 'Government needs to address pay disparities holistically to reduce labour agitations – Economist.',\n",
       " 'May Day: Support distressed businesses to recover from covid-19 – ICU to government.',\n",
       " 'Ghanaians urged to take advantage of benefits of insurance.',\n",
       " 'GCB’s ambitious strategy on course – MD Kofi Adomakoh.',\n",
       " 'SPORTS.',\n",
       " 'Formula 1: Why Charles Leclerc has the keys to complete Ferrari turnaround.',\n",
       " 'New information reveals Ghana’s penalty vs Uruguay shouldn’t have stood.',\n",
       " 'The case against Kevin Durant.',\n",
       " 'Were any of Brazil’s goals against Ghana in the 2006 World Cup really offside?',\n",
       " 'Shooting Stars set to host Borussia Dortmund in Ghana.',\n",
       " 'Teams are afraid to play against Ridge City – Club owner reveals.',\n",
       " 'Hoop Dreams: Ghana’s search for a global basketball icon.',\n",
       " 'LIFESTYLE.',\n",
       " 'I didn’t love my wife when we got married.',\n",
       " 'I couldn’t call off my wedding but I never wanted to be married.',\n",
       " 'My husband takes me for granted but I don’t really mind.',\n",
       " 'If a guy does these 10 things, he doesn’t love you, he’s just settling for you.',\n",
       " 'My best friend disappeared from my life without a trace.',\n",
       " 'I’m still trying to find out what happened.',\n",
       " 'Why does he stare at me so intensely?',\n",
       " 'We traveled 10,000 miles across the world to save our marriage.',\n",
       " 'OPINION.',\n",
       " 'Samson’s Take: Hijacked democracy, threat to the democracy.',\n",
       " 'Ama Cromwell: ‘A lady’s glory is her hair’, mummy said, so I found freedom in locs.',\n",
       " 'Christian Yalley: How my journey to First Class in UG started in a room with ladies.',\n",
       " 'Sweet Like Fine Choco: I love women but I’m not lesbian.',\n",
       " 'Anny Osabutey: Obituary brochure – Establishing family ties through funeral handouts.',\n",
       " 'Edmund Smith-Asante: ‘Abrokyire abrabo’; My wahala in Germany – Part 1￼.',\n",
       " 'Nana Kwasi Gyan-Apenteng: Have the masks gone too soon?',\n",
       " 'OBITUARY.',\n",
       " 'Sampson Nana Andoh.',\n",
       " 'Abraham Osei aka Kwame Braimah.',\n",
       " 'John McCarthy Aful.',\n",
       " 'Recommended for you.',\n",
       " 'Promoted.',\n",
       " \"Floyd Mayweather's new home in Miami Beach is absolutely breathtaking!\",\n",
       " 'Mansion Global.',\n",
       " \"UG final year student passes on; leaves 'strange' note.\",\n",
       " 'Nigerian actor, Osita Iheme marks 40th birthday with sizzling photos.',\n",
       " 'Ayew brothers quit Black Stars.',\n",
       " 'Policemen run for their lives as robbers attack bullion van.',\n",
       " 'Promoted.',\n",
       " 'Study in Canada!',\n",
       " 'Opportunities For Scholarship.',\n",
       " 'Study In Canada | Sponsored Links.',\n",
       " 'Promoted.',\n",
       " 'Apply for a US visa?',\n",
       " 'It might be easier than you think.',\n",
       " 'Apply Now.',\n",
       " 'US Visa | Search ads.',\n",
       " 'Promoted.',\n",
       " 'Play Quizzes, Earn Coins.',\n",
       " 'Quizzop.',\n",
       " 'Promoted.',\n",
       " \"Look at Rihanna's new $10 Million Dollar Home.\",\n",
       " 'Mansion Global.',\n",
       " 'Recommended by.',\n",
       " 'Most Recent.',\n",
       " 'Our family is not in support of his actions – Yul Edochie’s elder brother.',\n",
       " 'Any man who marries more than one wife is selfish; he doesn’t succeed in life – Joy FM listener.',\n",
       " 'Training of ISD Research Officers commences in Winneba.',\n",
       " 'I took care of my unemployed husband for 4 years, now he has a job, he wants a second wife.',\n",
       " 'Marry more wives if you want to be as wise as Solomon – Joy FM listener.',\n",
       " 'Neutrality allowance makes me sick; it’s the most stupid thing I’ve ever heard in my life’ – Prof.',\n",
       " 'Stephen Adei.',\n",
       " 'A$AP Rocky’s guns not used in shooting which was caught on video – Sources.',\n",
       " 'E-levy will not affect tithes and offering – John Kumah.',\n",
       " 'World Bank provides $200m to accelerate Ghana’s Digital Transformation Agenda for better jobs.',\n",
       " 'Alleged prostitute sentenced to 30 years in 4 men’s overdose deaths.',\n",
       " 'Real men own up, take responsibility – Yul Edochie says after backlash.',\n",
       " 'GOC board criticised by Ghana Arm Wrestling Federation for ‘poor’ leadership.',\n",
       " 'Prof Gadzekpo takes on security agencies for failing to resolve attacks on journalists.',\n",
       " 'State car stolen as workers fix South Africa flood-hit road.',\n",
       " 'How often should you change your bed sheets?',\n",
       " 'Anny Osabutey: Sabukie Osabutey – The single mother of two poetry books.',\n",
       " 'Ghana face Japan, Tunisia and Chile in four-nation tournament ahead of World Cup.',\n",
       " 'Queen Elizabeth eulogises Kenya’s ex-president Kibaki.',\n",
       " 'We are currently 95% ready to implement E-levy – Deputy Finance Minister.',\n",
       " 'Newly-elected Okaikwei South NPP chairman promises to unite factions for victory 2024.',\n",
       " 'Ghana has huge opportunities for persons looking to invest – Lands Minister woos investors.',\n",
       " 'Government commissions €6.',\n",
       " 'Gyankobaa.',\n",
       " 'PURC begins stakeholder engagement in Tamale over installation of new split smart meters.',\n",
       " 'Rising rate of self-medication alarming – Health expert.',\n",
       " 'It’s time to assess NSMQ’s impact on promotion of STEM education – Quiz mistress Prof Kaufmann.',\n",
       " 'Transparent’ 2020 polls credible; reflected will of the people – US Report.',\n",
       " 'Dr Prince Hamid Armah: Bridging the digital divide in Ghana, encouraging girls and women in ICT.',\n",
       " 'Former Kenyan President, Mwai Kibaki’s funeral service underway.',\n",
       " 'Report accurately to calm financial markets – First Deputy Governor tells journalists.',\n",
       " 'Fameye releases ‘Songs of Peter’ album.',\n",
       " 'May you should be excited about.',\n",
       " 'Guns found at ASAP Rocky’s L.',\n",
       " 'A.',\n",
       " 'Prices of petrol, diesel to go up, but LPG to dip – COPEC.',\n",
       " 'Today’s front pages: Friday, April 29, 2022.',\n",
       " 'Ban on menthol cigarettes and flavored cigars could save hundreds of thousands of lives – Experts.',\n",
       " 'Moderna asks FDA to authorise its vaccine for children under 6.',\n",
       " 'Fundit: Emphasize the originality of your business idea.',\n",
       " 'Daily Facebook users up again after first-ever decline.',\n",
       " 'Police serve caution to 51 motorbike and tricycle riders arrested in Ashanti Region.',\n",
       " 'Kane Tanaka: Japanese woman certified world’s oldest person dies.',\n",
       " 'Ukraine war: Rockets hit Kyiv as UN chief admits failings.',\n",
       " 'Neo-soul artiste Ria Boss releases debut live album, ‘Remember’.',\n",
       " 'What Singapore’s move to legalise egg freezing says about its society.',\n",
       " 'Overturned LPG-carrying truck recovered, Tema Motorway reopened – Police.',\n",
       " 'Demands of organised labour will be subjected to negotiations – CEO, Ghana Employers’ Association.',\n",
       " 'Paapa Versa set to release new single ‘Call You Mine’ on May 6.',\n",
       " 'Egypt criticised after singers jailed for belly dancing video.',\n",
       " 'Burna Boy shuts down Madison Square Garden with historic concert.',\n",
       " 'E-Levy: May 1 implementation to be done in modified-phased approach – GRA.',\n",
       " 'Government needs to address pay disparities holistically to reduce labour agitations – Economist.',\n",
       " 'Man sentenced to 15-years imprisonment for stealing mobile phone.',\n",
       " 'Dan Botwe impressed with pace of work on Okere roads.',\n",
       " 'Covid-19: Ahafo health directorate intensify campaign to vaccinate more pregnant women.',\n",
       " 'Two persons arrested at Okaikoi South for impersonating policemen – Police.',\n",
       " 'Mining consultant.',\n",
       " 'Playback: Burna Boy’s historic ‘One Night In Space Concert’ at Madison Square Garden.',\n",
       " 'Ukraine war: UN chief admits Security Council has failed.',\n",
       " 'Suspects who allegedly diverted premix in Keta to be arraigned.',\n",
       " 'Constitution is broken beyond repair, new one needed – Economic Fighters League.',\n",
       " 'Francis-Xavier Sosu: Qatar 2022 – Time is ripe to revive grassroot football and develop sustainable sporting infrastructure.',\n",
       " 'Mike Ocquaye calls for reforms in appointment and removal of judges.',\n",
       " 'We don’t need political party participation to elect DCE and MCEs’ – Kofi Bentil.',\n",
       " 'Doom in Dome Kwabenya as aspirants raise concerns about legitimacy of voter’s register.',\n",
       " 'May Day: Support distressed businesses to recover from covid-19 – ICU to government.',\n",
       " 'Playback: PM Express Business Edition discuss recent workers’ agitations.',\n",
       " 'The Royal View Cinema hosts ‘The Play’ to entertain Kumasi.',\n",
       " 'Ghanaians urged to take advantage of benefits of insurance.',\n",
       " 'Trashy Bags commits to green economy.',\n",
       " 'Man jailed 10 years for defilement.',\n",
       " 'I wrote ‘Down Flat’ in less than 20 minutes – Kelvyn Boy impressed with new song’s popularity.',\n",
       " 'NSMQ 2022: Kintampo SHS among 4 schools in Bono East that have booked national championship slots.',\n",
       " 'Stonebwoy has healing music; I will like to work with him – Botswana artiste A.',\n",
       " 'T.',\n",
       " 'I.',\n",
       " 'Asuom Youth President wishes NPP constituency election contestants best of luck.',\n",
       " 'Hard work, sense of enterprise can produce the accelerated economic development that we all yearn for’ – Akufo-Addo.',\n",
       " 'GCB’s ambitious strategy on course – MD Kofi Adomakoh.',\n",
       " 'Any woman who is not financially independent has no business in marriage – PR Practitioner.',\n",
       " 'Some NPP members in Kwadaso raise red flag over constituency election.',\n",
       " 'Election of MMDCEs will take place only with broad, national consensus’ – Akufo-Addo.',\n",
       " 'Sarkodie can apply for a diplomatic passport – Foreign Affairs Ministry representative.',\n",
       " 'Democracy has been good for us – Akufo-Addo.',\n",
       " 'I will continue to advocate for repeal of Article 55(3) of the constitution – Akufo-Addo.',\n",
       " 'Rapper Offset honours Virgil Abloh with a tattoo.',\n",
       " 'Power supply to D-Black’s nightclub cut over alleged illegal connection.',\n",
       " 'Twitter announces first quarter 2022 results.',\n",
       " 'Playback: Akufo-Addo addresses the nation on 1992 Constitution.',\n",
       " 'New information reveals Ghana’s penalty vs Uruguay shouldn’t have stood.',\n",
       " 'Photos: British High Commission celebrates Queen Elizabeth’s birthday.',\n",
       " 'We enabled the French Ambassador’s exploits – Tourism Ministry PRO.',\n",
       " 'I’m preaching on my ‘Son of Jacob’ album – Kwesi Arthur.',\n",
       " 'Biden announces $33bn to help Ukraine in war.',\n",
       " 'I’m not a Sidicoin ambassador, I have not been rewarded to promote it – Stonebwoy.',\n",
       " 'Ghana celebrates international girls in ‘ICT Day’ with all ITU member states.',\n",
       " 'Kim Kardashian breaks down in tears after Kanye West gifts her recovered sex tape footage.',\n",
       " 'Venturing into crypto currency now dangerous—AZA Finance Country Manager.',\n",
       " 'GCB to find innovative ways to keep customers on digital channels.',\n",
       " 'Postal and Courier Services Regulatory Commission to root out e-commerce fraud and scams.',\n",
       " 'KOICA partners University of Ghana to construct state-of-the art ICT facility.',\n",
       " 'Twitter confirms it has registered in Nigeria.',\n",
       " 'NPP constituency election in Yendi suspended due to confusion over album to use.',\n",
       " 'Manasseh Azure Awuni: Russia’s Oligarchs, Africa’s corrupt and Joe Biden’s war.',\n",
       " 'Exchange Rates.',\n",
       " 'USD - United States dollar $.',\n",
       " 'GHS - Ghanaian cedi ₵.',\n",
       " 'NGN - Nigerian naira ₦.',\n",
       " 'ZAR - South African rand R.',\n",
       " 'CAD - Canadian dollar $.',\n",
       " 'EUR - Euro €.',\n",
       " 'GBP - British pound £.',\n",
       " 'JPY - Japanese yen ¥.',\n",
       " 'CNY - Chinese yuan ¥.',\n",
       " 'April 29, 2022.',\n",
       " 'MOST POPULAR NEWS.',\n",
       " 'New information reveals Ghana’s penalty vs Uruguay shouldn’t have stood.',\n",
       " 'E-Levy: May 1 implementation to be done in modified-phased approach – GRA.',\n",
       " 'Photos: British High Commission celebrates Queen Elizabeth’s birthday.',\n",
       " 'Any woman who is not financially independent has no business in marriage – PR Practitioner.',\n",
       " 'I will continue to advocate for repeal of Article 55(3) of the constitution – Akufo-Addo.',\n",
       " 'E-levy will affect your tithes – Sam George.',\n",
       " 'Two persons arrested at Okaikoi South for impersonating policemen – Police.',\n",
       " 'We don’t need political party participation to elect DCE and MCEs’ – Kofi Bentil.',\n",
       " 'We are currently 95% ready to implement E-levy – Deputy Finance Minister.',\n",
       " 'Burna Boy shuts down Madison Square Garden with historic concert.',\n",
       " 'LATEST STORIES.',\n",
       " 'Our family is not in support of his actions – Yul Edochie’s elder brother.',\n",
       " 'Any man who marries more than one wife is selfish; he doesn’t succeed in life – Joy FM listener.',\n",
       " 'Training of ISD Research Officers commences in Winneba.',\n",
       " 'I took care of my unemployed husband for 4 years, now he has a job, he wants a second wife.',\n",
       " 'Marry more wives if you want to be as wise as Solomon – Joy FM listener.',\n",
       " 'Neutrality allowance makes me sick; it’s the most stupid thing I’ve ever heard in my life’ – Prof.',\n",
       " 'Stephen Adei.',\n",
       " 'A$AP Rocky’s guns not used in shooting which was caught on video – Sources.',\n",
       " 'E-levy will not affect tithes and offering – John Kumah.',\n",
       " 'World Bank provides $200m to accelerate Ghana’s Digital Transformation Agenda for better jobs.',\n",
       " 'Alleged prostitute sentenced to 30 years in 4 men’s overdose deaths.',\n",
       " 'About Us.',\n",
       " 'The Multimedia Group.',\n",
       " 'Advertise With Us.',\n",
       " 'Contact Us.',\n",
       " 'Terms of Use.',\n",
       " 'Privacy Policy.',\n",
       " 'Radio.',\n",
       " 'Joy 99.',\n",
       " 'FM.',\n",
       " 'Adom 106.',\n",
       " 'FM.',\n",
       " 'Hitz 103.',\n",
       " 'FM.',\n",
       " 'Asempa 94.',\n",
       " 'FM.',\n",
       " 'Luv 99.',\n",
       " 'FM.',\n",
       " 'Nhyira 104.',\n",
       " 'FM.',\n",
       " 'TV.',\n",
       " 'Joy News.',\n",
       " 'Adom TV.',\n",
       " 'Joy Prime.',\n",
       " 'MultiTVWorld.',\n",
       " 'Adom TV (Audio).',\n",
       " 'Joy News (Audio).',\n",
       " 'Social.',\n",
       " 'YouTube.',\n",
       " 'Facebook.',\n",
       " 'Twitter.',\n",
       " 'Instagram.',\n",
       " 'LinkedIn.',\n",
       " 'Infographics.',\n",
       " 'More.',\n",
       " 'Elections.',\n",
       " 'Habitat Fair.',\n",
       " 'Google Podcast  TuneIn  iTunes Spotify.',\n",
       " 'Copyright: MyjoyOnline.']"
      ]
     },
     "execution_count": 183,
     "metadata": {},
     "output_type": "execute_result"
    }
   ],
   "source": [
    "new_list"
   ]
  },
  {
   "cell_type": "code",
   "execution_count": 184,
   "id": "acceb555-0c6d-429c-97a6-a53fe20a6108",
   "metadata": {},
   "outputs": [
    {
     "name": "stdout",
     "output_type": "stream",
     "text": [
      "['Two persons arrested at Okaikoi South for impersonating policemen – Police.', 'Two persons arrested at Okaikoi South for impersonating policemen – Police.', 'Rising rate of self-medication alarming – Health expert.', 'Policemen run for their lives as robbers attack bullion van.', 'GOC board criticised by Ghana Arm Wrestling Federation for ‘poor’ leadership.', 'Rising rate of self-medication alarming – Health expert.', 'Dr Prince Hamid Armah: Bridging the digital divide in Ghana, encouraging girls and women in ICT.', 'Police serve caution to 51 motorbike and tricycle riders arrested in Ashanti Region.', 'Overturned LPG-carrying truck recovered, Tema Motorway reopened – Police.', 'Two persons arrested at Okaikoi South for impersonating policemen – Police.', 'Two persons arrested at Okaikoi South for impersonating policemen – Police.', 'Suspects who allegedly diverted premix in Keta to be arraigned.', 'Two persons arrested at Okaikoi South for impersonating policemen – Police.', 'Two persons arrested at Okaikoi South for impersonating policemen – Police.']\n"
     ]
    }
   ],
   "source": [
    "matches = []\n",
    "#('arm','weapon', 'shot', 'police', 'military', 'drugs', 'suspect')\n",
    "for match in new_list:\n",
    "    if \"arm\" in match:\n",
    "        matches.append(match)\n",
    "    if \"weapon\" in match:\n",
    "        matches.append(match)\n",
    "    if \"shot\" in match:\n",
    "        matches.append(match)\n",
    "    if \"police\" in match:\n",
    "        matches.append(match)\n",
    "    if \"military\" in match:\n",
    "        matches.append(match)\n",
    "    if \"drugs\" in match:\n",
    "        matches.append(match)\n",
    "    if \"suspects\" in match:\n",
    "        matches.append(match)\n",
    "    if \"Arm\" in match:\n",
    "        matches.append(match)\n",
    "    if \"Weapon\" in match:\n",
    "        matches.append(match)\n",
    "    if \"Shot\" in match:\n",
    "        matches.append(match)\n",
    "    if \"Police\" in match:\n",
    "        matches.append(match)\n",
    "    if \"Military\" in match:\n",
    "        matches.append(match)\n",
    "    if \"Drugs\" in match:\n",
    "        matches.append(match)\n",
    "    if \"Suspects\" in match:\n",
    "        matches.append(match)\n",
    "    if \"kill\" in match:\n",
    "        matches.append(match)\n",
    "print(matches)"
   ]
  },
  {
   "cell_type": "code",
   "execution_count": 185,
   "id": "b05805ee-c09e-45d4-887b-c6f9df979092",
   "metadata": {},
   "outputs": [
    {
     "data": {
      "text/plain": [
       "list"
      ]
     },
     "execution_count": 185,
     "metadata": {},
     "output_type": "execute_result"
    }
   ],
   "source": [
    "type(matches)"
   ]
  },
  {
   "cell_type": "code",
   "execution_count": 186,
   "id": "6513f32f-181e-4cd0-9c97-7efddee7ed0e",
   "metadata": {},
   "outputs": [],
   "source": [
    "new_ = [s.replace(\",\", \"\") for s in matches]\n",
    "new_l = [s.replace(\".\", \"\") for s in new_]\n",
    "new_li = [s.replace(\"–\", \"\") for s in new_l]\n",
    "new_lis = [s.replace(\"?\", \"\") for s in new_li]\n",
    "new_list = [s.replace(\":\", \"\") for s in new_lis]\n",
    "new_lists = [s.replace(\";\", \"\") for s in new_list]\n"
   ]
  },
  {
   "cell_type": "code",
   "execution_count": 187,
   "id": "696e0000-4fec-4ce9-8266-eb08614f8c6e",
   "metadata": {},
   "outputs": [
    {
     "data": {
      "text/plain": [
       "14"
      ]
     },
     "execution_count": 187,
     "metadata": {},
     "output_type": "execute_result"
    }
   ],
   "source": [
    "len(new_lists)"
   ]
  },
  {
   "cell_type": "code",
   "execution_count": 188,
   "id": "7268bd58-b6cb-448e-a966-dbb729fbc16e",
   "metadata": {},
   "outputs": [
    {
     "data": {
      "text/plain": [
       "['Two persons arrested at Okaikoi South for impersonating policemen  Police',\n",
       " 'Two persons arrested at Okaikoi South for impersonating policemen  Police',\n",
       " 'Rising rate of self-medication alarming  Health expert',\n",
       " 'Policemen run for their lives as robbers attack bullion van',\n",
       " 'GOC board criticised by Ghana Arm Wrestling Federation for ‘poor’ leadership',\n",
       " 'Rising rate of self-medication alarming  Health expert',\n",
       " 'Dr Prince Hamid Armah Bridging the digital divide in Ghana encouraging girls and women in ICT',\n",
       " 'Police serve caution to 51 motorbike and tricycle riders arrested in Ashanti Region',\n",
       " 'Overturned LPG-carrying truck recovered Tema Motorway reopened  Police',\n",
       " 'Two persons arrested at Okaikoi South for impersonating policemen  Police',\n",
       " 'Two persons arrested at Okaikoi South for impersonating policemen  Police',\n",
       " 'Suspects who allegedly diverted premix in Keta to be arraigned',\n",
       " 'Two persons arrested at Okaikoi South for impersonating policemen  Police',\n",
       " 'Two persons arrested at Okaikoi South for impersonating policemen  Police']"
      ]
     },
     "execution_count": 188,
     "metadata": {},
     "output_type": "execute_result"
    }
   ],
   "source": [
    "new_lists"
   ]
  },
  {
   "cell_type": "code",
   "execution_count": 189,
   "id": "6c15d252-9efd-4850-8072-83a3215229c6",
   "metadata": {},
   "outputs": [],
   "source": [
    "#search = new_lists[0]"
   ]
  },
  {
   "cell_type": "markdown",
   "id": "0bf6234a-c736-47b8-b1ca-b2ffd7df34d9",
   "metadata": {},
   "source": [
    "# Searching "
   ]
  },
  {
   "cell_type": "markdown",
   "id": "77aa80d3-09a0-4a61-a445-02adec3d41d1",
   "metadata": {
    "tags": []
   },
   "source": [
    "##### First item"
   ]
  },
  {
   "cell_type": "code",
   "execution_count": 190,
   "id": "4cce545d-60cc-4077-990d-595d250c2572",
   "metadata": {},
   "outputs": [
    {
     "name": "stderr",
     "output_type": "stream",
     "text": [
      "C:\\Users\\hp\\AppData\\Local\\Temp/ipykernel_7440/1046031527.py:1: DeprecationWarning: find_element_by_xpath is deprecated. Please use find_element(by=By.XPATH, value=xpath) instead\n",
      "  driver.find_element_by_xpath(\"(//a)[26]\").click()\n"
     ]
    }
   ],
   "source": [
    "driver.find_element_by_xpath(\"(//a)[26]\").click()\n",
    "#maximize window\n",
    "sleep(5)"
   ]
  },
  {
   "cell_type": "code",
   "execution_count": 191,
   "id": "33a3dce5-e014-44bb-b185-372df5d0a2c1",
   "metadata": {},
   "outputs": [
    {
     "name": "stderr",
     "output_type": "stream",
     "text": [
      "C:\\Users\\hp\\AppData\\Local\\Temp/ipykernel_7440/2520106100.py:1: DeprecationWarning: find_element_by_xpath is deprecated. Please use find_element(by=By.XPATH, value=xpath) instead\n",
      "  driver.find_element_by_xpath(\"(//input[@id='s'])[2]\").send_keys(new_lists[0])\n"
     ]
    }
   ],
   "source": [
    "\n",
    "driver.find_element_by_xpath(\"(//input[@id='s'])[2]\").send_keys(new_lists[0])\n"
   ]
  },
  {
   "cell_type": "code",
   "execution_count": 192,
   "id": "069882e9-1737-416b-9943-08efb985aa8f",
   "metadata": {},
   "outputs": [
    {
     "name": "stderr",
     "output_type": "stream",
     "text": [
      "C:\\Users\\hp\\AppData\\Local\\Temp/ipykernel_7440/3993249533.py:2: DeprecationWarning: find_element_by_xpath is deprecated. Please use find_element(by=By.XPATH, value=xpath) instead\n",
      "  driver.find_element_by_xpath(\"(//input[@id='s'])[2]\").send_keys(Keys.ENTER) #sendKeys(Keys.ENTER)\n"
     ]
    }
   ],
   "source": [
    "try:\n",
    "    driver.find_element_by_xpath(\"(//input[@id='s'])[2]\").send_keys(Keys.ENTER) #sendKeys(Keys.ENTER)\n",
    "    time.sleep(20)\n",
    "except Exception:\n",
    "    pass"
   ]
  },
  {
   "cell_type": "code",
   "execution_count": 193,
   "id": "6143b5b7-d61d-42c1-b8e2-44df7b218940",
   "metadata": {},
   "outputs": [
    {
     "name": "stderr",
     "output_type": "stream",
     "text": [
      "C:\\Users\\hp\\AppData\\Local\\Temp/ipykernel_7440/700792037.py:2: DeprecationWarning: find_element_by_xpath is deprecated. Please use find_element(by=By.XPATH, value=xpath) instead\n",
      "  driver.find_element_by_xpath(\"(//div)[47]\").click()\n"
     ]
    }
   ],
   "source": [
    "try:\n",
    "    driver.find_element_by_xpath(\"(//div)[47]\").click()\n",
    "    time.sleep(30)\n",
    "except Exception:\n",
    "    pass"
   ]
  },
  {
   "cell_type": "code",
   "execution_count": 194,
   "id": "baa2b5a8-7f98-4dfe-a116-43e4909a6bfb",
   "metadata": {},
   "outputs": [
    {
     "name": "stderr",
     "output_type": "stream",
     "text": [
      "C:\\Users\\hp\\AppData\\Local\\Temp/ipykernel_7440/1926060683.py:1: DeprecationWarning: find_element_by_xpath is deprecated. Please use find_element(by=By.XPATH, value=xpath) instead\n",
      "  driver.find_element_by_xpath(\"(//div[@id='sbwrap'])[1]\").text\n"
     ]
    },
    {
     "data": {
      "text/plain": [
       "\"National\\nTwo persons arrested at Okaikoi South for impersonating policemen – Police\\nSource: MyJoyOnline.com  \\n  29 April 2022 2:07am\\nThe police have arrested two persons who showed up at the ongoing NPP Constituency Executive Elections wearing clothing that created the impression that they were Police personnel.\\nAccording to the Police, the two suspects, identified as, John Essel Baah and Enock Kwame Bosompem, were spotted on Thursday, April 28, at the Okaikoi South constituency where the voting was taken place.\\n“We would like to emphatically state that the two suspects are not Police officers. Meanwhile, they are in custody as the investigation continues,” the Police said in a statement signed by the Director-General of Public Affairs, DCOP Kwesi Ofori.\\nThe Police assured that the two will be taken through due process.\\nMeanwhile, earlier, some New Patriotic Party (NPP) delegates in the constituency vowed to block the conduct of the constituency executive elections if names of qualified delegates are not included in the register.\\nThey claim over 413 names have been deleted from the register, adding that people from other constituencies have rather been included in the album to partake in the exercise.\\nThey also alleged that some members of the National Democratic Congress (NDC) have been added to the register to increase the fortunes of some aspirants.\\nSpeaking to JoyNews’ correspondent, Kwesi Parker-Wilson, on Thursday, they swore to fight for their rights until the right thing is done.\\nAccording to them, the old album which includes their names should be used to conduct the elections.\\nTags:   NPP Constituency elections Okaikoi South constituency\\n\\nRelated to this story\\nNewly-elected Okaikwei South NPP chairman promises to unite factions for victory 2024\\nAsuom Youth President wishes NPP constituency election contestants best of luck\\nPersons whose names have been removed from register failed to contest polling station elections – GAR NPP Regional Secretary\\nChaos at Okaikwei South as NPP delegates threaten to halt constituency elections\\nNPP begins constituency executive elections today\\nNPP constituency elections: I wish all aspirants the very best of luck – Stephen Ntim\\n‘There are too many wranglings and it’s shameful’ – Subin NPP aspirants vow to block constituency elections\\nNPP constituency executive election: We will not entertain proxy voting – Evans Nimako\\nTano North MP denies allegations of intent to reverse polling station election results\\nWe will deal severely with members who changed party colours at Fomena Constituency office – John Boadu\\n\\nAdvertisement\\nRegional executives can't impose unwarranted directives ...\\nStonebwoy has healing music; I will ...\\nFundit: Choose your team wisely\\n“We don’t need political party ...\\nStonebwoy has healing music; I will ...\\n‘There are no shortcuts for the ...\\nI will continue to advocate for ...\\nNPP Constituency Election: Election in Yendi ...\\nRecommended for you\\nPromoted\\nFloyd Mayweather's new home in Miami Beach is absolutely breathtaking!\\nMansion Global\\nPromoted\\nLook at Rihanna's new $10 Million Dollar Home\\nMansion Global\\nPromoted\\nStudy for Free in Canada? Yes You Can\\nStudy In Canada | Sponsored Links\\nPromoted\\n[Photo] This Is How Luxurious Greta Thunberg Lives\\n[Pics] This Is How Luxurious Greta Thunberg Lives\\nD o c t o R e p o r t\\nRead More\\nPromoted\\nWork as a nurse in the USA (see their salaries)\\nNursing jobs in USA | Search ads\\nRecommended by\\n\\n\\nMOST POPULAR NEWS\\nNew information reveals Ghana’s penalty vs Uruguay shouldn’t have stood\\nE-Levy: May 1 implementation to be done in modified-phased approach – GRA\\nPhotos: British High Commission celebrates Queen Elizabeth’s birthday\\nAny woman who is not financially independent has no business in marriage – PR Practitioner\\nI will continue to advocate for repeal of Article 55(3) of the constitution – Akufo-Addo\\nE-levy will affect your tithes – Sam George\\nTwo persons arrested at Okaikoi South for impersonating policemen – Police\\n‘We don’t need political party participation to elect DCE and MCEs’ – Kofi Bentil\\nWe are currently 95% ready to implement E-levy – Deputy Finance Minister\\nBurna Boy shuts down Madison Square Garden with historic concert\\nLATEST STORIES\\nOur family is not in support of his actions – Yul Edochie’s elder brother\\nAny man who marries more than one wife is selfish; he doesn’t succeed in life – Joy FM listener\\nTraining of ISD Research Officers commences in Winneba\\nI took care of my unemployed husband for 4 years, now he has a job, he wants a second wife\\nMarry more wives if you want to be as wise as Solomon – Joy FM listener\\n‘Neutrality allowance makes me sick; it’s the most stupid thing I’ve ever heard in my life’ – Prof. Stephen Adei\\nA$AP Rocky’s guns not used in shooting which was caught on video – Sources\\nE-levy will not affect tithes and offering – John Kumah\\nWorld Bank provides $200m to accelerate Ghana’s Digital Transformation Agenda for better jobs\\nAlleged prostitute sentenced to 30 years in 4 men’s overdose deaths\\nReal men own up, take responsibility – Yul Edochie says after backlash\\nGOC board criticised by Ghana Arm Wrestling Federation for ‘poor’ leadership\\nProf Gadzekpo takes on security agencies for failing to resolve attacks on journalists\\nState car stolen as workers fix South Africa flood-hit road\\nHow often should you change your bed sheets?\\nAbout Us\\nThe Multimedia Group\\nAdvertise With Us\\nContact Us\\nTerms of Use\\nPrivacy Policy\\nRadio\\nJoy 99.7 FM\\nAdom 106.3 FM\\nHitz 103.9 FM\\nAsempa 94.7 FM\\nLuv 99.5 FM\\nNhyira 104.5 FM\\nTV\\nJoy News\\nAdom TV\\nJoy Prime\\nMultiTVWorld.com\\nAdom TV (Audio)\\nJoy News (Audio)\\nSocial\\nYouTube\\nFacebook\\nTwitter\\nInstagram\\nLinkedIn\\nInfographics\\nMore\\nElections\\nHabitat Fair\\n Google Podcast  TuneIn  iTunes Spotify\\n© 1996-2021 Copyright: MyjoyOnline.com\""
      ]
     },
     "execution_count": 194,
     "metadata": {},
     "output_type": "execute_result"
    }
   ],
   "source": [
    "driver.find_element_by_xpath(\"(//div[@id='sbwrap'])[1]\").text\n",
    "#(//div[@id='sbwrap'])[1]"
   ]
  },
  {
   "cell_type": "code",
   "execution_count": 195,
   "id": "5504a571-0091-4b53-a88e-f337c6fbd715",
   "metadata": {},
   "outputs": [
    {
     "name": "stderr",
     "output_type": "stream",
     "text": [
      "C:\\Users\\hp\\AppData\\Local\\Temp/ipykernel_7440/3810513852.py:2: DeprecationWarning: find_element_by_xpath is deprecated. Please use find_element(by=By.XPATH, value=xpath) instead\n",
      "  head1 = driver.find_element_by_xpath(\"(//div)[45]\").text\n"
     ]
    }
   ],
   "source": [
    "try:\n",
    "    head1 = driver.find_element_by_xpath(\"(//div)[45]\").text\n",
    "    first = driver.current_url\n",
    "except Exception:\n",
    "    pass"
   ]
  },
  {
   "cell_type": "code",
   "execution_count": 196,
   "id": "2be3779c-8fe0-47ef-8efd-674df6436955",
   "metadata": {},
   "outputs": [],
   "source": [
    "hh1 = [] #urls, keynames\n",
    "try:\n",
    "    h1 = head1\n",
    "except Exception:\n",
    "    h1 = 'unavailable'\n",
    "hh1.append(h1)"
   ]
  },
  {
   "cell_type": "markdown",
   "id": "ce758ed3-497f-411b-9ec5-fccebc3b6a41",
   "metadata": {},
   "source": [
    "# Search 2"
   ]
  },
  {
   "cell_type": "code",
   "execution_count": 197,
   "id": "82e4cce3-ef3a-404c-be1e-a6bebe7a4e35",
   "metadata": {},
   "outputs": [
    {
     "name": "stderr",
     "output_type": "stream",
     "text": [
      "C:\\Users\\hp\\AppData\\Local\\Temp/ipykernel_7440/1031568635.py:7: DeprecationWarning: find_element_by_xpath is deprecated. Please use find_element(by=By.XPATH, value=xpath) instead\n",
      "  driver.find_element_by_xpath(\"(//a)[26]\").click()\n",
      "C:\\Users\\hp\\AppData\\Local\\Temp/ipykernel_7440/1031568635.py:9: DeprecationWarning: find_element_by_xpath is deprecated. Please use find_element(by=By.XPATH, value=xpath) instead\n",
      "  driver.find_element_by_xpath(\"(//input[@id='s'])[2]\").send_keys(new_lists[1])\n",
      "C:\\Users\\hp\\AppData\\Local\\Temp/ipykernel_7440/1031568635.py:11: DeprecationWarning: find_element_by_xpath is deprecated. Please use find_element(by=By.XPATH, value=xpath) instead\n",
      "  driver.find_element_by_xpath(\"(//input[@id='s'])[2]\").send_keys(Keys.ENTER) #sendKeys(Keys.ENTER)\n",
      "C:\\Users\\hp\\AppData\\Local\\Temp/ipykernel_7440/1031568635.py:16: DeprecationWarning: find_element_by_xpath is deprecated. Please use find_element(by=By.XPATH, value=xpath) instead\n",
      "  driver.find_element_by_xpath(\"(//div)[47]\").click()\n",
      "C:\\Users\\hp\\AppData\\Local\\Temp/ipykernel_7440/1031568635.py:20: DeprecationWarning: find_element_by_xpath is deprecated. Please use find_element(by=By.XPATH, value=xpath) instead\n",
      "  driver.find_element_by_xpath(\"(//div[@id='sbwrap'])[1]\").text\n"
     ]
    }
   ],
   "source": [
    "try:\n",
    "    try:\n",
    "        driver.get(\"https://www.myjoyonline.com/\")\n",
    "        time.sleep(30)\n",
    "    except Exception:\n",
    "        pass\n",
    "    driver.find_element_by_xpath(\"(//a)[26]\").click()\n",
    "    time.sleep(5)\n",
    "    driver.find_element_by_xpath(\"(//input[@id='s'])[2]\").send_keys(new_lists[1])\n",
    "    try:\n",
    "        driver.find_element_by_xpath(\"(//input[@id='s'])[2]\").send_keys(Keys.ENTER) #sendKeys(Keys.ENTER)\n",
    "        time.sleep(30)\n",
    "    except Exception:\n",
    "        pass        \n",
    "    try:\n",
    "        driver.find_element_by_xpath(\"(//div)[47]\").click()\n",
    "        time.sleep(30)\n",
    "    except Exception:\n",
    "        pass\n",
    "    driver.find_element_by_xpath(\"(//div[@id='sbwrap'])[1]\").text\n",
    "except Exception:\n",
    "    pass"
   ]
  },
  {
   "cell_type": "code",
   "execution_count": 198,
   "id": "b9373cd7-824d-4e48-b0ff-47da192182e7",
   "metadata": {},
   "outputs": [
    {
     "name": "stderr",
     "output_type": "stream",
     "text": [
      "C:\\Users\\hp\\AppData\\Local\\Temp/ipykernel_7440/751157156.py:2: DeprecationWarning: find_element_by_xpath is deprecated. Please use find_element(by=By.XPATH, value=xpath) instead\n",
      "  head2 = driver.find_element_by_xpath(\"(//div)[45]\").text\n"
     ]
    }
   ],
   "source": [
    "try:\n",
    "    head2 = driver.find_element_by_xpath(\"(//div)[45]\").text\n",
    "    second = driver.current_url\n",
    "except Exception:\n",
    "    pass"
   ]
  },
  {
   "cell_type": "code",
   "execution_count": 199,
   "id": "97060f60-5767-4d2b-bfab-5e2123d08baf",
   "metadata": {},
   "outputs": [],
   "source": [
    "hh2 = [] #urls, keynames\n",
    "try:\n",
    "    h2 = head2\n",
    "except Exception:\n",
    "    h2 = 'unavailable'\n",
    "hh2.append(h2)"
   ]
  },
  {
   "cell_type": "markdown",
   "id": "b08d9a32-a46e-4ef4-afa8-8f9d2334115d",
   "metadata": {},
   "source": [
    "# 3"
   ]
  },
  {
   "cell_type": "code",
   "execution_count": 200,
   "id": "6446aa19-bf98-4eb3-89a7-fd14e5aadaf6",
   "metadata": {},
   "outputs": [
    {
     "name": "stderr",
     "output_type": "stream",
     "text": [
      "C:\\Users\\hp\\AppData\\Local\\Temp/ipykernel_7440/3583633056.py:7: DeprecationWarning: find_element_by_xpath is deprecated. Please use find_element(by=By.XPATH, value=xpath) instead\n",
      "  driver.find_element_by_xpath(\"(//a)[26]\").click()\n",
      "C:\\Users\\hp\\AppData\\Local\\Temp/ipykernel_7440/3583633056.py:8: DeprecationWarning: find_element_by_xpath is deprecated. Please use find_element(by=By.XPATH, value=xpath) instead\n",
      "  driver.find_element_by_xpath(\"(//input[@id='s'])[2]\").send_keys(new_lists[2])\n",
      "C:\\Users\\hp\\AppData\\Local\\Temp/ipykernel_7440/3583633056.py:10: DeprecationWarning: find_element_by_xpath is deprecated. Please use find_element(by=By.XPATH, value=xpath) instead\n",
      "  driver.find_element_by_xpath(\"(//input[@id='s'])[2]\").send_keys(Keys.ENTER) #sendKeys(Keys.ENTER)\n",
      "C:\\Users\\hp\\AppData\\Local\\Temp/ipykernel_7440/3583633056.py:15: DeprecationWarning: find_element_by_xpath is deprecated. Please use find_element(by=By.XPATH, value=xpath) instead\n",
      "  driver.find_element_by_xpath(\"(//div)[47]\").click()\n",
      "C:\\Users\\hp\\AppData\\Local\\Temp/ipykernel_7440/3583633056.py:19: DeprecationWarning: find_element_by_xpath is deprecated. Please use find_element(by=By.XPATH, value=xpath) instead\n",
      "  driver.find_element_by_xpath(\"(//div[@id='sbwrap'])[1]\").text\n"
     ]
    }
   ],
   "source": [
    "try:\n",
    "    try:\n",
    "        driver.get(\"https://www.myjoyonline.com/\")\n",
    "        time.sleep(30)\n",
    "    except Exception:\n",
    "        pass\n",
    "    driver.find_element_by_xpath(\"(//a)[26]\").click()\n",
    "    driver.find_element_by_xpath(\"(//input[@id='s'])[2]\").send_keys(new_lists[2])\n",
    "    try:\n",
    "        driver.find_element_by_xpath(\"(//input[@id='s'])[2]\").send_keys(Keys.ENTER) #sendKeys(Keys.ENTER)\n",
    "        time.sleep(30)\n",
    "    except Exception:\n",
    "        pass        \n",
    "    try:\n",
    "        driver.find_element_by_xpath(\"(//div)[47]\").click()\n",
    "        time.sleep(30)\n",
    "    except Exception:\n",
    "        pass\n",
    "    driver.find_element_by_xpath(\"(//div[@id='sbwrap'])[1]\").text\n",
    "except Exception:\n",
    "    pass"
   ]
  },
  {
   "cell_type": "code",
   "execution_count": 201,
   "id": "bc4a86e6-4107-4b27-ae31-bbacee538f0e",
   "metadata": {},
   "outputs": [
    {
     "name": "stderr",
     "output_type": "stream",
     "text": [
      "C:\\Users\\hp\\AppData\\Local\\Temp/ipykernel_7440/2523708774.py:2: DeprecationWarning: find_element_by_xpath is deprecated. Please use find_element(by=By.XPATH, value=xpath) instead\n",
      "  head3 = driver.find_element_by_xpath(\"(//div)[45]\").text\n"
     ]
    }
   ],
   "source": [
    "try:\n",
    "    head3 = driver.find_element_by_xpath(\"(//div)[45]\").text\n",
    "    third = driver.current_url\n",
    "except Exception:\n",
    "    pass"
   ]
  },
  {
   "cell_type": "code",
   "execution_count": 202,
   "id": "26cef63c-dd1c-43bf-b57f-990d38707104",
   "metadata": {},
   "outputs": [],
   "source": [
    "hh3 = [] #urls, keynames\n",
    "try:\n",
    "    h3 = head3\n",
    "except Exception:\n",
    "    h3 = 'unavailable'\n",
    "hh3.append(h3)"
   ]
  },
  {
   "cell_type": "markdown",
   "id": "1bd54c8e-63a6-4b6c-91c3-a5c557a650a9",
   "metadata": {},
   "source": [
    "# 4"
   ]
  },
  {
   "cell_type": "code",
   "execution_count": 203,
   "id": "85e24376-2938-49ce-afaf-ed75b2422c8c",
   "metadata": {},
   "outputs": [
    {
     "data": {
      "text/plain": [
       "'Policemen run for their lives as robbers attack bullion van'"
      ]
     },
     "execution_count": 203,
     "metadata": {},
     "output_type": "execute_result"
    }
   ],
   "source": [
    "new_lists[3]"
   ]
  },
  {
   "cell_type": "code",
   "execution_count": 204,
   "id": "7cac340f-b1e0-4632-a96d-b649e48b4677",
   "metadata": {},
   "outputs": [
    {
     "name": "stderr",
     "output_type": "stream",
     "text": [
      "C:\\Users\\hp\\AppData\\Local\\Temp/ipykernel_7440/10817105.py:7: DeprecationWarning: find_element_by_xpath is deprecated. Please use find_element(by=By.XPATH, value=xpath) instead\n",
      "  driver.find_element_by_xpath(\"(//a)[26]\").click()\n",
      "C:\\Users\\hp\\AppData\\Local\\Temp/ipykernel_7440/10817105.py:8: DeprecationWarning: find_element_by_xpath is deprecated. Please use find_element(by=By.XPATH, value=xpath) instead\n",
      "  driver.find_element_by_xpath(\"(//input[@id='s'])[2]\").send_keys(new_lists[3])\n",
      "C:\\Users\\hp\\AppData\\Local\\Temp/ipykernel_7440/10817105.py:10: DeprecationWarning: find_element_by_xpath is deprecated. Please use find_element(by=By.XPATH, value=xpath) instead\n",
      "  driver.find_element_by_xpath(\"(//input[@id='s'])[2]\").send_keys(Keys.ENTER) #sendKeys(Keys.ENTER)\n",
      "C:\\Users\\hp\\AppData\\Local\\Temp/ipykernel_7440/10817105.py:15: DeprecationWarning: find_element_by_xpath is deprecated. Please use find_element(by=By.XPATH, value=xpath) instead\n",
      "  driver.find_element_by_xpath(\"(//div)[47]\").click()\n",
      "C:\\Users\\hp\\AppData\\Local\\Temp/ipykernel_7440/10817105.py:19: DeprecationWarning: find_element_by_xpath is deprecated. Please use find_element(by=By.XPATH, value=xpath) instead\n",
      "  driver.find_element_by_xpath(\"(//div[@id='sbwrap'])[1]\").text\n"
     ]
    }
   ],
   "source": [
    "try:\n",
    "    try:\n",
    "        driver.get(\"https://www.myjoyonline.com/\")\n",
    "        time.sleep(30)\n",
    "    except Exception:\n",
    "        pass\n",
    "    driver.find_element_by_xpath(\"(//a)[26]\").click()\n",
    "    driver.find_element_by_xpath(\"(//input[@id='s'])[2]\").send_keys(new_lists[3])\n",
    "    try:\n",
    "        driver.find_element_by_xpath(\"(//input[@id='s'])[2]\").send_keys(Keys.ENTER) #sendKeys(Keys.ENTER)\n",
    "        time.sleep(30)\n",
    "    except Exception:\n",
    "        pass        \n",
    "    try:\n",
    "        driver.find_element_by_xpath(\"(//div)[47]\").click()\n",
    "        time.sleep(30)\n",
    "    except Exception:\n",
    "        pass\n",
    "    driver.find_element_by_xpath(\"(//div[@id='sbwrap'])[1]\").text\n",
    "except Exception:\n",
    "    pass"
   ]
  },
  {
   "cell_type": "code",
   "execution_count": 205,
   "id": "23581c81-d245-4717-b049-68cef95a409d",
   "metadata": {},
   "outputs": [
    {
     "name": "stderr",
     "output_type": "stream",
     "text": [
      "C:\\Users\\hp\\AppData\\Local\\Temp/ipykernel_7440/815047624.py:2: DeprecationWarning: find_element_by_xpath is deprecated. Please use find_element(by=By.XPATH, value=xpath) instead\n",
      "  head4 = driver.find_element_by_xpath(\"(//div)[45]\").text\n"
     ]
    }
   ],
   "source": [
    "try:\n",
    "    head4 = driver.find_element_by_xpath(\"(//div)[45]\").text\n",
    "    forth = driver.current_url\n",
    "except Exception:\n",
    "    pass"
   ]
  },
  {
   "cell_type": "code",
   "execution_count": 206,
   "id": "db06be84-68c5-4f76-9593-78d8ebfba1b8",
   "metadata": {},
   "outputs": [],
   "source": [
    "hh4 = [] #urls, keynames\n",
    "try:\n",
    "    h4 = head4\n",
    "except Exception:\n",
    "    h4 = 'unavailable'\n",
    "hh4.append(h4)"
   ]
  },
  {
   "cell_type": "markdown",
   "id": "f1384606-e54f-4cab-b953-62a420f4cf47",
   "metadata": {},
   "source": [
    "# 5"
   ]
  },
  {
   "cell_type": "code",
   "execution_count": 207,
   "id": "b54231b5-f076-4176-a0dd-610df5d2264e",
   "metadata": {},
   "outputs": [
    {
     "name": "stderr",
     "output_type": "stream",
     "text": [
      "C:\\Users\\hp\\AppData\\Local\\Temp/ipykernel_7440/1746700709.py:7: DeprecationWarning: find_element_by_xpath is deprecated. Please use find_element(by=By.XPATH, value=xpath) instead\n",
      "  driver.find_element_by_xpath(\"(//a)[26]\").click()\n",
      "C:\\Users\\hp\\AppData\\Local\\Temp/ipykernel_7440/1746700709.py:8: DeprecationWarning: find_element_by_xpath is deprecated. Please use find_element(by=By.XPATH, value=xpath) instead\n",
      "  element = driver.find_element_by_xpath(\"(//input[@id='s'])[2]\").send_keys(new_lists[4])\n",
      "C:\\Users\\hp\\AppData\\Local\\Temp/ipykernel_7440/1746700709.py:10: DeprecationWarning: find_element_by_xpath is deprecated. Please use find_element(by=By.XPATH, value=xpath) instead\n",
      "  driver.find_element_by_xpath(\"(//input[@id='s'])[2]\").send_keys(Keys.ENTER) #sendKeys(Keys.ENTER)\n",
      "C:\\Users\\hp\\AppData\\Local\\Temp/ipykernel_7440/1746700709.py:15: DeprecationWarning: find_element_by_xpath is deprecated. Please use find_element(by=By.XPATH, value=xpath) instead\n",
      "  driver.find_element_by_xpath(\"(//div)[47]\").click()\n",
      "C:\\Users\\hp\\AppData\\Local\\Temp/ipykernel_7440/1746700709.py:19: DeprecationWarning: find_element_by_xpath is deprecated. Please use find_element(by=By.XPATH, value=xpath) instead\n",
      "  driver.find_element_by_xpath(\"(//div[@id='sbwrap'])[1]\").text\n"
     ]
    }
   ],
   "source": [
    "try:\n",
    "    try:\n",
    "        driver.get(\"https://www.myjoyonline.com/\")\n",
    "        time.sleep(30)\n",
    "    except Exception:\n",
    "        pass\n",
    "    driver.find_element_by_xpath(\"(//a)[26]\").click()\n",
    "    element = driver.find_element_by_xpath(\"(//input[@id='s'])[2]\").send_keys(new_lists[4])\n",
    "    try:\n",
    "        driver.find_element_by_xpath(\"(//input[@id='s'])[2]\").send_keys(Keys.ENTER) #sendKeys(Keys.ENTER)\n",
    "        time.sleep(30)\n",
    "    except Exception:\n",
    "        pass        \n",
    "    try:\n",
    "        driver.find_element_by_xpath(\"(//div)[47]\").click()\n",
    "        time.sleep(30)\n",
    "    except Exception:\n",
    "        pass\n",
    "    driver.find_element_by_xpath(\"(//div[@id='sbwrap'])[1]\").text\n",
    "except Exception:\n",
    "    pass"
   ]
  },
  {
   "cell_type": "code",
   "execution_count": 208,
   "id": "77df3e47-cead-451c-8ca6-4d33468c41b3",
   "metadata": {},
   "outputs": [
    {
     "name": "stderr",
     "output_type": "stream",
     "text": [
      "C:\\Users\\hp\\AppData\\Local\\Temp/ipykernel_7440/598135551.py:2: DeprecationWarning: find_element_by_xpath is deprecated. Please use find_element(by=By.XPATH, value=xpath) instead\n",
      "  head5 = driver.find_element_by_xpath(\"(//div)[45]\").text\n"
     ]
    }
   ],
   "source": [
    "try:\n",
    "    head5 = driver.find_element_by_xpath(\"(//div)[45]\").text\n",
    "    fifth = driver.current_url\n",
    "except Exception:\n",
    "    pass"
   ]
  },
  {
   "cell_type": "code",
   "execution_count": 209,
   "id": "93433b33-26a9-4101-a91d-1549d8572971",
   "metadata": {},
   "outputs": [],
   "source": [
    "hh5 = [] #urls, keynames\n",
    "try:\n",
    "    h5 = head5\n",
    "except Exception:\n",
    "    h5 = 'unavailable'\n",
    "hh5.append(h5)"
   ]
  },
  {
   "cell_type": "code",
   "execution_count": null,
   "id": "6260eccf-74cb-4fab-a853-6d2d8e0be9b1",
   "metadata": {},
   "outputs": [],
   "source": []
  },
  {
   "cell_type": "markdown",
   "id": "fe18b83f-1187-4d72-9630-365a9afae5b2",
   "metadata": {},
   "source": [
    "# 6"
   ]
  },
  {
   "cell_type": "code",
   "execution_count": 210,
   "id": "b46d5818-d34e-4413-98ad-9921cac433bf",
   "metadata": {},
   "outputs": [
    {
     "name": "stderr",
     "output_type": "stream",
     "text": [
      "C:\\Users\\hp\\AppData\\Local\\Temp/ipykernel_7440/467430033.py:7: DeprecationWarning: find_element_by_xpath is deprecated. Please use find_element(by=By.XPATH, value=xpath) instead\n",
      "  driver.find_element_by_xpath(\"(//a)[26]\").click()\n",
      "C:\\Users\\hp\\AppData\\Local\\Temp/ipykernel_7440/467430033.py:8: DeprecationWarning: find_element_by_xpath is deprecated. Please use find_element(by=By.XPATH, value=xpath) instead\n",
      "  element = driver.find_element_by_xpath(\"(//input[@id='s'])[2]\").send_keys(new_lists[5])\n",
      "C:\\Users\\hp\\AppData\\Local\\Temp/ipykernel_7440/467430033.py:10: DeprecationWarning: find_element_by_xpath is deprecated. Please use find_element(by=By.XPATH, value=xpath) instead\n",
      "  driver.find_element_by_xpath(\"(//input[@id='s'])[2]\").send_keys(Keys.ENTER) #sendKeys(Keys.ENTER)\n",
      "C:\\Users\\hp\\AppData\\Local\\Temp/ipykernel_7440/467430033.py:15: DeprecationWarning: find_element_by_xpath is deprecated. Please use find_element(by=By.XPATH, value=xpath) instead\n",
      "  driver.find_element_by_xpath(\"(//div)[47]\").click()\n",
      "C:\\Users\\hp\\AppData\\Local\\Temp/ipykernel_7440/467430033.py:19: DeprecationWarning: find_element_by_xpath is deprecated. Please use find_element(by=By.XPATH, value=xpath) instead\n",
      "  driver.find_element_by_xpath(\"(//div[@id='sbwrap'])[1]\").text\n"
     ]
    }
   ],
   "source": [
    "try:\n",
    "    try:\n",
    "        driver.get(\"https://www.myjoyonline.com/\")\n",
    "        time.sleep(30)\n",
    "    except Exception:\n",
    "        pass\n",
    "    driver.find_element_by_xpath(\"(//a)[26]\").click()\n",
    "    element = driver.find_element_by_xpath(\"(//input[@id='s'])[2]\").send_keys(new_lists[5])\n",
    "    try:\n",
    "        driver.find_element_by_xpath(\"(//input[@id='s'])[2]\").send_keys(Keys.ENTER) #sendKeys(Keys.ENTER)\n",
    "        time.sleep(30)\n",
    "    except Exception:\n",
    "        pass        \n",
    "    try:\n",
    "        driver.find_element_by_xpath(\"(//div)[47]\").click()\n",
    "        time.sleep(30)\n",
    "    except Exception:\n",
    "        pass\n",
    "    driver.find_element_by_xpath(\"(//div[@id='sbwrap'])[1]\").text\n",
    "except Exception:\n",
    "    pass"
   ]
  },
  {
   "cell_type": "code",
   "execution_count": 211,
   "id": "e458ea22-4c73-45ca-b440-e2f61be6bd3e",
   "metadata": {},
   "outputs": [
    {
     "name": "stderr",
     "output_type": "stream",
     "text": [
      "C:\\Users\\hp\\AppData\\Local\\Temp/ipykernel_7440/3472395169.py:2: DeprecationWarning: find_element_by_xpath is deprecated. Please use find_element(by=By.XPATH, value=xpath) instead\n",
      "  head6 = driver.find_element_by_xpath(\"(//div)[45]\").text\n"
     ]
    }
   ],
   "source": [
    "try:\n",
    "    head6 = driver.find_element_by_xpath(\"(//div)[45]\").text\n",
    "    sixth = driver.current_url\n",
    "except Exception:\n",
    "    pass"
   ]
  },
  {
   "cell_type": "code",
   "execution_count": 212,
   "id": "685486f2-ebe7-476a-8777-0f86c580fd31",
   "metadata": {},
   "outputs": [],
   "source": [
    "hh6 = [] #urls, keynames\n",
    "try:\n",
    "    h6 = head6\n",
    "except Exception:\n",
    "    h6 = 'unavailable'\n",
    "hh6.append(h6)"
   ]
  },
  {
   "cell_type": "markdown",
   "id": "ae96aa4b-c3e5-4e9f-8fdc-173e62b25087",
   "metadata": {},
   "source": [
    "# 7"
   ]
  },
  {
   "cell_type": "code",
   "execution_count": 213,
   "id": "5d78a7b2-21f7-48a2-bdaf-5f150426698b",
   "metadata": {},
   "outputs": [
    {
     "name": "stderr",
     "output_type": "stream",
     "text": [
      "C:\\Users\\hp\\AppData\\Local\\Temp/ipykernel_7440/2000394793.py:7: DeprecationWarning: find_element_by_xpath is deprecated. Please use find_element(by=By.XPATH, value=xpath) instead\n",
      "  driver.find_element_by_xpath(\"(//a)[26]\").click()\n",
      "C:\\Users\\hp\\AppData\\Local\\Temp/ipykernel_7440/2000394793.py:8: DeprecationWarning: find_element_by_xpath is deprecated. Please use find_element(by=By.XPATH, value=xpath) instead\n",
      "  element = driver.find_element_by_xpath(\"(//input[@id='s'])[2]\").send_keys(new_lists[6])\n",
      "C:\\Users\\hp\\AppData\\Local\\Temp/ipykernel_7440/2000394793.py:10: DeprecationWarning: find_element_by_xpath is deprecated. Please use find_element(by=By.XPATH, value=xpath) instead\n",
      "  driver.find_element_by_xpath(\"(//input[@id='s'])[2]\").send_keys(Keys.ENTER) #sendKeys(Keys.ENTER)\n",
      "C:\\Users\\hp\\AppData\\Local\\Temp/ipykernel_7440/2000394793.py:15: DeprecationWarning: find_element_by_xpath is deprecated. Please use find_element(by=By.XPATH, value=xpath) instead\n",
      "  driver.find_element_by_xpath(\"(//div)[47]\").click()\n",
      "C:\\Users\\hp\\AppData\\Local\\Temp/ipykernel_7440/2000394793.py:19: DeprecationWarning: find_element_by_xpath is deprecated. Please use find_element(by=By.XPATH, value=xpath) instead\n",
      "  driver.find_element_by_xpath(\"(//div[@id='sbwrap'])[1]\").text\n"
     ]
    }
   ],
   "source": [
    "try:\n",
    "    try:\n",
    "        driver.get(\"https://www.myjoyonline.com/\")\n",
    "        time.sleep(30)\n",
    "    except Exception:\n",
    "        pass\n",
    "    driver.find_element_by_xpath(\"(//a)[26]\").click()\n",
    "    element = driver.find_element_by_xpath(\"(//input[@id='s'])[2]\").send_keys(new_lists[6])\n",
    "    try:\n",
    "        driver.find_element_by_xpath(\"(//input[@id='s'])[2]\").send_keys(Keys.ENTER) #sendKeys(Keys.ENTER)\n",
    "        time.sleep(30)\n",
    "    except Exception:\n",
    "        pass        \n",
    "    try:\n",
    "        driver.find_element_by_xpath(\"(//div)[47]\").click()\n",
    "        time.sleep(30)\n",
    "    except Exception:\n",
    "        pass\n",
    "    driver.find_element_by_xpath(\"(//div[@id='sbwrap'])[1]\").text\n",
    "except Exception:\n",
    "    pass"
   ]
  },
  {
   "cell_type": "code",
   "execution_count": 214,
   "id": "47636e17-7aa0-43fb-8b02-49810384b6ce",
   "metadata": {},
   "outputs": [
    {
     "name": "stderr",
     "output_type": "stream",
     "text": [
      "C:\\Users\\hp\\AppData\\Local\\Temp/ipykernel_7440/4245425538.py:2: DeprecationWarning: find_element_by_xpath is deprecated. Please use find_element(by=By.XPATH, value=xpath) instead\n",
      "  head7 = driver.find_element_by_xpath(\"(//div)[45]\").text\n"
     ]
    }
   ],
   "source": [
    "try:\n",
    "    head7 = driver.find_element_by_xpath(\"(//div)[45]\").text\n",
    "    seventh = driver.current_url\n",
    "except Exception:\n",
    "    pass"
   ]
  },
  {
   "cell_type": "code",
   "execution_count": 215,
   "id": "8f8374fe-03da-451d-a802-9cc774b1510c",
   "metadata": {},
   "outputs": [],
   "source": [
    "hh7 = [] #urls, keynames\n",
    "try:\n",
    "    h7 = head7\n",
    "except Exception:\n",
    "    h7 = 'unavailable'\n",
    "hh7.append(h7)"
   ]
  },
  {
   "cell_type": "markdown",
   "id": "24aba741-c8cc-48f3-8592-3356d9b8e8ea",
   "metadata": {},
   "source": [
    "# 8"
   ]
  },
  {
   "cell_type": "code",
   "execution_count": 216,
   "id": "babea504-6be8-4db7-bf03-aad1a300b792",
   "metadata": {},
   "outputs": [
    {
     "name": "stderr",
     "output_type": "stream",
     "text": [
      "C:\\Users\\hp\\AppData\\Local\\Temp/ipykernel_7440/3799261205.py:7: DeprecationWarning: find_element_by_xpath is deprecated. Please use find_element(by=By.XPATH, value=xpath) instead\n",
      "  driver.find_element_by_xpath(\"(//a)[26]\").click()\n",
      "C:\\Users\\hp\\AppData\\Local\\Temp/ipykernel_7440/3799261205.py:8: DeprecationWarning: find_element_by_xpath is deprecated. Please use find_element(by=By.XPATH, value=xpath) instead\n",
      "  element = driver.find_element_by_xpath(\"(//input[@id='s'])[2]\").send_keys(new_lists[7])\n",
      "C:\\Users\\hp\\AppData\\Local\\Temp/ipykernel_7440/3799261205.py:10: DeprecationWarning: find_element_by_xpath is deprecated. Please use find_element(by=By.XPATH, value=xpath) instead\n",
      "  driver.find_element_by_xpath(\"(//input[@id='s'])[2]\").send_keys(Keys.ENTER) #sendKeys(Keys.ENTER)\n",
      "C:\\Users\\hp\\AppData\\Local\\Temp/ipykernel_7440/3799261205.py:15: DeprecationWarning: find_element_by_xpath is deprecated. Please use find_element(by=By.XPATH, value=xpath) instead\n",
      "  driver.find_element_by_xpath(\"(//div)[47]\").click()\n",
      "C:\\Users\\hp\\AppData\\Local\\Temp/ipykernel_7440/3799261205.py:19: DeprecationWarning: find_element_by_xpath is deprecated. Please use find_element(by=By.XPATH, value=xpath) instead\n",
      "  driver.find_element_by_xpath(\"(//div[@id='sbwrap'])[1]\").text\n"
     ]
    }
   ],
   "source": [
    "try:\n",
    "    try:\n",
    "        driver.get(\"https://www.myjoyonline.com/\")\n",
    "        time.sleep(30)\n",
    "    except Exception:\n",
    "        pass\n",
    "    driver.find_element_by_xpath(\"(//a)[26]\").click()\n",
    "    element = driver.find_element_by_xpath(\"(//input[@id='s'])[2]\").send_keys(new_lists[7])\n",
    "    try:\n",
    "        driver.find_element_by_xpath(\"(//input[@id='s'])[2]\").send_keys(Keys.ENTER) #sendKeys(Keys.ENTER)\n",
    "        time.sleep(30)\n",
    "    except Exception:\n",
    "        pass        \n",
    "    try:\n",
    "        driver.find_element_by_xpath(\"(//div)[47]\").click()\n",
    "        time.sleep(30)\n",
    "    except Exception:\n",
    "        pass\n",
    "    driver.find_element_by_xpath(\"(//div[@id='sbwrap'])[1]\").text\n",
    "except Exception:\n",
    "    pass"
   ]
  },
  {
   "cell_type": "code",
   "execution_count": 217,
   "id": "cb014c21-843c-4751-8642-4b8e3abf9b2c",
   "metadata": {},
   "outputs": [
    {
     "name": "stderr",
     "output_type": "stream",
     "text": [
      "C:\\Users\\hp\\AppData\\Local\\Temp/ipykernel_7440/63250236.py:2: DeprecationWarning: find_element_by_xpath is deprecated. Please use find_element(by=By.XPATH, value=xpath) instead\n",
      "  head8 = driver.find_element_by_xpath(\"(//div)[45]\").text\n"
     ]
    }
   ],
   "source": [
    "try:\n",
    "    head8 = driver.find_element_by_xpath(\"(//div)[45]\").text\n",
    "    eighth = driver.current_url\n",
    "except Exception:\n",
    "    pass"
   ]
  },
  {
   "cell_type": "code",
   "execution_count": 218,
   "id": "0f7d8344-e6a6-4a04-a90b-660505596d2e",
   "metadata": {},
   "outputs": [],
   "source": [
    "hh8 = [] #urls, keynames\n",
    "try:\n",
    "    h8 = head8\n",
    "except Exception:\n",
    "    h8 = 'unavailable'\n",
    "hh8.append(h8)"
   ]
  },
  {
   "cell_type": "markdown",
   "id": "12196251-04e8-4832-beab-5e4b85d4079d",
   "metadata": {},
   "source": [
    "# 9"
   ]
  },
  {
   "cell_type": "code",
   "execution_count": 219,
   "id": "d777a82e-b332-442d-a5a1-c41e54aedb80",
   "metadata": {},
   "outputs": [
    {
     "name": "stderr",
     "output_type": "stream",
     "text": [
      "C:\\Users\\hp\\AppData\\Local\\Temp/ipykernel_7440/1411473565.py:7: DeprecationWarning: find_element_by_xpath is deprecated. Please use find_element(by=By.XPATH, value=xpath) instead\n",
      "  driver.find_element_by_xpath(\"(//a)[26]\").click()\n",
      "C:\\Users\\hp\\AppData\\Local\\Temp/ipykernel_7440/1411473565.py:8: DeprecationWarning: find_element_by_xpath is deprecated. Please use find_element(by=By.XPATH, value=xpath) instead\n",
      "  element = driver.find_element_by_xpath(\"(//input[@id='s'])[2]\").send_keys(new_lists[8])\n",
      "C:\\Users\\hp\\AppData\\Local\\Temp/ipykernel_7440/1411473565.py:10: DeprecationWarning: find_element_by_xpath is deprecated. Please use find_element(by=By.XPATH, value=xpath) instead\n",
      "  driver.find_element_by_xpath(\"(//input[@id='s'])[2]\").send_keys(Keys.ENTER) #sendKeys(Keys.ENTER)\n",
      "C:\\Users\\hp\\AppData\\Local\\Temp/ipykernel_7440/1411473565.py:15: DeprecationWarning: find_element_by_xpath is deprecated. Please use find_element(by=By.XPATH, value=xpath) instead\n",
      "  driver.find_element_by_xpath(\"(//div)[47]\").click()\n",
      "C:\\Users\\hp\\AppData\\Local\\Temp/ipykernel_7440/1411473565.py:19: DeprecationWarning: find_element_by_xpath is deprecated. Please use find_element(by=By.XPATH, value=xpath) instead\n",
      "  driver.find_element_by_xpath(\"(//div[@id='sbwrap'])[1]\").text\n"
     ]
    }
   ],
   "source": [
    "try:\n",
    "    try:\n",
    "        driver.get(\"https://www.myjoyonline.com/\")\n",
    "        time.sleep(30)\n",
    "    except Exception:\n",
    "        pass\n",
    "    driver.find_element_by_xpath(\"(//a)[26]\").click()\n",
    "    element = driver.find_element_by_xpath(\"(//input[@id='s'])[2]\").send_keys(new_lists[8])\n",
    "    try:\n",
    "        driver.find_element_by_xpath(\"(//input[@id='s'])[2]\").send_keys(Keys.ENTER) #sendKeys(Keys.ENTER)\n",
    "        time.sleep(30)\n",
    "    except Exception:\n",
    "        pass        \n",
    "    try:\n",
    "        driver.find_element_by_xpath(\"(//div)[47]\").click()\n",
    "        time.sleep(30)\n",
    "    except Exception:\n",
    "        pass\n",
    "    driver.find_element_by_xpath(\"(//div[@id='sbwrap'])[1]\").text\n",
    "except Exception:\n",
    "    pass"
   ]
  },
  {
   "cell_type": "code",
   "execution_count": 220,
   "id": "8e611459-4203-4a4e-bbad-1c9e18d649d3",
   "metadata": {},
   "outputs": [
    {
     "name": "stderr",
     "output_type": "stream",
     "text": [
      "C:\\Users\\hp\\AppData\\Local\\Temp/ipykernel_7440/3692978025.py:2: DeprecationWarning: find_element_by_xpath is deprecated. Please use find_element(by=By.XPATH, value=xpath) instead\n",
      "  head9 = driver.find_element_by_xpath(\"(//div)[45]\").text\n"
     ]
    }
   ],
   "source": [
    "try:\n",
    "    head9 = driver.find_element_by_xpath(\"(//div)[45]\").text\n",
    "    nineth = driver.current_url\n",
    "except Exception:\n",
    "    pass"
   ]
  },
  {
   "cell_type": "code",
   "execution_count": 221,
   "id": "00d8d50a-1e8d-4dd4-aee6-af1ba4932685",
   "metadata": {},
   "outputs": [],
   "source": [
    "hh9 = [] #urls, keynames\n",
    "try:\n",
    "    h9 = head9\n",
    "except Exception:\n",
    "    h9 = 'unavailable'\n",
    "hh9.append(h9)"
   ]
  },
  {
   "cell_type": "markdown",
   "id": "f3d5e994-d568-4f81-8423-12359feab591",
   "metadata": {},
   "source": [
    "# 10"
   ]
  },
  {
   "cell_type": "code",
   "execution_count": 222,
   "id": "ce4c283c-8dad-4932-a104-9b1804c52b0c",
   "metadata": {},
   "outputs": [
    {
     "name": "stderr",
     "output_type": "stream",
     "text": [
      "C:\\Users\\hp\\AppData\\Local\\Temp/ipykernel_7440/1884558046.py:7: DeprecationWarning: find_element_by_xpath is deprecated. Please use find_element(by=By.XPATH, value=xpath) instead\n",
      "  driver.find_element_by_xpath(\"(//a)[26]\").click()\n",
      "C:\\Users\\hp\\AppData\\Local\\Temp/ipykernel_7440/1884558046.py:8: DeprecationWarning: find_element_by_xpath is deprecated. Please use find_element(by=By.XPATH, value=xpath) instead\n",
      "  element = driver.find_element_by_xpath(\"(//input[@id='s'])[2]\").send_keys(new_lists[9])\n",
      "C:\\Users\\hp\\AppData\\Local\\Temp/ipykernel_7440/1884558046.py:10: DeprecationWarning: find_element_by_xpath is deprecated. Please use find_element(by=By.XPATH, value=xpath) instead\n",
      "  driver.find_element_by_xpath(\"(//input[@id='s'])[2]\").send_keys(Keys.ENTER) #sendKeys(Keys.ENTER)\n",
      "C:\\Users\\hp\\AppData\\Local\\Temp/ipykernel_7440/1884558046.py:15: DeprecationWarning: find_element_by_xpath is deprecated. Please use find_element(by=By.XPATH, value=xpath) instead\n",
      "  driver.find_element_by_xpath(\"(//div)[47]\").click()\n",
      "C:\\Users\\hp\\AppData\\Local\\Temp/ipykernel_7440/1884558046.py:19: DeprecationWarning: find_element_by_xpath is deprecated. Please use find_element(by=By.XPATH, value=xpath) instead\n",
      "  driver.find_element_by_xpath(\"(//div[@id='sbwrap'])[1]\").text\n"
     ]
    }
   ],
   "source": [
    "try:\n",
    "    try:\n",
    "        driver.get(\"https://www.myjoyonline.com/\")\n",
    "        time.sleep(30)\n",
    "    except Exception:\n",
    "        pass\n",
    "    driver.find_element_by_xpath(\"(//a)[26]\").click()\n",
    "    element = driver.find_element_by_xpath(\"(//input[@id='s'])[2]\").send_keys(new_lists[9])\n",
    "    try:\n",
    "        driver.find_element_by_xpath(\"(//input[@id='s'])[2]\").send_keys(Keys.ENTER) #sendKeys(Keys.ENTER)\n",
    "        time.sleep(30)\n",
    "    except Exception:\n",
    "        pass        \n",
    "    try:\n",
    "        driver.find_element_by_xpath(\"(//div)[47]\").click()\n",
    "        time.sleep(30)\n",
    "    except Exception:\n",
    "        pass\n",
    "    driver.find_element_by_xpath(\"(//div[@id='sbwrap'])[1]\").text\n",
    "except Exception:\n",
    "    pass"
   ]
  },
  {
   "cell_type": "code",
   "execution_count": 223,
   "id": "3c5e7c05-ab40-4667-ba35-31adf58e2d9b",
   "metadata": {},
   "outputs": [
    {
     "name": "stderr",
     "output_type": "stream",
     "text": [
      "C:\\Users\\hp\\AppData\\Local\\Temp/ipykernel_7440/3572418922.py:2: DeprecationWarning: find_element_by_xpath is deprecated. Please use find_element(by=By.XPATH, value=xpath) instead\n",
      "  head10 = driver.find_element_by_xpath(\"(//div)[45]\").text\n"
     ]
    }
   ],
   "source": [
    "try:\n",
    "    head10 = driver.find_element_by_xpath(\"(//div)[45]\").text\n",
    "    tenth = driver.current_url\n",
    "except Exception:\n",
    "    pass"
   ]
  },
  {
   "cell_type": "code",
   "execution_count": 224,
   "id": "bceebb3d-ea6b-4421-90c6-82c69c22ba90",
   "metadata": {},
   "outputs": [],
   "source": [
    "hh10 = [] #urls, keynames\n",
    "try:\n",
    "    h10 = head10\n",
    "except Exception:\n",
    "    h10 = 'unavailable'\n",
    "hh10.append(h10)"
   ]
  },
  {
   "cell_type": "markdown",
   "id": "4febc1fa-ce52-470a-9062-f5a60ecace85",
   "metadata": {},
   "source": [
    "# 11"
   ]
  },
  {
   "cell_type": "code",
   "execution_count": 225,
   "id": "f20640ba-4005-41f4-ad56-b7b63330bc6a",
   "metadata": {},
   "outputs": [
    {
     "name": "stderr",
     "output_type": "stream",
     "text": [
      "C:\\Users\\hp\\AppData\\Local\\Temp/ipykernel_7440/3598448921.py:7: DeprecationWarning: find_element_by_xpath is deprecated. Please use find_element(by=By.XPATH, value=xpath) instead\n",
      "  driver.find_element_by_xpath(\"(//a)[26]\").click()\n",
      "C:\\Users\\hp\\AppData\\Local\\Temp/ipykernel_7440/3598448921.py:8: DeprecationWarning: find_element_by_xpath is deprecated. Please use find_element(by=By.XPATH, value=xpath) instead\n",
      "  element = driver.find_element_by_xpath(\"(//input[@id='s'])[2]\").send_keys(new_lists[10])\n",
      "C:\\Users\\hp\\AppData\\Local\\Temp/ipykernel_7440/3598448921.py:10: DeprecationWarning: find_element_by_xpath is deprecated. Please use find_element(by=By.XPATH, value=xpath) instead\n",
      "  driver.find_element_by_xpath(\"(//input[@id='s'])[2]\").send_keys(Keys.ENTER) #sendKeys(Keys.ENTER)\n",
      "C:\\Users\\hp\\AppData\\Local\\Temp/ipykernel_7440/3598448921.py:15: DeprecationWarning: find_element_by_xpath is deprecated. Please use find_element(by=By.XPATH, value=xpath) instead\n",
      "  driver.find_element_by_xpath(\"(//div)[47]\").click()\n",
      "C:\\Users\\hp\\AppData\\Local\\Temp/ipykernel_7440/3598448921.py:19: DeprecationWarning: find_element_by_xpath is deprecated. Please use find_element(by=By.XPATH, value=xpath) instead\n",
      "  driver.find_element_by_xpath(\"(//div[@id='sbwrap'])[1]\").text\n"
     ]
    }
   ],
   "source": [
    "try:\n",
    "    try:\n",
    "        driver.get(\"https://www.myjoyonline.com/\")\n",
    "        time.sleep(30)\n",
    "    except Exception:\n",
    "        pass\n",
    "    driver.find_element_by_xpath(\"(//a)[26]\").click()\n",
    "    element = driver.find_element_by_xpath(\"(//input[@id='s'])[2]\").send_keys(new_lists[10])\n",
    "    try:\n",
    "        driver.find_element_by_xpath(\"(//input[@id='s'])[2]\").send_keys(Keys.ENTER) #sendKeys(Keys.ENTER)\n",
    "        time.sleep(30)\n",
    "    except Exception:\n",
    "        pass        \n",
    "    try:\n",
    "        driver.find_element_by_xpath(\"(//div)[47]\").click()\n",
    "        time.sleep(30)\n",
    "    except Exception:\n",
    "        pass\n",
    "    driver.find_element_by_xpath(\"(//div[@id='sbwrap'])[1]\").text\n",
    "except Exception:\n",
    "    pass"
   ]
  },
  {
   "cell_type": "code",
   "execution_count": 226,
   "id": "97365e66-e709-4164-849b-e107f31eee26",
   "metadata": {},
   "outputs": [
    {
     "name": "stderr",
     "output_type": "stream",
     "text": [
      "C:\\Users\\hp\\AppData\\Local\\Temp/ipykernel_7440/1149883298.py:2: DeprecationWarning: find_element_by_xpath is deprecated. Please use find_element(by=By.XPATH, value=xpath) instead\n",
      "  head11 = driver.find_element_by_xpath(\"(//div)[45]\").text\n"
     ]
    }
   ],
   "source": [
    "try:\n",
    "    head11 = driver.find_element_by_xpath(\"(//div)[45]\").text\n",
    "    eleventh = driver.current_url\n",
    "except Exception:\n",
    "    pass"
   ]
  },
  {
   "cell_type": "code",
   "execution_count": 227,
   "id": "052f06c6-a935-441d-a8af-72df19077ade",
   "metadata": {},
   "outputs": [],
   "source": [
    "hh11 = [] #urls, keynames\n",
    "try:\n",
    "    h11 = head11\n",
    "except Exception:\n",
    "    h11 = 'unavailable'\n",
    "hh11.append(h11)"
   ]
  },
  {
   "cell_type": "markdown",
   "id": "b4d542e9-a80c-418f-9fc5-f016fd44d13e",
   "metadata": {},
   "source": [
    "# 12"
   ]
  },
  {
   "cell_type": "code",
   "execution_count": 228,
   "id": "694557f0-1c51-436c-95c7-a71d18e2b724",
   "metadata": {},
   "outputs": [
    {
     "name": "stderr",
     "output_type": "stream",
     "text": [
      "C:\\Users\\hp\\AppData\\Local\\Temp/ipykernel_7440/712729593.py:7: DeprecationWarning: find_element_by_xpath is deprecated. Please use find_element(by=By.XPATH, value=xpath) instead\n",
      "  driver.find_element_by_xpath(\"(//a)[26]\").click()\n",
      "C:\\Users\\hp\\AppData\\Local\\Temp/ipykernel_7440/712729593.py:8: DeprecationWarning: find_element_by_xpath is deprecated. Please use find_element(by=By.XPATH, value=xpath) instead\n",
      "  element = driver.find_element_by_xpath(\"(//input[@id='s'])[2]\").send_keys(new_lists[11])\n",
      "C:\\Users\\hp\\AppData\\Local\\Temp/ipykernel_7440/712729593.py:10: DeprecationWarning: find_element_by_xpath is deprecated. Please use find_element(by=By.XPATH, value=xpath) instead\n",
      "  driver.find_element_by_xpath(\"(//input[@id='s'])[2]\").send_keys(Keys.ENTER) #sendKeys(Keys.ENTER)\n",
      "C:\\Users\\hp\\AppData\\Local\\Temp/ipykernel_7440/712729593.py:15: DeprecationWarning: find_element_by_xpath is deprecated. Please use find_element(by=By.XPATH, value=xpath) instead\n",
      "  driver.find_element_by_xpath(\"(//div)[47]\").click()\n",
      "C:\\Users\\hp\\AppData\\Local\\Temp/ipykernel_7440/712729593.py:19: DeprecationWarning: find_element_by_xpath is deprecated. Please use find_element(by=By.XPATH, value=xpath) instead\n",
      "  driver.find_element_by_xpath(\"(//div[@id='sbwrap'])[1]\").text\n"
     ]
    }
   ],
   "source": [
    "try:\n",
    "    try:\n",
    "        driver.get(\"https://www.myjoyonline.com/\")\n",
    "        time.sleep(15)\n",
    "    except Exception:\n",
    "        pass\n",
    "    driver.find_element_by_xpath(\"(//a)[26]\").click()\n",
    "    element = driver.find_element_by_xpath(\"(//input[@id='s'])[2]\").send_keys(new_lists[11])\n",
    "    try:\n",
    "        driver.find_element_by_xpath(\"(//input[@id='s'])[2]\").send_keys(Keys.ENTER) #sendKeys(Keys.ENTER)\n",
    "        time.sleep(5)\n",
    "    except Exception:\n",
    "        pass        \n",
    "    try:\n",
    "        driver.find_element_by_xpath(\"(//div)[47]\").click()\n",
    "        time.sleep(10)\n",
    "    except Exception:\n",
    "        pass\n",
    "    driver.find_element_by_xpath(\"(//div[@id='sbwrap'])[1]\").text\n",
    "except Exception:\n",
    "    pass"
   ]
  },
  {
   "cell_type": "code",
   "execution_count": 229,
   "id": "f731bc54-fca7-4151-ae60-ec744faaad0f",
   "metadata": {},
   "outputs": [
    {
     "name": "stderr",
     "output_type": "stream",
     "text": [
      "C:\\Users\\hp\\AppData\\Local\\Temp/ipykernel_7440/2136189859.py:2: DeprecationWarning: find_element_by_xpath is deprecated. Please use find_element(by=By.XPATH, value=xpath) instead\n",
      "  head12 = driver.find_element_by_xpath(\"(//div)[45]\").text\n"
     ]
    }
   ],
   "source": [
    "try:\n",
    "    head12 = driver.find_element_by_xpath(\"(//div)[45]\").text\n",
    "    twelveth = driver.current_url\n",
    "except Exception:\n",
    "    pass"
   ]
  },
  {
   "cell_type": "code",
   "execution_count": 230,
   "id": "d97cdd65-909e-4da8-854e-bec9584d7022",
   "metadata": {},
   "outputs": [],
   "source": [
    "hh12 = [] #urls, keynames\n",
    "try:\n",
    "    h12 = head12\n",
    "except Exception:\n",
    "    h12 = 'unavailable'\n",
    "hh12.append(h12)"
   ]
  },
  {
   "cell_type": "markdown",
   "id": "fe38e66b-0427-4bf4-9dc2-83f5fc06cfce",
   "metadata": {},
   "source": [
    "# 13"
   ]
  },
  {
   "cell_type": "code",
   "execution_count": 231,
   "id": "8e4b622e-c998-4746-b416-0ab15ce9f355",
   "metadata": {},
   "outputs": [
    {
     "name": "stderr",
     "output_type": "stream",
     "text": [
      "C:\\Users\\hp\\AppData\\Local\\Temp/ipykernel_7440/1080890265.py:7: DeprecationWarning: find_element_by_xpath is deprecated. Please use find_element(by=By.XPATH, value=xpath) instead\n",
      "  driver.find_element_by_xpath(\"(//a)[26]\").click()\n",
      "C:\\Users\\hp\\AppData\\Local\\Temp/ipykernel_7440/1080890265.py:8: DeprecationWarning: find_element_by_xpath is deprecated. Please use find_element(by=By.XPATH, value=xpath) instead\n",
      "  element = driver.find_element_by_xpath(\"(//input[@id='s'])[2]\").send_keys(new_lists[12])\n",
      "C:\\Users\\hp\\AppData\\Local\\Temp/ipykernel_7440/1080890265.py:10: DeprecationWarning: find_element_by_xpath is deprecated. Please use find_element(by=By.XPATH, value=xpath) instead\n",
      "  driver.find_element_by_xpath(\"(//input[@id='s'])[2]\").send_keys(Keys.ENTER) #sendKeys(Keys.ENTER)\n",
      "C:\\Users\\hp\\AppData\\Local\\Temp/ipykernel_7440/1080890265.py:15: DeprecationWarning: find_element_by_xpath is deprecated. Please use find_element(by=By.XPATH, value=xpath) instead\n",
      "  driver.find_element_by_xpath(\"(//div)[47]\").click()\n",
      "C:\\Users\\hp\\AppData\\Local\\Temp/ipykernel_7440/1080890265.py:19: DeprecationWarning: find_element_by_xpath is deprecated. Please use find_element(by=By.XPATH, value=xpath) instead\n",
      "  driver.find_element_by_xpath(\"(//div[@id='sbwrap'])[1]\").text\n"
     ]
    }
   ],
   "source": [
    "try:\n",
    "    try:\n",
    "        driver.get(\"https://www.myjoyonline.com/\")\n",
    "        time.sleep(30)\n",
    "    except Exception:\n",
    "        pass\n",
    "    driver.find_element_by_xpath(\"(//a)[26]\").click()\n",
    "    element = driver.find_element_by_xpath(\"(//input[@id='s'])[2]\").send_keys(new_lists[12])\n",
    "    try:\n",
    "        driver.find_element_by_xpath(\"(//input[@id='s'])[2]\").send_keys(Keys.ENTER) #sendKeys(Keys.ENTER)\n",
    "        time.sleep(30)\n",
    "    except Exception:\n",
    "        pass        \n",
    "    try:\n",
    "        driver.find_element_by_xpath(\"(//div)[47]\").click()\n",
    "        time.sleep(30)\n",
    "    except Exception:\n",
    "        pass\n",
    "    driver.find_element_by_xpath(\"(//div[@id='sbwrap'])[1]\").text\n",
    "except Exception:\n",
    "    pass"
   ]
  },
  {
   "cell_type": "code",
   "execution_count": 232,
   "id": "b43b56e9-85cf-4906-b4d1-05160c3846fd",
   "metadata": {},
   "outputs": [
    {
     "name": "stderr",
     "output_type": "stream",
     "text": [
      "C:\\Users\\hp\\AppData\\Local\\Temp/ipykernel_7440/389972895.py:2: DeprecationWarning: find_element_by_xpath is deprecated. Please use find_element(by=By.XPATH, value=xpath) instead\n",
      "  head13 = driver.find_element_by_xpath(\"(//div)[45]\").text\n"
     ]
    }
   ],
   "source": [
    "try:\n",
    "    head13 = driver.find_element_by_xpath(\"(//div)[45]\").text\n",
    "    thirteenth = driver.current_url\n",
    "except Exception:\n",
    "    pass"
   ]
  },
  {
   "cell_type": "code",
   "execution_count": 233,
   "id": "f91ff6a1-41c5-478a-96f5-566c23b95e78",
   "metadata": {},
   "outputs": [],
   "source": [
    "hh13 = [] #urls, keynames\n",
    "try:\n",
    "    h13 = head13\n",
    "except Exception:\n",
    "    h13 = 'unavailable'\n",
    "hh13.append(h13)"
   ]
  },
  {
   "cell_type": "markdown",
   "id": "0314b4f9-6620-411c-a5c8-0464b12e6127",
   "metadata": {},
   "source": [
    "# 14"
   ]
  },
  {
   "cell_type": "code",
   "execution_count": 234,
   "id": "8def5151-22eb-47b8-be00-a3aff493a072",
   "metadata": {},
   "outputs": [
    {
     "name": "stderr",
     "output_type": "stream",
     "text": [
      "C:\\Users\\hp\\AppData\\Local\\Temp/ipykernel_7440/782898286.py:7: DeprecationWarning: find_element_by_xpath is deprecated. Please use find_element(by=By.XPATH, value=xpath) instead\n",
      "  driver.find_element_by_xpath(\"(//a)[26]\").click()\n",
      "C:\\Users\\hp\\AppData\\Local\\Temp/ipykernel_7440/782898286.py:8: DeprecationWarning: find_element_by_xpath is deprecated. Please use find_element(by=By.XPATH, value=xpath) instead\n",
      "  element = driver.find_element_by_xpath(\"(//input[@id='s'])[2]\").send_keys(new_lists[13])\n",
      "C:\\Users\\hp\\AppData\\Local\\Temp/ipykernel_7440/782898286.py:10: DeprecationWarning: find_element_by_xpath is deprecated. Please use find_element(by=By.XPATH, value=xpath) instead\n",
      "  driver.find_element_by_xpath(\"(//input[@id='s'])[2]\").send_keys(Keys.ENTER) #sendKeys(Keys.ENTER)\n",
      "C:\\Users\\hp\\AppData\\Local\\Temp/ipykernel_7440/782898286.py:15: DeprecationWarning: find_element_by_xpath is deprecated. Please use find_element(by=By.XPATH, value=xpath) instead\n",
      "  driver.find_element_by_xpath(\"(//div)[47]\").click()\n",
      "C:\\Users\\hp\\AppData\\Local\\Temp/ipykernel_7440/782898286.py:19: DeprecationWarning: find_element_by_xpath is deprecated. Please use find_element(by=By.XPATH, value=xpath) instead\n",
      "  driver.find_element_by_xpath(\"(//div[@id='sbwrap'])[1]\").text\n"
     ]
    }
   ],
   "source": [
    "try:\n",
    "    try:\n",
    "        driver.get(\"https://www.myjoyonline.com/\")\n",
    "        time.sleep(30)\n",
    "    except Exception:\n",
    "        pass\n",
    "    driver.find_element_by_xpath(\"(//a)[26]\").click()\n",
    "    element = driver.find_element_by_xpath(\"(//input[@id='s'])[2]\").send_keys(new_lists[13])\n",
    "    try:\n",
    "        driver.find_element_by_xpath(\"(//input[@id='s'])[2]\").send_keys(Keys.ENTER) #sendKeys(Keys.ENTER)\n",
    "        time.sleep(30)\n",
    "    except Exception:\n",
    "        pass        \n",
    "    try:\n",
    "        driver.find_element_by_xpath(\"(//div)[47]\").click()\n",
    "        time.sleep(30)\n",
    "    except Exception:\n",
    "        pass\n",
    "    driver.find_element_by_xpath(\"(//div[@id='sbwrap'])[1]\").text\n",
    "except Exception:\n",
    "    pass"
   ]
  },
  {
   "cell_type": "code",
   "execution_count": 235,
   "id": "8fc94143-ec95-4d56-8c1f-03a4c336fad5",
   "metadata": {},
   "outputs": [
    {
     "name": "stderr",
     "output_type": "stream",
     "text": [
      "C:\\Users\\hp\\AppData\\Local\\Temp/ipykernel_7440/224028234.py:2: DeprecationWarning: find_element_by_xpath is deprecated. Please use find_element(by=By.XPATH, value=xpath) instead\n",
      "  head14 = driver.find_element_by_xpath(\"(//div)[45]\").text\n"
     ]
    }
   ],
   "source": [
    "try:\n",
    "    head14 = driver.find_element_by_xpath(\"(//div)[45]\").text\n",
    "    forteenth = driver.current_url\n",
    "except Exception:\n",
    "    pass"
   ]
  },
  {
   "cell_type": "code",
   "execution_count": 236,
   "id": "00162060-8aff-4c60-a5ea-43eed40c761b",
   "metadata": {},
   "outputs": [],
   "source": [
    "hh14 = [] #urls, keynames\n",
    "try:\n",
    "    h14 = head14\n",
    "except Exception:\n",
    "    h14 = 'unavailable'\n",
    "hh14.append(h14)"
   ]
  },
  {
   "cell_type": "markdown",
   "id": "5ca1171b-11ba-4d91-81aa-fb897d80b8c9",
   "metadata": {},
   "source": [
    "# 15"
   ]
  },
  {
   "cell_type": "code",
   "execution_count": 237,
   "id": "5fc61881-65bf-4740-9a1a-78d3a51ac038",
   "metadata": {},
   "outputs": [
    {
     "name": "stderr",
     "output_type": "stream",
     "text": [
      "C:\\Users\\hp\\AppData\\Local\\Temp/ipykernel_7440/2142353269.py:7: DeprecationWarning: find_element_by_xpath is deprecated. Please use find_element(by=By.XPATH, value=xpath) instead\n",
      "  driver.find_element_by_xpath(\"(//a)[26]\").click()\n"
     ]
    }
   ],
   "source": [
    "try:\n",
    "    try:\n",
    "        driver.get(\"https://www.myjoyonline.com/\")\n",
    "        time.sleep(30)\n",
    "    except Exception:\n",
    "        pass\n",
    "    driver.find_element_by_xpath(\"(//a)[26]\").click()\n",
    "    element = driver.find_element_by_xpath(\"(//input[@id='s'])[2]\").send_keys(new_lists[14])\n",
    "    try:\n",
    "        driver.find_element_by_xpath(\"(//input[@id='s'])[2]\").send_keys(Keys.ENTER) #sendKeys(Keys.ENTER)\n",
    "        time.sleep(30)\n",
    "    except Exception:\n",
    "        pass        \n",
    "    try:\n",
    "        driver.find_element_by_xpath(\"(//div)[47]\").click()\n",
    "        time.sleep(30)\n",
    "    except Exception:\n",
    "        pass\n",
    "    driver.find_element_by_xpath(\"(//div[@id='sbwrap'])[1]\").text\n",
    "except Exception:\n",
    "    pass"
   ]
  },
  {
   "cell_type": "code",
   "execution_count": 238,
   "id": "9489133b-e56a-4b84-be6e-690125354e6a",
   "metadata": {},
   "outputs": [
    {
     "name": "stderr",
     "output_type": "stream",
     "text": [
      "C:\\Users\\hp\\AppData\\Local\\Temp/ipykernel_7440/2188798712.py:2: DeprecationWarning: find_element_by_xpath is deprecated. Please use find_element(by=By.XPATH, value=xpath) instead\n",
      "  head15 = driver.find_element_by_xpath(\"(//div)[45]\").text\n"
     ]
    }
   ],
   "source": [
    "try:\n",
    "    head15 = driver.find_element_by_xpath(\"(//div)[45]\").text\n",
    "    fifteenth = driver.current_url\n",
    "except Exception:\n",
    "    pass"
   ]
  },
  {
   "cell_type": "code",
   "execution_count": 239,
   "id": "5a4d71af-f6a9-428b-ac1e-a2addf297474",
   "metadata": {},
   "outputs": [],
   "source": [
    "hh15 = [] #urls, keynames\n",
    "try:\n",
    "    h15 = head15\n",
    "except Exception:\n",
    "    h15 = 'unavailable'\n",
    "hh15.append(h15)"
   ]
  },
  {
   "cell_type": "markdown",
   "id": "fe5b88e8-7805-47ef-a8ac-5ae2d6445955",
   "metadata": {},
   "source": [
    "# Exporting to Excel"
   ]
  },
  {
   "cell_type": "code",
   "execution_count": 240,
   "id": "7a91a97c-9168-42b0-a778-9e699dfd6c89",
   "metadata": {},
   "outputs": [],
   "source": [
    "import pandas as pd"
   ]
  },
  {
   "cell_type": "code",
   "execution_count": 241,
   "id": "bb551982-8172-4431-8453-0f74ca6b4425",
   "metadata": {},
   "outputs": [],
   "source": [
    "urls = (first, second, third, forth, fifth, sixth, seventh, eighth, nineth, tenth, eleventh, twelveth, thirteenth, forteenth, fifteenth)\n",
    "keynames = (hh1, hh2, hh3, hh4, hh5, hh6, hh7, hh8, hh9, hh10, hh11, hh12, hh13, hh14, hh15)"
   ]
  },
  {
   "cell_type": "code",
   "execution_count": 242,
   "id": "733a86b5-6612-4869-8f64-5ad5f5cb4dec",
   "metadata": {},
   "outputs": [],
   "source": [
    "col1 = \"urls_of_websites\"\n",
    "col2 = \"keywords\""
   ]
  },
  {
   "cell_type": "code",
   "execution_count": 243,
   "id": "9402b2a7-6f85-4571-a85e-d151d806da4c",
   "metadata": {},
   "outputs": [],
   "source": [
    "data = pd.DataFrame({col1:urls, col2:keynames})"
   ]
  },
  {
   "cell_type": "code",
   "execution_count": 244,
   "id": "888a1cf9-983b-4f0a-b917-678766146668",
   "metadata": {},
   "outputs": [],
   "source": [
    "from datetime import datetime\n",
    "today = datetime.today().strftime('%Y-%m-%d')"
   ]
  },
  {
   "cell_type": "code",
   "execution_count": 245,
   "id": "3c5e8e68-abf4-44ca-bf73-b49411dd21b4",
   "metadata": {},
   "outputs": [],
   "source": [
    "with pd.ExcelWriter(\"C:\\\\Users\\\\hp\\\\Desktop\\\\selenium.xlsx\", engine=\"openpyxl\", mode=\"a\") as writer:\n",
    "    data.to_excel(writer, sheet_name=today, startrow=0, startcol=0)"
   ]
  },
  {
   "cell_type": "code",
   "execution_count": null,
   "id": "2186e644-673e-4ae5-81d5-ec2a89dfa8f4",
   "metadata": {},
   "outputs": [],
   "source": []
  },
  {
   "cell_type": "code",
   "execution_count": null,
   "id": "d013ffdd-701f-4543-85b0-68501310c52e",
   "metadata": {},
   "outputs": [],
   "source": []
  },
  {
   "cell_type": "code",
   "execution_count": null,
   "id": "d4cc1354-a1d3-49af-afc2-2e2c58d1e4a7",
   "metadata": {},
   "outputs": [],
   "source": []
  },
  {
   "cell_type": "code",
   "execution_count": null,
   "id": "0b23402e-a9a4-4c5e-9c87-65d2f5b304d8",
   "metadata": {},
   "outputs": [],
   "source": []
  },
  {
   "cell_type": "code",
   "execution_count": null,
   "id": "8a59c37a-a4e0-4065-a049-4231bf29e081",
   "metadata": {},
   "outputs": [],
   "source": []
  },
  {
   "cell_type": "code",
   "execution_count": null,
   "id": "ac0e1a13-dd94-4b26-99d9-334406ea5b27",
   "metadata": {},
   "outputs": [],
   "source": []
  },
  {
   "cell_type": "code",
   "execution_count": null,
   "id": "a2dbac17-90c2-499a-8fbb-fcb8a63c1f89",
   "metadata": {},
   "outputs": [],
   "source": []
  },
  {
   "cell_type": "code",
   "execution_count": null,
   "id": "e7c91cdc-d5dc-4903-961a-704c568f5481",
   "metadata": {},
   "outputs": [],
   "source": []
  },
  {
   "cell_type": "code",
   "execution_count": null,
   "id": "1f14f872-fe1e-4bff-b562-b918a8bae0d7",
   "metadata": {},
   "outputs": [],
   "source": []
  }
 ],
 "metadata": {
  "kernelspec": {
   "display_name": "Python 3 (ipykernel)",
   "language": "python",
   "name": "python3"
  },
  "language_info": {
   "codemirror_mode": {
    "name": "ipython",
    "version": 3
   },
   "file_extension": ".py",
   "mimetype": "text/x-python",
   "name": "python",
   "nbconvert_exporter": "python",
   "pygments_lexer": "ipython3",
   "version": "3.9.7"
  }
 },
 "nbformat": 4,
 "nbformat_minor": 5
}
