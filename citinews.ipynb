{
 "cells": [
  {
   "cell_type": "code",
   "execution_count": null,
   "id": "b00ceb3c-7a79-4aeb-8035-1aa74d49e6a9",
   "metadata": {},
   "outputs": [
    {
     "name": "stderr",
     "output_type": "stream",
     "text": [
      "\n",
      "\n",
      "====== WebDriver manager ======\n"
     ]
    }
   ],
   "source": [
    "import time\n",
    "from time import sleep\n",
    "from selenium import webdriver\n",
    "from selenium.webdriver.common.keys import Keys\n",
    "from webdriver_manager.chrome import ChromeDriverManager\n",
    "driver = webdriver.Chrome(ChromeDriverManager().install())\n",
    "\n",
    "time.sleep(5)\n"
   ]
  },
  {
   "cell_type": "code",
   "execution_count": null,
   "id": "9539effe-f30c-4d42-a885-ca12918912c5",
   "metadata": {},
   "outputs": [],
   "source": [
    "driver.maximize_window()\n",
    "time.sleep(2)"
   ]
  },
  {
   "cell_type": "code",
   "execution_count": null,
   "id": "249d164e-ec54-4316-9029-26e1bd4f742c",
   "metadata": {},
   "outputs": [],
   "source": [
    "try:\n",
    "    \n",
    "    driver.get(\"https://citinewsroom.com/\")    \n",
    "    time.sleep(30)   \n",
    "except Exception:\n",
    "    pass\n",
    "print('did not finish loading')"
   ]
  },
  {
   "cell_type": "code",
   "execution_count": null,
   "id": "8c02278a-9c7a-42fa-a39b-f6f9373dd739",
   "metadata": {},
   "outputs": [],
   "source": [
    "i = driver.find_element_by_xpath(\"(//body)[1]\")\n",
    " #(//div)[39]\n",
    "    #(//div[@class='jeg_viewport'])[1]"
   ]
  },
  {
   "cell_type": "code",
   "execution_count": null,
   "id": "7cee916b-3808-4cf3-ba3c-5bad7c97a238",
   "metadata": {},
   "outputs": [],
   "source": [
    "k = i.text"
   ]
  },
  {
   "cell_type": "code",
   "execution_count": null,
   "id": "6f8d3945-fb97-4879-a2be-cc90d830cb08",
   "metadata": {},
   "outputs": [],
   "source": [
    "rep = k.replace(\"\\n\", \". \")"
   ]
  },
  {
   "cell_type": "code",
   "execution_count": null,
   "id": "d7675971-9788-4592-9260-9e5a18382cfe",
   "metadata": {},
   "outputs": [],
   "source": [
    "import re\n",
    "expression = re.compile(r'([A-Z][^\\.!?]*[\\.!?])')\n",
    "new_list = re.findall(expression, rep)"
   ]
  },
  {
   "cell_type": "code",
   "execution_count": null,
   "id": "35ad899f-aa94-461d-bc6a-a54aeb001f2e",
   "metadata": {},
   "outputs": [],
   "source": [
    "new_list"
   ]
  },
  {
   "cell_type": "code",
   "execution_count": null,
   "id": "20b2a7ba-744f-4d74-acfd-98c2a296f344",
   "metadata": {},
   "outputs": [],
   "source": [
    "matches = []\n",
    "#('arm','weapon', 'shot', 'police', 'military', 'drugs', 'suspect')\n",
    "for match in new_list:\n",
    "    if \"arm\" in match:\n",
    "        matches.append(match)\n",
    "    if \"weapon\" in match:\n",
    "        matches.append(match)\n",
    "    if \"shot\" in match:\n",
    "        matches.append(match)\n",
    "    if \"police\" in match:\n",
    "        matches.append(match)\n",
    "    if \"military\" in match:\n",
    "        matches.append(match)\n",
    "    if \"drugs\" in match:\n",
    "        matches.append(match)\n",
    "    if \"suspects\" in match:\n",
    "        matches.append(match)\n",
    "    if \"Arm\" in match:\n",
    "        matches.append(match)\n",
    "    if \"Weapon\" in match:\n",
    "        matches.append(match)\n",
    "    if \"Shot\" in match:\n",
    "        matches.append(match)\n",
    "    if \"Police\" in match:\n",
    "        matches.append(match)\n",
    "    if \"Military\" in match:\n",
    "        matches.append(match)\n",
    "    if \"Drugs\" in match:\n",
    "        matches.append(match)\n",
    "    if \"Suspects\" in match:\n",
    "        matches.append(match)\n",
    "    if \"kill\" in match:\n",
    "        matches.append(match)\n",
    "print(matches)"
   ]
  },
  {
   "cell_type": "code",
   "execution_count": null,
   "id": "474381aa-9cc0-4592-a839-90ae0ff8f798",
   "metadata": {},
   "outputs": [],
   "source": [
    "new_ = [s.replace(\",\", \"\") for s in matches]\n",
    "new_l = [s.replace(\".\", \"\") for s in new_]\n",
    "new_li = [s.replace(\"–\", \"\") for s in new_l]\n",
    "new_lis = [s.replace(\"?\", \"\") for s in new_li]\n",
    "new_list = [s.replace(\":\", \"\") for s in new_lis]\n",
    "new_lists = [s.replace(\";\", \"\") for s in new_list]"
   ]
  },
  {
   "cell_type": "code",
   "execution_count": null,
   "id": "0387a3f5-b82b-4fa5-99c9-2988da6e0e85",
   "metadata": {},
   "outputs": [],
   "source": [
    "len(new_lists)"
   ]
  },
  {
   "cell_type": "code",
   "execution_count": null,
   "id": "a12ca391-2842-4f3e-912c-0f9b3f896d3d",
   "metadata": {},
   "outputs": [],
   "source": [
    "new_lists"
   ]
  },
  {
   "cell_type": "code",
   "execution_count": null,
   "id": "ed5a6f3d-9434-4211-a43d-71ac178f4655",
   "metadata": {},
   "outputs": [],
   "source": []
  },
  {
   "cell_type": "markdown",
   "id": "3cf15b6f-b91b-497d-8a15-85d7006236ae",
   "metadata": {
    "tags": []
   },
   "source": [
    "## 1st"
   ]
  },
  {
   "cell_type": "code",
   "execution_count": null,
   "id": "c7ae1590-dfc9-40ea-aad8-ecfb334b47b3",
   "metadata": {},
   "outputs": [],
   "source": [
    "from selenium.webdriver.common.action_chains import ActionChains"
   ]
  },
  {
   "cell_type": "code",
   "execution_count": null,
   "id": "0e085986-1dd8-44d8-aae8-a4bae4261e06",
   "metadata": {},
   "outputs": [],
   "source": [
    "#driver.find_element_by_xpath(\"(//input[@id='s'])[2]\").send_keys(new_lists[0])\n",
    "button = driver.find_element_by_xpath(\"(//a[contains(@class,'jeg_search_toggle')])[1]\")\n",
    "#maximize window\n",
    "#sleep(5)\n",
    "ActionChains(driver).move_to_element(button).click(button).perform()"
   ]
  },
  {
   "cell_type": "code",
   "execution_count": null,
   "id": "97c74a54-3974-4910-bac6-90b8becbc2c4",
   "metadata": {},
   "outputs": [],
   "source": [
    "#driver.find_element_by_xpath(\"(//form[@class='jeg_search_form'])[3]\").send_keys(new_lists[0])\n",
    "driver.find_element_by_class_name('jeg_search_input').send_keys(new_lists[0])"
   ]
  },
  {
   "cell_type": "code",
   "execution_count": null,
   "id": "8b4c59c4-ec1b-4692-a0cc-9bc44d9643ac",
   "metadata": {},
   "outputs": [],
   "source": [
    "try:\n",
    "    driver.find_element_by_class_name('jeg_search_input').send_keys(Keys.ENTER) #sendKeys(Keys.ENTER)\n",
    "    #time.sleep(20)\n",
    "except Exception:\n",
    "    pass"
   ]
  },
  {
   "cell_type": "code",
   "execution_count": null,
   "id": "0288c380-1071-47cd-88d1-f661df95975c",
   "metadata": {},
   "outputs": [],
   "source": [
    "driver.find_element_by_xpath(\"(//article[@class='jeg_post jeg_pl_md_2 format-standard'])[1]\").click()\n",
    "#jeg_post_title"
   ]
  },
  {
   "cell_type": "code",
   "execution_count": null,
   "id": "e778c0ce-801b-44f5-8813-229cb3bc19a3",
   "metadata": {},
   "outputs": [],
   "source": [
    "driver.find_element_by_xpath(\"(//body)[1]\").text\n",
    "#(//div[@id='sbwrap'])[1]"
   ]
  },
  {
   "cell_type": "code",
   "execution_count": null,
   "id": "3b1313de-60db-4fcd-b6d1-54f61612813c",
   "metadata": {},
   "outputs": [],
   "source": [
    "try:\n",
    "    head1 = driver.find_element_by_class_name(\"jeg_post_title\").text\n",
    "    first = driver.current_url\n",
    "except Exception:\n",
    "    pass"
   ]
  },
  {
   "cell_type": "code",
   "execution_count": null,
   "id": "85a99cac-949f-4970-a6e3-5ec58c1f7dcc",
   "metadata": {},
   "outputs": [],
   "source": [
    "hh1 = [] #urls, keynames\n",
    "try:\n",
    "    h1 = head1\n",
    "except Exception:\n",
    "    h1 = 'unavailable'\n",
    "hh1.append(h1)"
   ]
  },
  {
   "cell_type": "markdown",
   "id": "6f33ab5f-b439-42c8-8e3b-28451ba7ca85",
   "metadata": {},
   "source": [
    "## 2"
   ]
  },
  {
   "cell_type": "code",
   "execution_count": null,
   "id": "cb6d55e4-9371-4c74-a46a-d26b14150536",
   "metadata": {},
   "outputs": [],
   "source": [
    "try:\n",
    "    try:\n",
    "        driver.get(\"https://citinewsroom.com/\") \n",
    "    except Exception:\n",
    "        pass\n",
    "    button = driver.find_element_by_xpath(\"(//a[contains(@class,'jeg_search_toggle')])[1]\")\n",
    "    ActionChains(driver).move_to_element(button).click(button).perform()\n",
    "    time.sleep(5)\n",
    "    driver.find_element_by_class_name('jeg_search_input').send_keys(new_lists[1])\n",
    "    try:\n",
    "        driver.find_element_by_class_name('jeg_search_input').send_keys(Keys.ENTER) #sendKeys(Keys.ENTER)\n",
    "        time.sleep(30)\n",
    "    except Exception:\n",
    "        pass        \n",
    "    try:\n",
    "        driver.find_element_by_xpath(\"(//article[@class='jeg_post jeg_pl_md_2 format-standard'])[1]\").click()\n",
    "        time.sleep(30)\n",
    "    except Exception:\n",
    "        pass\n",
    "    driver.find_element_by_class_name(\"jeg_post_title\").text\n",
    "except Exception:\n",
    "    pass"
   ]
  },
  {
   "cell_type": "code",
   "execution_count": null,
   "id": "d279f2a7-7451-4860-a7b8-eec52bd9cca9",
   "metadata": {},
   "outputs": [],
   "source": [
    "try:\n",
    "    head2 = driver.find_element_by_class_name(\"jeg_post_title\").text\n",
    "    second = driver.current_url\n",
    "except Exception:\n",
    "    pass"
   ]
  },
  {
   "cell_type": "code",
   "execution_count": null,
   "id": "3f6845f2-1890-4fb2-bc3d-dca7d657067b",
   "metadata": {},
   "outputs": [],
   "source": [
    "hh2 = [] #urls, keynames\n",
    "try:\n",
    "    h2 = head2\n",
    "except Exception:\n",
    "    h2 = 'unavailable'\n",
    "hh2.append(h2)"
   ]
  },
  {
   "cell_type": "code",
   "execution_count": null,
   "id": "db199f6f-200d-442c-9087-87dd15b3b0d5",
   "metadata": {},
   "outputs": [],
   "source": [
    "second"
   ]
  },
  {
   "cell_type": "markdown",
   "id": "70e357a4-a055-4f36-8301-fc783a6928ed",
   "metadata": {},
   "source": [
    "## 3"
   ]
  },
  {
   "cell_type": "code",
   "execution_count": null,
   "id": "a5ad165c-1a41-4126-9559-7a42e85208df",
   "metadata": {},
   "outputs": [],
   "source": [
    "try:\n",
    "    try:\n",
    "        driver.get(\"https://citinewsroom.com/\") \n",
    "    except Exception:\n",
    "        pass\n",
    "    button = driver.find_element_by_xpath(\"(//a[contains(@class,'jeg_search_toggle')])[1]\")\n",
    "    ActionChains(driver).move_to_element(button).click(button).perform()\n",
    "    time.sleep(5)\n",
    "    driver.find_element_by_class_name('jeg_search_input').send_keys(new_lists[2])\n",
    "    try:\n",
    "        driver.find_element_by_class_name('jeg_search_input').send_keys(Keys.ENTER) #sendKeys(Keys.ENTER)\n",
    "        time.sleep(30)\n",
    "    except Exception:\n",
    "        pass        \n",
    "    try:\n",
    "        driver.find_element_by_xpath(\"(//article[@class='jeg_post jeg_pl_md_2 format-standard'])[1]\").click()\n",
    "        time.sleep(30)\n",
    "    except Exception:\n",
    "        pass\n",
    "    driver.find_element_by_class_name(\"jeg_post_title\").text\n",
    "except Exception:\n",
    "    pass"
   ]
  },
  {
   "cell_type": "code",
   "execution_count": null,
   "id": "ab79453a-5f3d-4128-b940-0f22b6c8cb9d",
   "metadata": {},
   "outputs": [],
   "source": [
    "try:\n",
    "    head3 = driver.find_element_by_class_name(\"jeg_post_title\").text\n",
    "    third = driver.current_url\n",
    "except Exception:\n",
    "    pass"
   ]
  },
  {
   "cell_type": "code",
   "execution_count": null,
   "id": "f62e14d9-0d31-422e-90f4-e46cbafc9ac4",
   "metadata": {},
   "outputs": [],
   "source": [
    "hh3 = [] #urls, keynames\n",
    "try:\n",
    "    h3 = head3\n",
    "except Exception:\n",
    "    h3 = 'unavailable'\n",
    "hh3.append(h3)"
   ]
  },
  {
   "cell_type": "markdown",
   "id": "f11b9cd8-278a-4b6c-98be-d1dc544f7a21",
   "metadata": {},
   "source": [
    "## 4"
   ]
  },
  {
   "cell_type": "code",
   "execution_count": null,
   "id": "4f069a6b-ee6d-4f20-b02e-be4bbbdfcd76",
   "metadata": {},
   "outputs": [],
   "source": [
    "try:\n",
    "    try:\n",
    "        driver.get(\"https://citinewsroom.com/\") \n",
    "    except Exception:\n",
    "        pass\n",
    "    button = driver.find_element_by_xpath(\"(//a[contains(@class,'jeg_search_toggle')])[1]\")\n",
    "    ActionChains(driver).move_to_element(button).click(button).perform()\n",
    "    time.sleep(5)\n",
    "    driver.find_element_by_class_name('jeg_search_input').send_keys(new_lists[3])\n",
    "    try:\n",
    "        driver.find_element_by_class_name('jeg_search_input').send_keys(Keys.ENTER) #sendKeys(Keys.ENTER)\n",
    "        time.sleep(30)\n",
    "    except Exception:\n",
    "        pass        \n",
    "    try:\n",
    "        driver.find_element_by_xpath(\"(//article[@class='jeg_post jeg_pl_md_2 format-standard'])[1]\").click()\n",
    "        time.sleep(30)\n",
    "    except Exception:\n",
    "        pass\n",
    "    driver.find_element_by_class_name(\"jeg_post_title\").text\n",
    "except Exception:\n",
    "    pass"
   ]
  },
  {
   "cell_type": "code",
   "execution_count": null,
   "id": "fabc90df-69c4-4c8a-9891-fdaaca1bbf0c",
   "metadata": {},
   "outputs": [],
   "source": [
    "try:\n",
    "    head4 = driver.find_element_by_class_name(\"jeg_post_title\").text\n",
    "    forth = driver.current_url\n",
    "except Exception:\n",
    "    pass"
   ]
  },
  {
   "cell_type": "code",
   "execution_count": null,
   "id": "92fa0d62-31ab-43e0-990c-aea5cbfe87a6",
   "metadata": {},
   "outputs": [],
   "source": [
    "hh4 = [] #urls, keynames\n",
    "try:\n",
    "    h4 = head4\n",
    "except Exception:\n",
    "    h4 = 'unavailable'\n",
    "hh4.append(h4)"
   ]
  },
  {
   "cell_type": "markdown",
   "id": "cf1f3632-be23-437a-a3c0-b0dea86769de",
   "metadata": {},
   "source": [
    "## 5"
   ]
  },
  {
   "cell_type": "code",
   "execution_count": null,
   "id": "65c84b8f-f90d-4c8b-af67-1141d7b2486d",
   "metadata": {},
   "outputs": [],
   "source": [
    "try:\n",
    "    try:\n",
    "        driver.get(\"https://citinewsroom.com/\") \n",
    "    except Exception:\n",
    "        pass\n",
    "    button = driver.find_element_by_xpath(\"(//a[contains(@class,'jeg_search_toggle')])[1]\")\n",
    "    ActionChains(driver).move_to_element(button).click(button).perform()\n",
    "    time.sleep(5)\n",
    "    driver.find_element_by_class_name('jeg_search_input').send_keys(new_lists[4])\n",
    "    try:\n",
    "        driver.find_element_by_class_name('jeg_search_input').send_keys(Keys.ENTER) #sendKeys(Keys.ENTER)\n",
    "        time.sleep(30)\n",
    "    except Exception:\n",
    "        pass        \n",
    "    try:\n",
    "        driver.find_element_by_xpath(\"(//article[@class='jeg_post jeg_pl_md_2 format-standard'])[1]\").click()\n",
    "        time.sleep(30)\n",
    "    except Exception:\n",
    "        pass\n",
    "    driver.find_element_by_class_name(\"jeg_post_title\").text\n",
    "except Exception:\n",
    "    pass"
   ]
  },
  {
   "cell_type": "code",
   "execution_count": null,
   "id": "99795878-092c-4882-a704-b9ae7e41ba1c",
   "metadata": {},
   "outputs": [],
   "source": [
    "try:\n",
    "    head5 = driver.find_element_by_class_name(\"jeg_post_title\").text\n",
    "    fifth = driver.current_url\n",
    "except Exception:\n",
    "    pass"
   ]
  },
  {
   "cell_type": "code",
   "execution_count": null,
   "id": "6c435232-f52a-4920-b24f-19659de302ba",
   "metadata": {},
   "outputs": [],
   "source": [
    "hh5 = [] #urls, keynames\n",
    "try:\n",
    "    h5 = head5\n",
    "except Exception:\n",
    "    h5 = 'unavailable'\n",
    "hh5.append(h5)"
   ]
  },
  {
   "cell_type": "markdown",
   "id": "91774079-0e6c-4f97-b6ec-d34a0f167dae",
   "metadata": {},
   "source": [
    "## 6"
   ]
  },
  {
   "cell_type": "code",
   "execution_count": null,
   "id": "21b07822-aa57-46bb-943d-bac88e826c76",
   "metadata": {},
   "outputs": [],
   "source": [
    "try:\n",
    "    try:\n",
    "        driver.get(\"https://citinewsroom.com/\") \n",
    "    except Exception:\n",
    "        pass\n",
    "    button = driver.find_element_by_xpath(\"(//a[contains(@class,'jeg_search_toggle')])[1]\")\n",
    "    ActionChains(driver).move_to_element(button).click(button).perform()\n",
    "    time.sleep(5)\n",
    "    driver.find_element_by_class_name('jeg_search_input').send_keys(new_lists[5])\n",
    "    try:\n",
    "        driver.find_element_by_class_name('jeg_search_input').send_keys(Keys.ENTER) #sendKeys(Keys.ENTER)\n",
    "        time.sleep(30)\n",
    "    except Exception:\n",
    "        pass        \n",
    "    try:\n",
    "        driver.find_element_by_xpath(\"(//article[@class='jeg_post jeg_pl_md_2 format-standard'])[1]\").click()\n",
    "        time.sleep(30)\n",
    "    except Exception:\n",
    "        pass\n",
    "    driver.find_element_by_class_name(\"jeg_post_title\").text\n",
    "except Exception:\n",
    "    pass"
   ]
  },
  {
   "cell_type": "code",
   "execution_count": null,
   "id": "defbf376-e56e-4d7d-b9ad-58ae909a1489",
   "metadata": {},
   "outputs": [],
   "source": [
    "try:\n",
    "    head6 = driver.find_element_by_class_name(\"jeg_post_title\").text\n",
    "    sixth = driver.current_url\n",
    "except Exception:\n",
    "    pass"
   ]
  },
  {
   "cell_type": "code",
   "execution_count": null,
   "id": "f082a87c-4d0a-45ba-b5bf-93bffdcfe885",
   "metadata": {},
   "outputs": [],
   "source": [
    "hh6 = [] #urls, keynames\n",
    "try:\n",
    "    h6 = head6\n",
    "except Exception:\n",
    "    h6 = 'unavailable'\n",
    "hh6.append(h6)"
   ]
  },
  {
   "cell_type": "markdown",
   "id": "4a77b7a8-2ee2-4d1b-ab7b-5a0495b9ba6e",
   "metadata": {},
   "source": [
    "## 7"
   ]
  },
  {
   "cell_type": "code",
   "execution_count": null,
   "id": "918c375b-1c4f-436e-9343-c9db3a4018c0",
   "metadata": {},
   "outputs": [],
   "source": [
    "try:\n",
    "    try:\n",
    "        driver.get(\"https://citinewsroom.com/\") \n",
    "    except Exception:\n",
    "        pass\n",
    "    button = driver.find_element_by_xpath(\"(//a[contains(@class,'jeg_search_toggle')])[1]\")\n",
    "    ActionChains(driver).move_to_element(button).click(button).perform()\n",
    "    time.sleep(5)\n",
    "    driver.find_element_by_class_name('jeg_search_input').send_keys(new_lists[6])\n",
    "    try:\n",
    "        driver.find_element_by_class_name('jeg_search_input').send_keys(Keys.ENTER) #sendKeys(Keys.ENTER)\n",
    "        time.sleep(30)\n",
    "    except Exception:\n",
    "        pass        \n",
    "    try:\n",
    "        driver.find_element_by_xpath(\"(//article[@class='jeg_post jeg_pl_md_2 format-standard'])[1]\").click()\n",
    "        time.sleep(30)\n",
    "    except Exception:\n",
    "        pass\n",
    "    driver.find_element_by_class_name(\"jeg_post_title\").text\n",
    "except Exception:\n",
    "    pass"
   ]
  },
  {
   "cell_type": "code",
   "execution_count": null,
   "id": "5d82fb65-e41c-417b-a6a0-948189b14e8b",
   "metadata": {},
   "outputs": [],
   "source": [
    "try:\n",
    "    head7 = driver.find_element_by_class_name(\"jeg_post_title\").text\n",
    "    seventh = driver.current_url\n",
    "except Exception:\n",
    "    pass"
   ]
  },
  {
   "cell_type": "code",
   "execution_count": null,
   "id": "9141a286-adfe-4af5-babf-bf005644d534",
   "metadata": {},
   "outputs": [],
   "source": [
    "hh7 = [] #urls, keynames\n",
    "try:\n",
    "    h7 = head7\n",
    "except Exception:\n",
    "    h7 = 'unavailable'\n",
    "hh7.append(h7)"
   ]
  },
  {
   "cell_type": "markdown",
   "id": "fa2b92cc-dc77-43b3-babc-618d84102794",
   "metadata": {},
   "source": [
    "## 8"
   ]
  },
  {
   "cell_type": "code",
   "execution_count": null,
   "id": "e76c72dc-97dc-4653-b8f5-ff3f49e32b92",
   "metadata": {},
   "outputs": [],
   "source": [
    "try:\n",
    "    try:\n",
    "        driver.get(\"https://citinewsroom.com/\") \n",
    "    except Exception:\n",
    "        pass\n",
    "    button = driver.find_element_by_xpath(\"(//a[contains(@class,'jeg_search_toggle')])[1]\")\n",
    "    ActionChains(driver).move_to_element(button).click(button).perform()\n",
    "    time.sleep(5)\n",
    "    driver.find_element_by_class_name('jeg_search_input').send_keys(new_lists[7])\n",
    "    try:\n",
    "        driver.find_element_by_class_name('jeg_search_input').send_keys(Keys.ENTER) #sendKeys(Keys.ENTER)\n",
    "        time.sleep(30)\n",
    "    except Exception:\n",
    "        pass        \n",
    "    try:\n",
    "        driver.find_element_by_xpath(\"(//article[@class='jeg_post jeg_pl_md_2 format-standard'])[1]\").click()\n",
    "        time.sleep(30)\n",
    "    except Exception:\n",
    "        pass\n",
    "    driver.find_element_by_class_name(\"jeg_post_title\").text\n",
    "except Exception:\n",
    "    pass"
   ]
  },
  {
   "cell_type": "code",
   "execution_count": null,
   "id": "59b348a3-a22d-4eab-8918-40d8818d7f56",
   "metadata": {},
   "outputs": [],
   "source": [
    "try:\n",
    "    head8 = driver.find_element_by_class_name(\"jeg_post_title\").text\n",
    "    eighth = driver.current_url\n",
    "except Exception:\n",
    "    pass"
   ]
  },
  {
   "cell_type": "code",
   "execution_count": null,
   "id": "6f51eb2c-03fa-44a6-8673-1f6da11037ab",
   "metadata": {},
   "outputs": [],
   "source": [
    "hh8 = [] #urls, keynames\n",
    "try:\n",
    "    h8 = head8\n",
    "except Exception:\n",
    "    h8 = 'unavailable'\n",
    "hh8.append(h8)"
   ]
  },
  {
   "cell_type": "markdown",
   "id": "fc83fc02-afae-40cd-a7ff-9ab79824d57c",
   "metadata": {},
   "source": [
    "## 9"
   ]
  },
  {
   "cell_type": "code",
   "execution_count": null,
   "id": "fe5890de-ce10-4a0f-a758-98afd8aeb444",
   "metadata": {},
   "outputs": [],
   "source": [
    "try:\n",
    "    try:\n",
    "        driver.get(\"https://citinewsroom.com/\") \n",
    "    except Exception:\n",
    "        pass\n",
    "    button = driver.find_element_by_xpath(\"(//a[contains(@class,'jeg_search_toggle')])[1]\")\n",
    "    ActionChains(driver).move_to_element(button).click(button).perform()\n",
    "    time.sleep(5)\n",
    "    driver.find_element_by_class_name('jeg_search_input').send_keys(new_lists[8])\n",
    "    try:\n",
    "        driver.find_element_by_class_name('jeg_search_input').send_keys(Keys.ENTER) #sendKeys(Keys.ENTER)\n",
    "        time.sleep(30)\n",
    "    except Exception:\n",
    "        pass        \n",
    "    try:\n",
    "        driver.find_element_by_xpath(\"(//article[@class='jeg_post jeg_pl_md_2 format-standard'])[1]\").click()\n",
    "        time.sleep(30)\n",
    "    except Exception:\n",
    "        pass\n",
    "    driver.find_element_by_class_name(\"jeg_post_title\").text\n",
    "except Exception:\n",
    "    pass"
   ]
  },
  {
   "cell_type": "code",
   "execution_count": null,
   "id": "17ec59da-dd6d-4d8d-84d8-bc1264268fc7",
   "metadata": {},
   "outputs": [],
   "source": [
    "try:\n",
    "    head9 = driver.find_element_by_class_name(\"jeg_post_title\").text\n",
    "    nineth = driver.current_url\n",
    "except Exception:\n",
    "    pass"
   ]
  },
  {
   "cell_type": "code",
   "execution_count": null,
   "id": "2daf466c-91f0-4d86-97d7-a228acacb290",
   "metadata": {},
   "outputs": [],
   "source": [
    "hh9 = [] #urls, keynames\n",
    "try:\n",
    "    h9 = head9\n",
    "except Exception:\n",
    "    h9 = 'unavailable'\n",
    "hh9.append(h9)"
   ]
  },
  {
   "cell_type": "markdown",
   "id": "d0d8570f-dfcd-482d-8227-b878eb0b6d1f",
   "metadata": {},
   "source": [
    "## 10"
   ]
  },
  {
   "cell_type": "code",
   "execution_count": null,
   "id": "f3ea6d16-128c-40c4-a30d-4e8ded1d2134",
   "metadata": {},
   "outputs": [],
   "source": [
    "try:\n",
    "    try:\n",
    "        driver.get(\"https://citinewsroom.com/\") \n",
    "    except Exception:\n",
    "        pass\n",
    "    button = driver.find_element_by_xpath(\"(//a[contains(@class,'jeg_search_toggle')])[1]\")\n",
    "    ActionChains(driver).move_to_element(button).click(button).perform()\n",
    "    time.sleep(5)\n",
    "    driver.find_element_by_class_name('jeg_search_input').send_keys(new_lists[9])\n",
    "    try:\n",
    "        driver.find_element_by_class_name('jeg_search_input').send_keys(Keys.ENTER) #sendKeys(Keys.ENTER)\n",
    "        time.sleep(30)\n",
    "    except Exception:\n",
    "        pass        \n",
    "    try:\n",
    "        driver.find_element_by_xpath(\"(//article[@class='jeg_post jeg_pl_md_2 format-standard'])[1]\").click()\n",
    "        time.sleep(30)\n",
    "    except Exception:\n",
    "        pass\n",
    "    driver.find_element_by_class_name(\"jeg_post_title\").text\n",
    "except Exception:\n",
    "    pass"
   ]
  },
  {
   "cell_type": "code",
   "execution_count": null,
   "id": "d8a8315b-93fb-40b3-afa7-7d763ef8f7e8",
   "metadata": {},
   "outputs": [],
   "source": [
    "try:\n",
    "    head10 = driver.find_element_by_class_name(\"jeg_post_title\").text\n",
    "    tenth = driver.current_url\n",
    "except Exception:\n",
    "    pass"
   ]
  },
  {
   "cell_type": "code",
   "execution_count": null,
   "id": "4bbc79c2-e2aa-4fda-a9d3-025ae5be9081",
   "metadata": {},
   "outputs": [],
   "source": [
    "hh10 = [] #urls, keynames\n",
    "try:\n",
    "    h10 = head10\n",
    "except Exception:\n",
    "    h10 = 'unavailable'\n",
    "hh10.append(h10)"
   ]
  },
  {
   "cell_type": "markdown",
   "id": "db4d1e68-606b-4acd-91fa-7d7bbd3d9cd3",
   "metadata": {},
   "source": [
    "## 11"
   ]
  },
  {
   "cell_type": "code",
   "execution_count": null,
   "id": "ba3fef69-b334-4ac5-aa5a-762612985866",
   "metadata": {},
   "outputs": [],
   "source": [
    "try:\n",
    "    try:\n",
    "        driver.get(\"https://citinewsroom.com/\") \n",
    "    except Exception:\n",
    "        pass\n",
    "    button = driver.find_element_by_xpath(\"(//a[contains(@class,'jeg_search_toggle')])[1]\")\n",
    "    ActionChains(driver).move_to_element(button).click(button).perform()\n",
    "    time.sleep(5)\n",
    "    driver.find_element_by_class_name('jeg_search_input').send_keys(new_lists[10])\n",
    "    try:\n",
    "        driver.find_element_by_class_name('jeg_search_input').send_keys(Keys.ENTER) #sendKeys(Keys.ENTER)\n",
    "        time.sleep(30)\n",
    "    except Exception:\n",
    "        pass        \n",
    "    try:\n",
    "        driver.find_element_by_xpath(\"(//article[@class='jeg_post jeg_pl_md_2 format-standard'])[1]\").click()\n",
    "        time.sleep(30)\n",
    "    except Exception:\n",
    "        pass\n",
    "    driver.find_element_by_class_name(\"jeg_post_title\").text\n",
    "except Exception:\n",
    "    pass"
   ]
  },
  {
   "cell_type": "code",
   "execution_count": null,
   "id": "aa1436e3-aeed-4be6-b2b9-23c2fc0c5cb2",
   "metadata": {},
   "outputs": [],
   "source": [
    "try:\n",
    "    head11 = driver.find_element_by_class_name(\"jeg_post_title\").text\n",
    "    eleventh = driver.current_url\n",
    "except Exception:\n",
    "    pass"
   ]
  },
  {
   "cell_type": "code",
   "execution_count": null,
   "id": "20ea4598-213c-4fe4-84e2-dd9d1b15dc16",
   "metadata": {},
   "outputs": [],
   "source": [
    "hh11 = [] #urls, keynames\n",
    "try:\n",
    "    h11 = head11\n",
    "except Exception:\n",
    "    h11 = 'unavailable'\n",
    "hh11.append(h11)"
   ]
  },
  {
   "cell_type": "markdown",
   "id": "fe4c4ed8-05c2-46a2-808c-3504b164776c",
   "metadata": {},
   "source": [
    "## 12"
   ]
  },
  {
   "cell_type": "code",
   "execution_count": null,
   "id": "7df66680-140e-4c90-9aaa-1a1954229209",
   "metadata": {},
   "outputs": [],
   "source": [
    "try:\n",
    "    try:\n",
    "        driver.get(\"https://citinewsroom.com/\") \n",
    "    except Exception:\n",
    "        pass\n",
    "    button = driver.find_element_by_xpath(\"(//a[contains(@class,'jeg_search_toggle')])[1]\")\n",
    "    ActionChains(driver).move_to_element(button).click(button).perform()\n",
    "    time.sleep(5)\n",
    "    driver.find_element_by_class_name('jeg_search_input').send_keys(new_lists[11])\n",
    "    try:\n",
    "        driver.find_element_by_class_name('jeg_search_input').send_keys(Keys.ENTER) #sendKeys(Keys.ENTER)\n",
    "        time.sleep(30)\n",
    "    except Exception:\n",
    "        pass        \n",
    "    try:\n",
    "        driver.find_element_by_xpath(\"(//article[@class='jeg_post jeg_pl_md_2 format-standard'])[1]\").click()\n",
    "        time.sleep(30)\n",
    "    except Exception:\n",
    "        pass\n",
    "    driver.find_element_by_class_name(\"jeg_post_title\").text\n",
    "except Exception:\n",
    "    pass"
   ]
  },
  {
   "cell_type": "code",
   "execution_count": null,
   "id": "6c9a84cb-52ac-47a2-80a8-531e051154df",
   "metadata": {},
   "outputs": [],
   "source": [
    "try:\n",
    "    head12 = driver.find_element_by_class_name(\"jeg_post_title\").text\n",
    "    twelveth = driver.current_url\n",
    "except Exception:\n",
    "    pass"
   ]
  },
  {
   "cell_type": "code",
   "execution_count": null,
   "id": "89a70b2b-7b44-4cab-b687-1a5bb7cfea15",
   "metadata": {},
   "outputs": [],
   "source": [
    "hh12 = [] #urls, keynames\n",
    "try:\n",
    "    h12 = head12\n",
    "except Exception:\n",
    "    h12 = 'unavailable'\n",
    "hh12.append(h12)"
   ]
  },
  {
   "cell_type": "markdown",
   "id": "14a5344b-8875-482d-b085-e6935f77e81e",
   "metadata": {},
   "source": [
    "## 13"
   ]
  },
  {
   "cell_type": "code",
   "execution_count": null,
   "id": "e5181710-d5f2-4c4f-b6da-24262f63e842",
   "metadata": {},
   "outputs": [],
   "source": [
    "try:\n",
    "    try:\n",
    "        driver.get(\"https://citinewsroom.com/\") \n",
    "    except Exception:\n",
    "        pass\n",
    "    button = driver.find_element_by_xpath(\"(//a[contains(@class,'jeg_search_toggle')])[1]\")\n",
    "    ActionChains(driver).move_to_element(button).click(button).perform()\n",
    "    time.sleep(5)\n",
    "    driver.find_element_by_class_name('jeg_search_input').send_keys(new_lists[12])\n",
    "    try:\n",
    "        driver.find_element_by_class_name('jeg_search_input').send_keys(Keys.ENTER) #sendKeys(Keys.ENTER)\n",
    "        time.sleep(30)\n",
    "    except Exception:\n",
    "        pass        \n",
    "    try:\n",
    "        driver.find_element_by_xpath(\"(//article[@class='jeg_post jeg_pl_md_2 format-standard'])[1]\").click()\n",
    "        time.sleep(30)\n",
    "    except Exception:\n",
    "        pass\n",
    "    driver.find_element_by_class_name(\"jeg_post_title\").text\n",
    "except Exception:\n",
    "    pass"
   ]
  },
  {
   "cell_type": "code",
   "execution_count": null,
   "id": "bc527850-e4ce-45ec-bbff-4ee3fdc673ec",
   "metadata": {},
   "outputs": [],
   "source": []
  },
  {
   "cell_type": "code",
   "execution_count": null,
   "id": "1ccfb313-d6cc-4039-b1ae-381f1204fe04",
   "metadata": {},
   "outputs": [],
   "source": [
    "try:\n",
    "    head13 = driver.find_element_by_class_name(\"jeg_post_title\").text\n",
    "    thirteenth = driver.current_url\n",
    "except Exception:\n",
    "    pass"
   ]
  },
  {
   "cell_type": "code",
   "execution_count": null,
   "id": "77b85e63-d8a6-4f79-b33e-ef95b6ef16ed",
   "metadata": {},
   "outputs": [],
   "source": [
    "hh13 = [] #urls, keynames\n",
    "try:\n",
    "    h13 = head13\n",
    "except Exception:\n",
    "    h13 = 'unavailable'\n",
    "hh13.append(h13)"
   ]
  },
  {
   "cell_type": "markdown",
   "id": "2d26be97-1f7b-42d6-9a08-315a82c04162",
   "metadata": {},
   "source": [
    "## 14"
   ]
  },
  {
   "cell_type": "code",
   "execution_count": null,
   "id": "4fbcc189-e65e-4a88-bb9e-384beeff016e",
   "metadata": {},
   "outputs": [],
   "source": [
    "try:\n",
    "    try:\n",
    "        driver.get(\"https://citinewsroom.com/\") \n",
    "    except Exception:\n",
    "        pass\n",
    "    button = driver.find_element_by_xpath(\"(//a[contains(@class,'jeg_search_toggle')])[1]\")\n",
    "    ActionChains(driver).move_to_element(button).click(button).perform()\n",
    "    time.sleep(5)\n",
    "    driver.find_element_by_class_name('jeg_search_input').send_keys(new_lists[13])\n",
    "    try:\n",
    "        driver.find_element_by_class_name('jeg_search_input').send_keys(Keys.ENTER) #sendKeys(Keys.ENTER)\n",
    "        time.sleep(30)\n",
    "    except Exception:\n",
    "        pass        \n",
    "    try:\n",
    "        driver.find_element_by_xpath(\"(//article[@class='jeg_post jeg_pl_md_2 format-standard'])[1]\").click()\n",
    "        time.sleep(30)\n",
    "    except Exception:\n",
    "        pass\n",
    "    driver.find_element_by_class_name(\"jeg_post_title\").text\n",
    "except Exception:\n",
    "    pass"
   ]
  },
  {
   "cell_type": "code",
   "execution_count": null,
   "id": "f8035233-ed84-4711-879d-f18c112f29dc",
   "metadata": {},
   "outputs": [],
   "source": [
    "try:\n",
    "    head14 = driver.find_element_by_class_name(\"jeg_post_title\").text\n",
    "    forteenth = driver.current_url\n",
    "except Exception:\n",
    "    pass"
   ]
  },
  {
   "cell_type": "code",
   "execution_count": null,
   "id": "0d6d133b-17c7-4a31-b393-c620ad3fda5a",
   "metadata": {},
   "outputs": [],
   "source": [
    "hh14 = [] #urls, keynames\n",
    "try:\n",
    "    h14 = head14\n",
    "except Exception:\n",
    "    h14 = 'unavailable'\n",
    "hh14.append(h14)"
   ]
  },
  {
   "cell_type": "markdown",
   "id": "a2f40028-eda9-4ff8-91f8-682a8cdc17bb",
   "metadata": {},
   "source": [
    "## 15"
   ]
  },
  {
   "cell_type": "code",
   "execution_count": null,
   "id": "50c3c7e1-fbfc-486a-8325-a21cd24e1073",
   "metadata": {},
   "outputs": [],
   "source": [
    "try:\n",
    "    try:\n",
    "        driver.get(\"https://citinewsroom.com/\") \n",
    "    except Exception:\n",
    "        pass\n",
    "    button = driver.find_element_by_xpath(\"(//a[contains(@class,'jeg_search_toggle')])[1]\")\n",
    "    ActionChains(driver).move_to_element(button).click(button).perform()\n",
    "    time.sleep(5)\n",
    "    driver.find_element_by_class_name('jeg_search_input').send_keys(new_lists[14])\n",
    "    try:\n",
    "        driver.find_element_by_class_name('jeg_search_input').send_keys(Keys.ENTER) #sendKeys(Keys.ENTER)\n",
    "        time.sleep(30)\n",
    "    except Exception:\n",
    "        pass        \n",
    "    try:\n",
    "        driver.find_element_by_xpath(\"(//article[@class='jeg_post jeg_pl_md_2 format-standard'])[1]\").click()\n",
    "        time.sleep(30)\n",
    "    except Exception:\n",
    "        pass\n",
    "    driver.find_element_by_class_name(\"jeg_post_title\").text\n",
    "except Exception:\n",
    "    pass"
   ]
  },
  {
   "cell_type": "code",
   "execution_count": null,
   "id": "0b2c91f5-7290-4e31-9f44-a66fccfb6426",
   "metadata": {},
   "outputs": [],
   "source": [
    "try:\n",
    "    head15 = driver.find_element_by_class_name(\"jeg_post_title\").text\n",
    "    fifteenth = driver.current_url\n",
    "except Exception:\n",
    "    pass"
   ]
  },
  {
   "cell_type": "code",
   "execution_count": null,
   "id": "5b46561a-fbb9-4418-9058-c9e809c22c80",
   "metadata": {},
   "outputs": [],
   "source": [
    "hh15 = [] #urls, keynames\n",
    "try:\n",
    "    h15 = head15\n",
    "except Exception:\n",
    "    h15 = 'unavailable'\n",
    "hh15.append(h15)"
   ]
  },
  {
   "cell_type": "code",
   "execution_count": null,
   "id": "9c4ea631-0ec2-4fd7-b0fd-180dcfe0b2ef",
   "metadata": {},
   "outputs": [],
   "source": []
  },
  {
   "cell_type": "code",
   "execution_count": null,
   "id": "a59ed199-65c8-4e3c-940c-c0c9cbfd6d71",
   "metadata": {},
   "outputs": [],
   "source": [
    "import pandas as pd"
   ]
  },
  {
   "cell_type": "code",
   "execution_count": null,
   "id": "774a71fa-e515-4e61-a467-1aaf79834463",
   "metadata": {},
   "outputs": [],
   "source": [
    "urls = (first, second, third, forth, fifth, sixth, seventh, eighth, nineth, tenth, eleventh, twelveth, thirteenth, forteenth, fifteenth)\n",
    "keynames = (hh1, hh2, hh3, hh4, hh5, hh6, hh7, hh8, hh9, hh10, hh11, hh12, hh13, hh14, hh15)"
   ]
  },
  {
   "cell_type": "code",
   "execution_count": null,
   "id": "2600c00f-deae-4ec6-b26d-5accf4d89a4a",
   "metadata": {},
   "outputs": [],
   "source": [
    "col1 = \"urls_of_websites\"\n",
    "col2 = \"keywords\""
   ]
  },
  {
   "cell_type": "code",
   "execution_count": null,
   "id": "be511de4-d53e-4c1e-83f4-23bbd8c649f3",
   "metadata": {},
   "outputs": [],
   "source": [
    "data = pd.DataFrame({col1:urls, col2:keynames})"
   ]
  },
  {
   "cell_type": "code",
   "execution_count": null,
   "id": "8229daa5-8125-4f52-8adc-29fd00bf4880",
   "metadata": {},
   "outputs": [],
   "source": [
    "from datetime import datetime\n",
    "today = datetime.today().strftime('%Y-%m-%d')"
   ]
  },
  {
   "cell_type": "code",
   "execution_count": null,
   "id": "68300365-b350-4ebd-8cc7-3f68dbae9ed5",
   "metadata": {},
   "outputs": [],
   "source": [
    "with pd.ExcelWriter(\"C:\\\\Users\\\\hp\\\\Desktop\\\\selenium.xlsx\", engine=\"openpyxl\", mode=\"a\") as writer:\n",
    "    data.to_excel(writer, sheet_name=(today,'pulse'), startrow=0, startcol=0)"
   ]
  },
  {
   "cell_type": "code",
   "execution_count": null,
   "id": "d5147543-a736-4157-9638-9f9c5c969bbb",
   "metadata": {},
   "outputs": [],
   "source": [
    "\n"
   ]
  },
  {
   "cell_type": "code",
   "execution_count": null,
   "id": "9e1fefe5-0340-4519-8484-0b7d408316ec",
   "metadata": {},
   "outputs": [],
   "source": []
  },
  {
   "cell_type": "code",
   "execution_count": null,
   "id": "254cd356-eb57-4832-9616-6f95f032a7dd",
   "metadata": {},
   "outputs": [],
   "source": []
  },
  {
   "cell_type": "code",
   "execution_count": null,
   "id": "385be007-e488-4e5d-bd77-e39d2cf089ed",
   "metadata": {},
   "outputs": [],
   "source": []
  },
  {
   "cell_type": "code",
   "execution_count": null,
   "id": "486f51f3-98ec-443c-9889-bc34ebaaff3f",
   "metadata": {},
   "outputs": [],
   "source": []
  },
  {
   "cell_type": "code",
   "execution_count": null,
   "id": "c95b8f24-2f3c-49c3-be4b-4de3662f06d4",
   "metadata": {},
   "outputs": [],
   "source": []
  },
  {
   "cell_type": "code",
   "execution_count": null,
   "id": "dabf3d43-ff39-45b3-82ea-42650c2faf94",
   "metadata": {},
   "outputs": [],
   "source": []
  },
  {
   "cell_type": "code",
   "execution_count": null,
   "id": "061167f9-e824-47d6-9ccd-d7cd08758c1b",
   "metadata": {},
   "outputs": [],
   "source": []
  },
  {
   "cell_type": "code",
   "execution_count": null,
   "id": "cef68b08-e603-4723-921a-25a761a2aa93",
   "metadata": {},
   "outputs": [],
   "source": []
  },
  {
   "cell_type": "code",
   "execution_count": null,
   "id": "c4a4b960-9aaa-4c7f-9d4a-a37a3fb3671f",
   "metadata": {},
   "outputs": [],
   "source": []
  },
  {
   "cell_type": "code",
   "execution_count": null,
   "id": "a33370ef-47e5-492c-8925-1c9194da34ef",
   "metadata": {},
   "outputs": [],
   "source": []
  },
  {
   "cell_type": "code",
   "execution_count": null,
   "id": "8787927c-d2fd-4372-9054-9b3abd083a1d",
   "metadata": {},
   "outputs": [],
   "source": []
  },
  {
   "cell_type": "code",
   "execution_count": null,
   "id": "cd7d19b8-af1d-485d-be6b-828942d8728d",
   "metadata": {},
   "outputs": [],
   "source": []
  },
  {
   "cell_type": "code",
   "execution_count": null,
   "id": "cf1d7a83-2aa9-42db-8231-1b88489415b3",
   "metadata": {},
   "outputs": [],
   "source": []
  },
  {
   "cell_type": "code",
   "execution_count": null,
   "id": "ed9521ac-5138-41c8-8a87-555f8349ab14",
   "metadata": {},
   "outputs": [],
   "source": []
  }
 ],
 "metadata": {
  "kernelspec": {
   "display_name": "Python 3 (ipykernel)",
   "language": "python",
   "name": "python3"
  },
  "language_info": {
   "codemirror_mode": {
    "name": "ipython",
    "version": 3
   },
   "file_extension": ".py",
   "mimetype": "text/x-python",
   "name": "python",
   "nbconvert_exporter": "python",
   "pygments_lexer": "ipython3",
   "version": "3.9.7"
  }
 },
 "nbformat": 4,
 "nbformat_minor": 5
}
