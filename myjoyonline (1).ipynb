{
 "cells": [
  {
   "cell_type": "code",
   "execution_count": 90,
   "id": "5e869c14-2661-409e-9528-d193e04887e8",
   "metadata": {},
   "outputs": [
    {
     "name": "stderr",
     "output_type": "stream",
     "text": [
      "\n",
      "\n",
      "====== WebDriver manager ======\n",
      "Current google-chrome version is 100.0.4896\n",
      "Get LATEST chromedriver version for 100.0.4896 google-chrome\n",
      "Driver [C:\\Users\\hp\\.wdm\\drivers\\chromedriver\\win32\\100.0.4896.60\\chromedriver.exe] found in cache\n",
      "C:\\Users\\hp\\AppData\\Local\\Temp/ipykernel_7804/2953177188.py:6: DeprecationWarning: executable_path has been deprecated, please pass in a Service object\n",
      "  driver = webdriver.Chrome(ChromeDriverManager().install())\n"
     ]
    }
   ],
   "source": [
    "import time\n",
    "from time import sleep\n",
    "from selenium import webdriver\n",
    "from selenium.webdriver.common.keys import Keys\n",
    "from webdriver_manager.chrome import ChromeDriverManager\n",
    "driver = webdriver.Chrome(ChromeDriverManager().install())\n",
    "\n",
    "time.sleep(5)"
   ]
  },
  {
   "cell_type": "code",
   "execution_count": 91,
   "id": "e0babb76-2c6a-48e7-9bb6-a52b70b587cc",
   "metadata": {},
   "outputs": [],
   "source": [
    "driver.maximize_window()\n",
    "time.sleep(2)"
   ]
  },
  {
   "cell_type": "code",
   "execution_count": 92,
   "id": "a33b5520-93c9-41be-becd-b9ea01c9935a",
   "metadata": {},
   "outputs": [
    {
     "name": "stdout",
     "output_type": "stream",
     "text": [
      "did not finish loading\n"
     ]
    }
   ],
   "source": [
    "try:\n",
    "    driver.set_page_load_timeout(15)\n",
    "    driver.get(\"https://www.myjoyonline.com/\")    \n",
    "    time.sleep(2)   \n",
    "except Exception:\n",
    "    pass\n",
    "print('did not finish loading')\n",
    "    "
   ]
  },
  {
   "cell_type": "code",
   "execution_count": null,
   "id": "f18ce89c-92ba-4e3a-90f7-b33e254b27fc",
   "metadata": {},
   "outputs": [],
   "source": []
  },
  {
   "cell_type": "code",
   "execution_count": 93,
   "id": "df130fdb-7180-4e33-b1cf-bd963422984f",
   "metadata": {},
   "outputs": [
    {
     "name": "stderr",
     "output_type": "stream",
     "text": [
      "C:\\Users\\hp\\AppData\\Local\\Temp/ipykernel_7804/2763983354.py:1: DeprecationWarning: find_element_by_xpath is deprecated. Please use find_element(by=By.XPATH, value=xpath) instead\n",
      "  i = driver.find_element_by_xpath(\" (//div)[39]\")\n"
     ]
    }
   ],
   "source": [
    "i = driver.find_element_by_xpath(\" (//div)[39]\")\n",
    " #(//div)[39]"
   ]
  },
  {
   "cell_type": "code",
   "execution_count": 94,
   "id": "727f508b-5d34-4fde-a667-2f437c8cf1a4",
   "metadata": {},
   "outputs": [],
   "source": [
    "k = i.text"
   ]
  },
  {
   "cell_type": "code",
   "execution_count": 95,
   "id": "bfdc537f-9d0b-4a39-8f6e-24f07b07476a",
   "metadata": {},
   "outputs": [],
   "source": [
    "rep = k.replace(\"\\n\", \". \")"
   ]
  },
  {
   "cell_type": "code",
   "execution_count": 96,
   "id": "114fd99e-92cc-449c-8e8d-8d9899387a61",
   "metadata": {},
   "outputs": [
    {
     "data": {
      "text/plain": [
       "\"TOP STORY. Neutrality allowance should be extended to all public sector workers – TUC. NEWS. Minimum wage should be pegged at a rate businesses can afford – Employers Association. Politicisation of public sector cause of fallen professional standards – Emmanuel Akwetey. NPP Chairman, 2 others arrested for stealing metals for bridge maintenance granted bail. NPP knows it is currently unpopular – Nana Akomea. Government agrees to pay ‘Neutrality Allowance’ in quarter 4, but will change name. Sonnie Badu’s new tattoo sparks debate on Christian principles. Restore labour unions to level of pay eroded by rising prices – Chief Economist at TUC. Details of how an apprentice allegedly killed a KNUST student. 😷 Ghana 161,157 Total 1,445 Deaths 159,669 Recovered. 😷 Global 🌍 510,140,325 Total 6,245,984 Deaths 463,452,229 Recovered. PODCASTS. Super Morning Show. Cosmopolitan Mix. Midday News. IN FOCUS. Today’s front pages: Tuesday, April 26, 2022. VIDEOS. Court remands suspect in murder of .... Money Lab: At what point can .... Adabraka Health Centre in Hohoe gets .... Education Infrastructure: Gambaga College of Education .... Month of Ramadan: Sarkin Zango urges .... Money Lab: How long can you .... I staked ¢10k in betting and .... Some MP’s lost their seats .... ENTERTAINMENT. Being loud on social media is how I earn money – Akuapem Poloo. Viola Davis shares survival technique she used to escape abusive situations. I was still married to my ex-husband when he married a new wife – Gospel musician. BUSINESS. Use available tools to fight rising inflation to avert economic instability – World Bank boss to BoG, others. E-Levy may not yield intended target; harness existing tax sources – Economist. Ghana Mine Workers Union secures injunction to restrain Asanko Gold from laying off 299 workers. Let’s private sector manage ‘YouStart’ Programme-Joe Jackson. Seek permission from BoG before quoting in dollars – GREDA Boss to members. Government agrees to pay ‘Neutrality Allowance’ in quarter 4, but will change name. IMF forecasts Ghana’s debt-to-GDP ratio of 84.6% in 2022. SPORTS. GPL Week 26 Wrap: Kotoko suffer back-to-back defeats; Hearts move into top four. Prosper Narteh urges Kotoko fans to show belief in the team despite consecutive defeats. Bayern Munich secures 10th consecutive Bundesliga title. PSG win 10th title but angry fans leave early. Thomas Tuchel confirms Antonio Rudiger has decided to leave Chelsea. Ronaldo shares first family photo with newborn daughter since announcing death of son. Hoop Dreams: Ghana’s search for a global basketball icon. LIFESTYLE. I didn’t love my wife when we got married. I couldn’t call off my wedding but I never wanted to be married. My husband takes me for granted but I don’t really mind. If a guy does these 10 things, he doesn’t love you, he’s just settling for you. My best friend disappeared from my life without a trace. I’m still trying to find out what happened. Why does he stare at me so intensely? 5 things prolonged eye contact from a guy might mean. We traveled 10,000 miles across the world to save our marriage. OPINION. Samson’s Take: Hijacked democracy, threat to the democracy. Ama Cromwell: ‘A lady’s glory is her hair’, mummy said, so I found freedom in locs. Christian Yalley: How my journey to First Class in UG started in a room with ladies. Sweet Like Fine Choco: I love women but I’m not lesbian. Anny Osabutey: Obituary brochure – Establishing family ties through funeral handouts. Edmund Smith-Asante: ‘Abrokyire abrabo’; My wahala in Germany – Part 1￼. Nana Kwasi Gyan-Apenteng: Have the masks gone too soon?. OBITUARY. Sampson Nana Andoh. Abraham Osei aka Kwame Braimah. John McCarthy Aful. Recommended for you. Ayew brothers quit Black Stars. Promoted. The Soccer Star Is Moving On: Cristiano Ronaldo Sold Manchester House. Mansion Global. UG final year student passes on; leaves 'strange' note. Promoted. Floyd Mayweather's new home in Miami Beach is absolutely breathtaking!. Mansion Global. Promoted. [Photo] This Is How Luxurious Greta Thunberg Lives. Read More. [Pics] This Is How Luxurious Greta Thunberg Lives. D o c t o R e p o r t. Promoted. Apply for a US visa? It might be easier than you think. Apply Now. US Visa | Search ads. Patrick Osei Agyemang appointed head of communication for APC. Former President Atta Mills’ son ties the knot. Promoted. Housekeeping employees needed in US (see salaries). Housekeeping jobs | Search ads. Recommended by. . Most Recent. Were any of Brazil’s goals against Ghana in the 2006 World Cup really offside?. YouTube suspends Diamond Platnumz account. Viola Davis shares survival technique she used to escape abusive situations. Court remands suspect in murder of KNUST student into police custody. New footage from ‘Rust’ investigation shows Alec Baldwin moments after fatal shooting. Livestream: Ghana Health Service provides updates on Covid-19. Being loud on social media is how I earn money – Akuapem Poloo. Howard Stern slams ‘huge narcissist’ Johnny Depp, says he’s ‘overacting’ in Amber Heard trial. Let’s private sector manage ‘YouStart’ Programme-Joe Jackson. Users react to Twitter takeover by Elon Musk. Moesha Buduong returns to acting. NAGRAT, GMA back calls for 19% salary increment. CLOGSAG has agreed to call off strike – Head of Local Government Service. Ghana needs $412 million to execute National Malaria Strategic Plan. Johnny Depp ends testimony: Key moments from his four days on the stand. 40-year-old nabbed for impersonating ECG staff, extortion . Ziavi-Lume residents revive the spirit of communal development. Sunyani Regional Hospital gets Emergency Paediatric Unit. Lands Ministry receives report on Bulgarian Embassy land case. Ghana Mine Workers Union secures injunction to restrain Asanko Gold from laying off 299 workers. Fidelity Bank expands Mortgage Loans with MoU signing. Seek permission from BoG before quoting in dollars – GREDA Boss to members. Money Lab: At what point can you sell your stock?. Negative disciplinary actions create abusers out of children – Clinical Psychologist. Wenchi SHS to face court over non-competitive procurement. Chiefs warned against interfering in politics. Elon Musk buys Twitter for $44bn – How will the platform change?. Why abuse is not a ‘relationship problem’. Cyber Security Authority and Association of Bankers collaborate to secure digital ecosystem. EU-funded GrEEn Project and Social Enterprise Ghana partner to train hubs in green economy. Vodafone Ghana Foundation provides free medical care to Appiatse residents. Today’s front pages: Tuesday, April 26, 2022. Use available tools to fight rising inflation to avert economic instability – World Bank boss to BoG, others. 2 officials of Bosomtwe Assembly under investigation for unprovoked attacks on road safety team. E-Levy may not yield intended target; harness existing tax sources – Economist. 8 drivers, 4 commercial tricycle riders fined ¢10,800 for road traffic offences at Ejisu. Message from the Morning Man: The falcon. Set timelines for Mohammed Salisu to decide on joining Black Stars – Coach Sefa. Ugandan art gets special nod at Venice Biennale. Togo MPs pass vote to join Commonwealth. Paapa Versa: Finding his voice through music, inspiring a generation of musicians. PC Khafilat Kareem went on Big Brother Naija ‘to promote Met’. Mining labourer jailed for stabbing colleague. I was still married to my ex-husband when he married a new wife – Gospel musician. Takoradi court denies bail to 15 arrested over chaos at Esiama police headquarters. Only few songs will make the next decade in this fast-food music era – Songwriter. Johnny Depp blames ‘burn Amber’ text on Monty Python. Health Director blames shortage of health professionals on poor road network. Politicisation of public sector cause of fallen professional standards – Emmanuel Akwetey. Neutrality allowance should be extended to all public sector workers – TUC. World Malaria Day: Shalina Healthcare in partnership with GHS embark on health walk to create awareness. Minimum wage should be pegged at a rate businesses can afford – Employers Association. Ghana Medical Association supports calls for increase in salaries of public sector workers. Strong and Sassy to introduce ‘My Story’ series this May. HD+ Equips 6000 Satellite TV Technicians nationwide. 2 persons arrested in connection with Zakoli shooting. Earth Day 2022: UKGCC, Trashy Bags collect plastic waste at Labadi beach to mark occasion. NAGRAT backs calls for salaries of public sector workers to be increased by not less than 19%. Bliss GVS Pharma Ghana commemorates World Malaria Day 2022. NPP Chairman, 2 others arrested for stealing metals for bridge maintenance granted bail. Ghana’s DJ Black hailed in Botswana. Twitter board agrees to $44bn takeover by Elon Musk. Government agrees to pay ‘Neutrality Allowance’ in quarter 4, but will change name. Opera Square building on fire. Priscilla Aseye Febiri: Are you asking the right questions when scouting for influencers?. Nigerian delegation to understudy Ghana’s Students Loan Scheme. Government slashes benefits of SOE CEOs by 30%. 40 individuals nominated for maiden Ghana CEO Vision and Awards Project. Mozambique to host CAF African Schools Programme launch and kick-off event . NPP knows it is currently unpopular – Nana Akomea. Total Petroleum Ghana PLC supports winners of 3rd edition of Startupper of the Year Challenge. Restore labour unions to level of pay eroded by rising prices – Chief Economist at TUC. The Nigerian student who barbs autistic children’s hair. Social media users react to ‘Inconvenience Allowance’ for executives of SOEs. Foreign Affairs Ministry and LECIAD to hold lecture on Ghana’s tenure at UNSC. I wish I had a wife like you – Shatta Wale tells Serwaa Amihere. Mass burials planned for Nigeria oil blast victims. NPP affirms April 28 as date for constituency elections despite Eid-Ul-Fitr and May Day holidays. KNUST students who claim to be addicted to betting need therapy – Ablakwa. Interior Ministry declares May 3 as public holiday to mark Eid-ul-Fitr. Sarah Norkor Anku to launch her book ‘Monetising your creativity and innovation’. I don’t think Efia Odo’s outfit stole the show at my album listening – Kwesi Arthur. Samson Deen visits athletes and officials in Birmingham. Government will not unnecessarily compromise Atewa forest – Lands Minister assures. I was kicked and spat on during my detention – Barker-Vormawor. Government declares May 2 as public holiday. Akosombo Textiles holds Southern Sector Distributor Awards . I won’t hesitate to run you up if you mess with our girl – Omotola tells Rita Dominic’s husband. Ghana’s primary balance to return to surplus from 2025 onwards – IMF. Sarkodie, Stonebwoy and Kwabena Kwabena wow fans at Accra in Paris show. Akufo-Addo commiserates with Kenya over death of ex-President Mwai Kibaki. Mahama worships with Archbishop Charles Agyinasare at Perez Chapel. Keta MP calls for review of LI on export of soya bean. Vodafone saves boy who couldn’t pass stool since birth. IMF forecasts Ghana’s debt-to-GDP ratio of 84.6% in 2022. Thomas Tuchel confirms Antonio Rudiger has decided to leave Chelsea. The future of the French people is secure in your hands – Akufo-Addo congratulates Macron on re-election. Planting for Food and Jobs is a failure – Keta MP. Women’s DOL: Ridge City forced to play 27 minutes in their last two games; unhappy with recent happenings. Asenso-Boakye inducts David Adjaye as registered member of ARC. . . . Exchange Rates. USD - United States dollar $. GHS - Ghanaian cedi ₵. NGN - Nigerian naira ₦. ZAR - South African rand R. CAD - Canadian dollar $. EUR - Euro €. GBP - British pound £. JPY - Japanese yen ¥. CNY - Chinese yuan ¥. i. April 26, 2022. MOST POPULAR NEWS. Details of how an apprentice allegedly killed a KNUST student. Ghana cannot access IMF’s $50bn Trust Fund. Government slashes benefits of SOE CEOs by 30%. Opera Square building on fire. “If elections are held today, NPP will get 145 seats in Parliament” – Director of Research at Presidency. NPP knows it is currently unpopular – Nana Akomea. Neutrality allowance should be extended to all public sector workers – TUC. I don’t think Efia Odo’s outfit stole the show at my album listening – Kwesi Arthur. I wish I had a wife like you – Shatta Wale tells Serwaa Amihere. NPP Chairman, 2 others arrested for stealing metals for bridge maintenance granted bail. LATEST STORIES. Were any of Brazil’s goals against Ghana in the 2006 World Cup really offside?. YouTube suspends Diamond Platnumz account. Viola Davis shares survival technique she used to escape abusive situations. Court remands suspect in murder of KNUST student into police custody. New footage from ‘Rust’ investigation shows Alec Baldwin moments after fatal shooting. Livestream: Ghana Health Service provides updates on Covid-19. Being loud on social media is how I earn money – Akuapem Poloo. Howard Stern slams ‘huge narcissist’ Johnny Depp, says he’s ‘overacting’ in Amber Heard trial. Let’s private sector manage ‘YouStart’ Programme-Joe Jackson. Users react to Twitter takeover by Elon Musk. About Us. The Multimedia Group. Advertise With Us. Contact Us. Terms of Use. Privacy Policy. Radio. Joy 99.7 FM. Adom 106.3 FM. Hitz 103.9 FM. Asempa 94.7 FM. Luv 99.5 FM. Nhyira 104.5 FM. TV. Joy News. Adom TV. Joy Prime. MultiTVWorld.com. Adom TV (Audio). Joy News (Audio). Social. YouTube. Facebook. Twitter. Instagram. LinkedIn. Infographics. More. Elections. Habitat Fair.  Google Podcast  TuneIn  iTunes Spotify. © 1996-2021 Copyright: MyjoyOnline.com\""
      ]
     },
     "execution_count": 96,
     "metadata": {},
     "output_type": "execute_result"
    }
   ],
   "source": [
    "rep"
   ]
  },
  {
   "cell_type": "code",
   "execution_count": 97,
   "id": "25f14a0f-61cb-4155-a66f-203c5c6b9502",
   "metadata": {},
   "outputs": [],
   "source": [
    "import re\n",
    "expression = re.compile(r'([A-Z][^\\.!?]*[\\.!?])')\n",
    "new_list = re.findall(expression, rep)"
   ]
  },
  {
   "cell_type": "code",
   "execution_count": 98,
   "id": "c49e2488-716b-4fab-a397-e1519dbc55f8",
   "metadata": {},
   "outputs": [
    {
     "data": {
      "text/plain": [
       "['TOP STORY.',\n",
       " 'Neutrality allowance should be extended to all public sector workers – TUC.',\n",
       " 'NEWS.',\n",
       " 'Minimum wage should be pegged at a rate businesses can afford – Employers Association.',\n",
       " 'Politicisation of public sector cause of fallen professional standards – Emmanuel Akwetey.',\n",
       " 'NPP Chairman, 2 others arrested for stealing metals for bridge maintenance granted bail.',\n",
       " 'NPP knows it is currently unpopular – Nana Akomea.',\n",
       " 'Government agrees to pay ‘Neutrality Allowance’ in quarter 4, but will change name.',\n",
       " 'Sonnie Badu’s new tattoo sparks debate on Christian principles.',\n",
       " 'Restore labour unions to level of pay eroded by rising prices – Chief Economist at TUC.',\n",
       " 'Details of how an apprentice allegedly killed a KNUST student.',\n",
       " 'Ghana 161,157 Total 1,445 Deaths 159,669 Recovered.',\n",
       " 'Global 🌍 510,140,325 Total 6,245,984 Deaths 463,452,229 Recovered.',\n",
       " 'PODCASTS.',\n",
       " 'Super Morning Show.',\n",
       " 'Cosmopolitan Mix.',\n",
       " 'Midday News.',\n",
       " 'IN FOCUS.',\n",
       " 'Today’s front pages: Tuesday, April 26, 2022.',\n",
       " 'VIDEOS.',\n",
       " 'Court remands suspect in murder of .',\n",
       " 'Money Lab: At what point can .',\n",
       " 'Adabraka Health Centre in Hohoe gets .',\n",
       " 'Education Infrastructure: Gambaga College of Education .',\n",
       " 'Month of Ramadan: Sarkin Zango urges .',\n",
       " 'Money Lab: How long can you .',\n",
       " 'I staked ¢10k in betting and .',\n",
       " 'Some MP’s lost their seats .',\n",
       " 'ENTERTAINMENT.',\n",
       " 'Being loud on social media is how I earn money – Akuapem Poloo.',\n",
       " 'Viola Davis shares survival technique she used to escape abusive situations.',\n",
       " 'I was still married to my ex-husband when he married a new wife – Gospel musician.',\n",
       " 'BUSINESS.',\n",
       " 'Use available tools to fight rising inflation to avert economic instability – World Bank boss to BoG, others.',\n",
       " 'E-Levy may not yield intended target; harness existing tax sources – Economist.',\n",
       " 'Ghana Mine Workers Union secures injunction to restrain Asanko Gold from laying off 299 workers.',\n",
       " 'Let’s private sector manage ‘YouStart’ Programme-Joe Jackson.',\n",
       " 'Seek permission from BoG before quoting in dollars – GREDA Boss to members.',\n",
       " 'Government agrees to pay ‘Neutrality Allowance’ in quarter 4, but will change name.',\n",
       " 'IMF forecasts Ghana’s debt-to-GDP ratio of 84.',\n",
       " 'SPORTS.',\n",
       " 'GPL Week 26 Wrap: Kotoko suffer back-to-back defeats; Hearts move into top four.',\n",
       " 'Prosper Narteh urges Kotoko fans to show belief in the team despite consecutive defeats.',\n",
       " 'Bayern Munich secures 10th consecutive Bundesliga title.',\n",
       " 'PSG win 10th title but angry fans leave early.',\n",
       " 'Thomas Tuchel confirms Antonio Rudiger has decided to leave Chelsea.',\n",
       " 'Ronaldo shares first family photo with newborn daughter since announcing death of son.',\n",
       " 'Hoop Dreams: Ghana’s search for a global basketball icon.',\n",
       " 'LIFESTYLE.',\n",
       " 'I didn’t love my wife when we got married.',\n",
       " 'I couldn’t call off my wedding but I never wanted to be married.',\n",
       " 'My husband takes me for granted but I don’t really mind.',\n",
       " 'If a guy does these 10 things, he doesn’t love you, he’s just settling for you.',\n",
       " 'My best friend disappeared from my life without a trace.',\n",
       " 'I’m still trying to find out what happened.',\n",
       " 'Why does he stare at me so intensely?',\n",
       " 'We traveled 10,000 miles across the world to save our marriage.',\n",
       " 'OPINION.',\n",
       " 'Samson’s Take: Hijacked democracy, threat to the democracy.',\n",
       " 'Ama Cromwell: ‘A lady’s glory is her hair’, mummy said, so I found freedom in locs.',\n",
       " 'Christian Yalley: How my journey to First Class in UG started in a room with ladies.',\n",
       " 'Sweet Like Fine Choco: I love women but I’m not lesbian.',\n",
       " 'Anny Osabutey: Obituary brochure – Establishing family ties through funeral handouts.',\n",
       " 'Edmund Smith-Asante: ‘Abrokyire abrabo’; My wahala in Germany – Part 1￼.',\n",
       " 'Nana Kwasi Gyan-Apenteng: Have the masks gone too soon?',\n",
       " 'OBITUARY.',\n",
       " 'Sampson Nana Andoh.',\n",
       " 'Abraham Osei aka Kwame Braimah.',\n",
       " 'John McCarthy Aful.',\n",
       " 'Recommended for you.',\n",
       " 'Ayew brothers quit Black Stars.',\n",
       " 'Promoted.',\n",
       " 'The Soccer Star Is Moving On: Cristiano Ronaldo Sold Manchester House.',\n",
       " 'Mansion Global.',\n",
       " \"UG final year student passes on; leaves 'strange' note.\",\n",
       " 'Promoted.',\n",
       " \"Floyd Mayweather's new home in Miami Beach is absolutely breathtaking!\",\n",
       " 'Mansion Global.',\n",
       " 'Promoted.',\n",
       " 'Photo] This Is How Luxurious Greta Thunberg Lives.',\n",
       " 'Read More.',\n",
       " 'Pics] This Is How Luxurious Greta Thunberg Lives.',\n",
       " 'D o c t o R e p o r t.',\n",
       " 'Promoted.',\n",
       " 'Apply for a US visa?',\n",
       " 'It might be easier than you think.',\n",
       " 'Apply Now.',\n",
       " 'US Visa | Search ads.',\n",
       " 'Patrick Osei Agyemang appointed head of communication for APC.',\n",
       " 'Former President Atta Mills’ son ties the knot.',\n",
       " 'Promoted.',\n",
       " 'Housekeeping employees needed in US (see salaries).',\n",
       " 'Housekeeping jobs | Search ads.',\n",
       " 'Recommended by.',\n",
       " 'Most Recent.',\n",
       " 'Were any of Brazil’s goals against Ghana in the 2006 World Cup really offside?',\n",
       " 'YouTube suspends Diamond Platnumz account.',\n",
       " 'Viola Davis shares survival technique she used to escape abusive situations.',\n",
       " 'Court remands suspect in murder of KNUST student into police custody.',\n",
       " 'New footage from ‘Rust’ investigation shows Alec Baldwin moments after fatal shooting.',\n",
       " 'Livestream: Ghana Health Service provides updates on Covid-19.',\n",
       " 'Being loud on social media is how I earn money – Akuapem Poloo.',\n",
       " 'Howard Stern slams ‘huge narcissist’ Johnny Depp, says he’s ‘overacting’ in Amber Heard trial.',\n",
       " 'Let’s private sector manage ‘YouStart’ Programme-Joe Jackson.',\n",
       " 'Users react to Twitter takeover by Elon Musk.',\n",
       " 'Moesha Buduong returns to acting.',\n",
       " 'NAGRAT, GMA back calls for 19% salary increment.',\n",
       " 'CLOGSAG has agreed to call off strike – Head of Local Government Service.',\n",
       " 'Ghana needs $412 million to execute National Malaria Strategic Plan.',\n",
       " 'Johnny Depp ends testimony: Key moments from his four days on the stand.',\n",
       " 'ECG staff, extortion .',\n",
       " 'Ziavi-Lume residents revive the spirit of communal development.',\n",
       " 'Sunyani Regional Hospital gets Emergency Paediatric Unit.',\n",
       " 'Lands Ministry receives report on Bulgarian Embassy land case.',\n",
       " 'Ghana Mine Workers Union secures injunction to restrain Asanko Gold from laying off 299 workers.',\n",
       " 'Fidelity Bank expands Mortgage Loans with MoU signing.',\n",
       " 'Seek permission from BoG before quoting in dollars – GREDA Boss to members.',\n",
       " 'Money Lab: At what point can you sell your stock?',\n",
       " 'Negative disciplinary actions create abusers out of children – Clinical Psychologist.',\n",
       " 'Wenchi SHS to face court over non-competitive procurement.',\n",
       " 'Chiefs warned against interfering in politics.',\n",
       " 'Elon Musk buys Twitter for $44bn – How will the platform change?',\n",
       " 'Why abuse is not a ‘relationship problem’.',\n",
       " 'Cyber Security Authority and Association of Bankers collaborate to secure digital ecosystem.',\n",
       " 'EU-funded GrEEn Project and Social Enterprise Ghana partner to train hubs in green economy.',\n",
       " 'Vodafone Ghana Foundation provides free medical care to Appiatse residents.',\n",
       " 'Today’s front pages: Tuesday, April 26, 2022.',\n",
       " 'Use available tools to fight rising inflation to avert economic instability – World Bank boss to BoG, others.',\n",
       " 'Bosomtwe Assembly under investigation for unprovoked attacks on road safety team.',\n",
       " 'E-Levy may not yield intended target; harness existing tax sources – Economist.',\n",
       " 'Ejisu.',\n",
       " 'Message from the Morning Man: The falcon.',\n",
       " 'Set timelines for Mohammed Salisu to decide on joining Black Stars – Coach Sefa.',\n",
       " 'Ugandan art gets special nod at Venice Biennale.',\n",
       " 'Togo MPs pass vote to join Commonwealth.',\n",
       " 'Paapa Versa: Finding his voice through music, inspiring a generation of musicians.',\n",
       " 'PC Khafilat Kareem went on Big Brother Naija ‘to promote Met’.',\n",
       " 'Mining labourer jailed for stabbing colleague.',\n",
       " 'I was still married to my ex-husband when he married a new wife – Gospel musician.',\n",
       " 'Takoradi court denies bail to 15 arrested over chaos at Esiama police headquarters.',\n",
       " 'Only few songs will make the next decade in this fast-food music era – Songwriter.',\n",
       " 'Johnny Depp blames ‘burn Amber’ text on Monty Python.',\n",
       " 'Health Director blames shortage of health professionals on poor road network.',\n",
       " 'Politicisation of public sector cause of fallen professional standards – Emmanuel Akwetey.',\n",
       " 'Neutrality allowance should be extended to all public sector workers – TUC.',\n",
       " 'World Malaria Day: Shalina Healthcare in partnership with GHS embark on health walk to create awareness.',\n",
       " 'Minimum wage should be pegged at a rate businesses can afford – Employers Association.',\n",
       " 'Ghana Medical Association supports calls for increase in salaries of public sector workers.',\n",
       " 'Strong and Sassy to introduce ‘My Story’ series this May.',\n",
       " 'HD+ Equips 6000 Satellite TV Technicians nationwide.',\n",
       " 'Zakoli shooting.',\n",
       " 'Earth Day 2022: UKGCC, Trashy Bags collect plastic waste at Labadi beach to mark occasion.',\n",
       " 'NAGRAT backs calls for salaries of public sector workers to be increased by not less than 19%.',\n",
       " 'Bliss GVS Pharma Ghana commemorates World Malaria Day 2022.',\n",
       " 'NPP Chairman, 2 others arrested for stealing metals for bridge maintenance granted bail.',\n",
       " 'Ghana’s DJ Black hailed in Botswana.',\n",
       " 'Twitter board agrees to $44bn takeover by Elon Musk.',\n",
       " 'Government agrees to pay ‘Neutrality Allowance’ in quarter 4, but will change name.',\n",
       " 'Opera Square building on fire.',\n",
       " 'Priscilla Aseye Febiri: Are you asking the right questions when scouting for influencers?',\n",
       " 'Nigerian delegation to understudy Ghana’s Students Loan Scheme.',\n",
       " 'Government slashes benefits of SOE CEOs by 30%.',\n",
       " 'Ghana CEO Vision and Awards Project.',\n",
       " 'Mozambique to host CAF African Schools Programme launch and kick-off event .',\n",
       " 'NPP knows it is currently unpopular – Nana Akomea.',\n",
       " 'Total Petroleum Ghana PLC supports winners of 3rd edition of Startupper of the Year Challenge.',\n",
       " 'Restore labour unions to level of pay eroded by rising prices – Chief Economist at TUC.',\n",
       " 'The Nigerian student who barbs autistic children’s hair.',\n",
       " 'Social media users react to ‘Inconvenience Allowance’ for executives of SOEs.',\n",
       " 'Foreign Affairs Ministry and LECIAD to hold lecture on Ghana’s tenure at UNSC.',\n",
       " 'I wish I had a wife like you – Shatta Wale tells Serwaa Amihere.',\n",
       " 'Mass burials planned for Nigeria oil blast victims.',\n",
       " 'NPP affirms April 28 as date for constituency elections despite Eid-Ul-Fitr and May Day holidays.',\n",
       " 'KNUST students who claim to be addicted to betting need therapy – Ablakwa.',\n",
       " 'Interior Ministry declares May 3 as public holiday to mark Eid-ul-Fitr.',\n",
       " 'Sarah Norkor Anku to launch her book ‘Monetising your creativity and innovation’.',\n",
       " 'I don’t think Efia Odo’s outfit stole the show at my album listening – Kwesi Arthur.',\n",
       " 'Samson Deen visits athletes and officials in Birmingham.',\n",
       " 'Government will not unnecessarily compromise Atewa forest – Lands Minister assures.',\n",
       " 'I was kicked and spat on during my detention – Barker-Vormawor.',\n",
       " 'Government declares May 2 as public holiday.',\n",
       " 'Akosombo Textiles holds Southern Sector Distributor Awards .',\n",
       " 'I won’t hesitate to run you up if you mess with our girl – Omotola tells Rita Dominic’s husband.',\n",
       " 'Ghana’s primary balance to return to surplus from 2025 onwards – IMF.',\n",
       " 'Sarkodie, Stonebwoy and Kwabena Kwabena wow fans at Accra in Paris show.',\n",
       " 'Akufo-Addo commiserates with Kenya over death of ex-President Mwai Kibaki.',\n",
       " 'Mahama worships with Archbishop Charles Agyinasare at Perez Chapel.',\n",
       " 'Keta MP calls for review of LI on export of soya bean.',\n",
       " 'Vodafone saves boy who couldn’t pass stool since birth.',\n",
       " 'IMF forecasts Ghana’s debt-to-GDP ratio of 84.',\n",
       " 'Thomas Tuchel confirms Antonio Rudiger has decided to leave Chelsea.',\n",
       " 'The future of the French people is secure in your hands – Akufo-Addo congratulates Macron on re-election.',\n",
       " 'Planting for Food and Jobs is a failure – Keta MP.',\n",
       " 'Women’s DOL: Ridge City forced to play 27 minutes in their last two games; unhappy with recent happenings.',\n",
       " 'Asenso-Boakye inducts David Adjaye as registered member of ARC.',\n",
       " 'Exchange Rates.',\n",
       " 'USD - United States dollar $.',\n",
       " 'GHS - Ghanaian cedi ₵.',\n",
       " 'NGN - Nigerian naira ₦.',\n",
       " 'ZAR - South African rand R.',\n",
       " 'CAD - Canadian dollar $.',\n",
       " 'EUR - Euro €.',\n",
       " 'GBP - British pound £.',\n",
       " 'JPY - Japanese yen ¥.',\n",
       " 'CNY - Chinese yuan ¥.',\n",
       " 'April 26, 2022.',\n",
       " 'MOST POPULAR NEWS.',\n",
       " 'Details of how an apprentice allegedly killed a KNUST student.',\n",
       " 'Ghana cannot access IMF’s $50bn Trust Fund.',\n",
       " 'Government slashes benefits of SOE CEOs by 30%.',\n",
       " 'Opera Square building on fire.',\n",
       " 'If elections are held today, NPP will get 145 seats in Parliament” – Director of Research at Presidency.',\n",
       " 'NPP knows it is currently unpopular – Nana Akomea.',\n",
       " 'Neutrality allowance should be extended to all public sector workers – TUC.',\n",
       " 'I don’t think Efia Odo’s outfit stole the show at my album listening – Kwesi Arthur.',\n",
       " 'I wish I had a wife like you – Shatta Wale tells Serwaa Amihere.',\n",
       " 'NPP Chairman, 2 others arrested for stealing metals for bridge maintenance granted bail.',\n",
       " 'LATEST STORIES.',\n",
       " 'Were any of Brazil’s goals against Ghana in the 2006 World Cup really offside?',\n",
       " 'YouTube suspends Diamond Platnumz account.',\n",
       " 'Viola Davis shares survival technique she used to escape abusive situations.',\n",
       " 'Court remands suspect in murder of KNUST student into police custody.',\n",
       " 'New footage from ‘Rust’ investigation shows Alec Baldwin moments after fatal shooting.',\n",
       " 'Livestream: Ghana Health Service provides updates on Covid-19.',\n",
       " 'Being loud on social media is how I earn money – Akuapem Poloo.',\n",
       " 'Howard Stern slams ‘huge narcissist’ Johnny Depp, says he’s ‘overacting’ in Amber Heard trial.',\n",
       " 'Let’s private sector manage ‘YouStart’ Programme-Joe Jackson.',\n",
       " 'Users react to Twitter takeover by Elon Musk.',\n",
       " 'About Us.',\n",
       " 'The Multimedia Group.',\n",
       " 'Advertise With Us.',\n",
       " 'Contact Us.',\n",
       " 'Terms of Use.',\n",
       " 'Privacy Policy.',\n",
       " 'Radio.',\n",
       " 'Joy 99.',\n",
       " 'FM.',\n",
       " 'Adom 106.',\n",
       " 'FM.',\n",
       " 'Hitz 103.',\n",
       " 'FM.',\n",
       " 'Asempa 94.',\n",
       " 'FM.',\n",
       " 'Luv 99.',\n",
       " 'FM.',\n",
       " 'Nhyira 104.',\n",
       " 'FM.',\n",
       " 'TV.',\n",
       " 'Joy News.',\n",
       " 'Adom TV.',\n",
       " 'Joy Prime.',\n",
       " 'MultiTVWorld.',\n",
       " 'Adom TV (Audio).',\n",
       " 'Joy News (Audio).',\n",
       " 'Social.',\n",
       " 'YouTube.',\n",
       " 'Facebook.',\n",
       " 'Twitter.',\n",
       " 'Instagram.',\n",
       " 'LinkedIn.',\n",
       " 'Infographics.',\n",
       " 'More.',\n",
       " 'Elections.',\n",
       " 'Habitat Fair.',\n",
       " 'Google Podcast  TuneIn  iTunes Spotify.',\n",
       " 'Copyright: MyjoyOnline.']"
      ]
     },
     "execution_count": 98,
     "metadata": {},
     "output_type": "execute_result"
    }
   ],
   "source": [
    "new_list"
   ]
  },
  {
   "cell_type": "code",
   "execution_count": 99,
   "id": "acceb555-0c6d-429c-97a6-a53fe20a6108",
   "metadata": {},
   "outputs": [
    {
     "name": "stdout",
     "output_type": "stream",
     "text": [
      "['Details of how an apprentice allegedly killed a KNUST student.', 'Court remands suspect in murder of KNUST student into police custody.', 'Takoradi court denies bail to 15 arrested over chaos at Esiama police headquarters.', 'Bliss GVS Pharma Ghana commemorates World Malaria Day 2022.', 'Details of how an apprentice allegedly killed a KNUST student.', 'Court remands suspect in murder of KNUST student into police custody.']\n"
     ]
    }
   ],
   "source": [
    "matches = []\n",
    "#('arm','weapon', 'shot', 'police', 'military', 'drugs', 'suspect')\n",
    "for match in new_list:\n",
    "    if \"arm\" in match:\n",
    "        matches.append(match)\n",
    "    if \"weapon\" in match:\n",
    "        matches.append(match)\n",
    "    if \"shot\" in match:\n",
    "        matches.append(match)\n",
    "    if \"police\" in match:\n",
    "        matches.append(match)\n",
    "    if \"military\" in match:\n",
    "        matches.append(match)\n",
    "    if \"drugs\" in match:\n",
    "        matches.append(match)\n",
    "    if \"suspects\" in match:\n",
    "        matches.append(match)\n",
    "    if \"Arm\" in match:\n",
    "        matches.append(match)\n",
    "    if \"Weapon\" in match:\n",
    "        matches.append(match)\n",
    "    if \"Shot\" in match:\n",
    "        matches.append(match)\n",
    "    if \"Police\" in match:\n",
    "        matches.append(match)\n",
    "    if \"Military\" in match:\n",
    "        matches.append(match)\n",
    "    if \"Drugs\" in match:\n",
    "        matches.append(match)\n",
    "    if \"Suspects\" in match:\n",
    "        matches.append(match)\n",
    "    if \"kill\" in match:\n",
    "        matches.append(match)\n",
    "print(matches)"
   ]
  },
  {
   "cell_type": "code",
   "execution_count": 100,
   "id": "b05805ee-c09e-45d4-887b-c6f9df979092",
   "metadata": {},
   "outputs": [
    {
     "data": {
      "text/plain": [
       "list"
      ]
     },
     "execution_count": 100,
     "metadata": {},
     "output_type": "execute_result"
    }
   ],
   "source": [
    "type(matches)"
   ]
  },
  {
   "cell_type": "code",
   "execution_count": 101,
   "id": "ed0000b0-ef1e-49c1-b471-f92522431697",
   "metadata": {},
   "outputs": [],
   "source": [
    "new_l = [s.replace(\".\", \"\") for s in matches]"
   ]
  },
  {
   "cell_type": "code",
   "execution_count": 102,
   "id": "0b565635-b7b3-4d78-b7ef-9eed14ee0fb5",
   "metadata": {},
   "outputs": [],
   "source": [
    "new_li = [s.replace(\"-\", \"\") for s in new_l]"
   ]
  },
  {
   "cell_type": "code",
   "execution_count": 103,
   "id": "c60d0ff5-ac2f-4902-9d72-4754a98bf77a",
   "metadata": {},
   "outputs": [],
   "source": [
    "new_lis = [s.replace(\"?\", \"\") for s in new_li]"
   ]
  },
  {
   "cell_type": "code",
   "execution_count": 104,
   "id": "8ef27b1a-c5d6-4e3f-83f9-ab5ca1f461d2",
   "metadata": {},
   "outputs": [],
   "source": [
    "new_list = [s.replace(\":\", \"\") for s in new_lis]\n"
   ]
  },
  {
   "cell_type": "code",
   "execution_count": 105,
   "id": "42c231db-aa32-48d2-b8e9-069969720898",
   "metadata": {},
   "outputs": [],
   "source": [
    "new_lists = [s.replace(\";\", \"\") for s in new_list]"
   ]
  },
  {
   "cell_type": "code",
   "execution_count": 106,
   "id": "696e0000-4fec-4ce9-8266-eb08614f8c6e",
   "metadata": {},
   "outputs": [
    {
     "data": {
      "text/plain": [
       "6"
      ]
     },
     "execution_count": 106,
     "metadata": {},
     "output_type": "execute_result"
    }
   ],
   "source": [
    "len(new_lists)"
   ]
  },
  {
   "cell_type": "code",
   "execution_count": 107,
   "id": "7268bd58-b6cb-448e-a966-dbb729fbc16e",
   "metadata": {},
   "outputs": [
    {
     "data": {
      "text/plain": [
       "['Details of how an apprentice allegedly killed a KNUST student',\n",
       " 'Court remands suspect in murder of KNUST student into police custody',\n",
       " 'Takoradi court denies bail to 15 arrested over chaos at Esiama police headquarters',\n",
       " 'Bliss GVS Pharma Ghana commemorates World Malaria Day 2022',\n",
       " 'Details of how an apprentice allegedly killed a KNUST student',\n",
       " 'Court remands suspect in murder of KNUST student into police custody']"
      ]
     },
     "execution_count": 107,
     "metadata": {},
     "output_type": "execute_result"
    }
   ],
   "source": [
    "new_lists"
   ]
  },
  {
   "cell_type": "code",
   "execution_count": 108,
   "id": "6c15d252-9efd-4850-8072-83a3215229c6",
   "metadata": {},
   "outputs": [],
   "source": [
    "#search = new_lists[0]"
   ]
  },
  {
   "cell_type": "code",
   "execution_count": 109,
   "id": "3840d5d1-5f4c-41aa-9c36-788acce7bbf2",
   "metadata": {},
   "outputs": [
    {
     "name": "stderr",
     "output_type": "stream",
     "text": [
      "C:\\Users\\hp\\AppData\\Local\\Temp/ipykernel_7804/1046031527.py:1: DeprecationWarning: find_element_by_xpath is deprecated. Please use find_element(by=By.XPATH, value=xpath) instead\n",
      "  driver.find_element_by_xpath(\"(//a)[26]\").click()\n"
     ]
    }
   ],
   "source": [
    "driver.find_element_by_xpath(\"(//a)[26]\").click()\n",
    "#maximize window\n",
    "sleep(5)"
   ]
  },
  {
   "cell_type": "markdown",
   "id": "0bf6234a-c736-47b8-b1ca-b2ffd7df34d9",
   "metadata": {},
   "source": [
    "# Searching "
   ]
  },
  {
   "cell_type": "markdown",
   "id": "77aa80d3-09a0-4a61-a445-02adec3d41d1",
   "metadata": {
    "tags": []
   },
   "source": [
    "##### First item"
   ]
  },
  {
   "cell_type": "code",
   "execution_count": 110,
   "id": "33a3dce5-e014-44bb-b185-372df5d0a2c1",
   "metadata": {},
   "outputs": [
    {
     "name": "stderr",
     "output_type": "stream",
     "text": [
      "C:\\Users\\hp\\AppData\\Local\\Temp/ipykernel_7804/196549463.py:1: DeprecationWarning: find_element_by_xpath is deprecated. Please use find_element(by=By.XPATH, value=xpath) instead\n",
      "  element = driver.find_element_by_xpath(\"(//input[@id='s'])[2]\").send_keys(new_lists[0])\n"
     ]
    }
   ],
   "source": [
    "\n",
    "element = driver.find_element_by_xpath(\"(//input[@id='s'])[2]\").send_keys(new_lists[0])\n"
   ]
  },
  {
   "cell_type": "code",
   "execution_count": 115,
   "id": "90f6282a-0d9e-4018-930f-e6f4dd626103",
   "metadata": {},
   "outputs": [
    {
     "data": {
      "text/plain": [
       "'Details of how an apprentice allegedly killed a KNUST student'"
      ]
     },
     "execution_count": 115,
     "metadata": {},
     "output_type": "execute_result"
    }
   ],
   "source": [
    "new_lists[0]"
   ]
  },
  {
   "cell_type": "code",
   "execution_count": 111,
   "id": "e7932155-4fa7-4c2b-8bce-9505d32cc988",
   "metadata": {},
   "outputs": [
    {
     "data": {
      "text/plain": [
       "NoneType"
      ]
     },
     "execution_count": 111,
     "metadata": {},
     "output_type": "execute_result"
    }
   ],
   "source": [
    "type(element)"
   ]
  },
  {
   "cell_type": "code",
   "execution_count": 112,
   "id": "069882e9-1737-416b-9943-08efb985aa8f",
   "metadata": {},
   "outputs": [
    {
     "name": "stderr",
     "output_type": "stream",
     "text": [
      "C:\\Users\\hp\\AppData\\Local\\Temp/ipykernel_7804/3295126033.py:2: DeprecationWarning: find_element_by_xpath is deprecated. Please use find_element(by=By.XPATH, value=xpath) instead\n",
      "  driver.find_element_by_xpath(\"(//input[@id='s'])[2]\").send_keys(Keys.ENTER) #sendKeys(Keys.ENTER)\n"
     ]
    }
   ],
   "source": [
    "try:\n",
    "    driver.find_element_by_xpath(\"(//input[@id='s'])[2]\").send_keys(Keys.ENTER) #sendKeys(Keys.ENTER)\n",
    "    time.sleep(5)\n",
    "except Exception:\n",
    "    pass"
   ]
  },
  {
   "cell_type": "code",
   "execution_count": 113,
   "id": "6143b5b7-d61d-42c1-b8e2-44df7b218940",
   "metadata": {},
   "outputs": [
    {
     "name": "stderr",
     "output_type": "stream",
     "text": [
      "C:\\Users\\hp\\AppData\\Local\\Temp/ipykernel_7804/170058545.py:2: DeprecationWarning: find_element_by_xpath is deprecated. Please use find_element(by=By.XPATH, value=xpath) instead\n",
      "  driver.find_element_by_xpath(\"(//div)[47]\").click()\n"
     ]
    }
   ],
   "source": [
    "try:\n",
    "    driver.find_element_by_xpath(\"(//div)[47]\").click()\n",
    "    time.sleep(30)\n",
    "except Exception:\n",
    "    pass"
   ]
  },
  {
   "cell_type": "code",
   "execution_count": 114,
   "id": "baa2b5a8-7f98-4dfe-a116-43e4909a6bfb",
   "metadata": {},
   "outputs": [
    {
     "name": "stderr",
     "output_type": "stream",
     "text": [
      "C:\\Users\\hp\\AppData\\Local\\Temp/ipykernel_7804/1926060683.py:1: DeprecationWarning: find_element_by_xpath is deprecated. Please use find_element(by=By.XPATH, value=xpath) instead\n",
      "  driver.find_element_by_xpath(\"(//div[@id='sbwrap'])[1]\").text\n"
     ]
    },
    {
     "ename": "NoSuchElementException",
     "evalue": "Message: no such element: Unable to locate element: {\"method\":\"xpath\",\"selector\":\"(//div[@id='sbwrap'])[1]\"}\n  (Session info: chrome=100.0.4896.127)\nStacktrace:\nBacktrace:\n\tOrdinal0 [0x002C7413+2389011]\n\tOrdinal0 [0x00259F61+1941345]\n\tOrdinal0 [0x0014C658+837208]\n\tOrdinal0 [0x001791DD+1020381]\n\tOrdinal0 [0x0017949B+1021083]\n\tOrdinal0 [0x001A6032+1204274]\n\tOrdinal0 [0x00194194+1130900]\n\tOrdinal0 [0x001A4302+1196802]\n\tOrdinal0 [0x00193F66+1130342]\n\tOrdinal0 [0x0016E546+976198]\n\tOrdinal0 [0x0016F456+980054]\n\tGetHandleVerifier [0x00479632+1727522]\n\tGetHandleVerifier [0x0052BA4D+2457661]\n\tGetHandleVerifier [0x0035EB81+569713]\n\tGetHandleVerifier [0x0035DD76+566118]\n\tOrdinal0 [0x00260B2B+1968939]\n\tOrdinal0 [0x00265988+1989000]\n\tOrdinal0 [0x00265A75+1989237]\n\tOrdinal0 [0x0026ECB1+2026673]\n\tBaseThreadInitThunk [0x76A46739+25]\n\tRtlGetFullPathName_UEx [0x770B8E7F+1215]\n\tRtlGetFullPathName_UEx [0x770B8E4D+1165]\n\t(No symbol) [0x00000000]\n",
     "output_type": "error",
     "traceback": [
      "\u001b[1;31m---------------------------------------------------------------------------\u001b[0m",
      "\u001b[1;31mNoSuchElementException\u001b[0m                    Traceback (most recent call last)",
      "\u001b[1;32m~\\AppData\\Local\\Temp/ipykernel_7804/1926060683.py\u001b[0m in \u001b[0;36m<module>\u001b[1;34m\u001b[0m\n\u001b[1;32m----> 1\u001b[1;33m \u001b[0mdriver\u001b[0m\u001b[1;33m.\u001b[0m\u001b[0mfind_element_by_xpath\u001b[0m\u001b[1;33m(\u001b[0m\u001b[1;34m\"(//div[@id='sbwrap'])[1]\"\u001b[0m\u001b[1;33m)\u001b[0m\u001b[1;33m.\u001b[0m\u001b[0mtext\u001b[0m\u001b[1;33m\u001b[0m\u001b[1;33m\u001b[0m\u001b[0m\n\u001b[0m\u001b[0;32m      2\u001b[0m \u001b[1;31m#(//div[@id='sbwrap'])[1]\u001b[0m\u001b[1;33m\u001b[0m\u001b[1;33m\u001b[0m\u001b[0m\n",
      "\u001b[1;32m~\\anaconda3\\lib\\site-packages\\selenium\\webdriver\\remote\\webdriver.py\u001b[0m in \u001b[0;36mfind_element_by_xpath\u001b[1;34m(self, xpath)\u001b[0m\n\u001b[0;32m    519\u001b[0m             \u001b[0mstacklevel\u001b[0m\u001b[1;33m=\u001b[0m\u001b[1;36m2\u001b[0m\u001b[1;33m,\u001b[0m\u001b[1;33m\u001b[0m\u001b[1;33m\u001b[0m\u001b[0m\n\u001b[0;32m    520\u001b[0m         )\n\u001b[1;32m--> 521\u001b[1;33m         \u001b[1;32mreturn\u001b[0m \u001b[0mself\u001b[0m\u001b[1;33m.\u001b[0m\u001b[0mfind_element\u001b[0m\u001b[1;33m(\u001b[0m\u001b[0mby\u001b[0m\u001b[1;33m=\u001b[0m\u001b[0mBy\u001b[0m\u001b[1;33m.\u001b[0m\u001b[0mXPATH\u001b[0m\u001b[1;33m,\u001b[0m \u001b[0mvalue\u001b[0m\u001b[1;33m=\u001b[0m\u001b[0mxpath\u001b[0m\u001b[1;33m)\u001b[0m\u001b[1;33m\u001b[0m\u001b[1;33m\u001b[0m\u001b[0m\n\u001b[0m\u001b[0;32m    522\u001b[0m \u001b[1;33m\u001b[0m\u001b[0m\n\u001b[0;32m    523\u001b[0m     \u001b[1;32mdef\u001b[0m \u001b[0mfind_elements_by_xpath\u001b[0m\u001b[1;33m(\u001b[0m\u001b[0mself\u001b[0m\u001b[1;33m,\u001b[0m \u001b[0mxpath\u001b[0m\u001b[1;33m)\u001b[0m \u001b[1;33m->\u001b[0m \u001b[0mList\u001b[0m\u001b[1;33m[\u001b[0m\u001b[0mWebElement\u001b[0m\u001b[1;33m]\u001b[0m\u001b[1;33m:\u001b[0m\u001b[1;33m\u001b[0m\u001b[1;33m\u001b[0m\u001b[0m\n",
      "\u001b[1;32m~\\anaconda3\\lib\\site-packages\\selenium\\webdriver\\remote\\webdriver.py\u001b[0m in \u001b[0;36mfind_element\u001b[1;34m(self, by, value)\u001b[0m\n\u001b[0;32m   1246\u001b[0m             \u001b[0mvalue\u001b[0m \u001b[1;33m=\u001b[0m \u001b[1;34m'[name=\"%s\"]'\u001b[0m \u001b[1;33m%\u001b[0m \u001b[0mvalue\u001b[0m\u001b[1;33m\u001b[0m\u001b[1;33m\u001b[0m\u001b[0m\n\u001b[0;32m   1247\u001b[0m \u001b[1;33m\u001b[0m\u001b[0m\n\u001b[1;32m-> 1248\u001b[1;33m         return self.execute(Command.FIND_ELEMENT, {\n\u001b[0m\u001b[0;32m   1249\u001b[0m             \u001b[1;34m'using'\u001b[0m\u001b[1;33m:\u001b[0m \u001b[0mby\u001b[0m\u001b[1;33m,\u001b[0m\u001b[1;33m\u001b[0m\u001b[1;33m\u001b[0m\u001b[0m\n\u001b[0;32m   1250\u001b[0m             'value': value})['value']\n",
      "\u001b[1;32m~\\anaconda3\\lib\\site-packages\\selenium\\webdriver\\remote\\webdriver.py\u001b[0m in \u001b[0;36mexecute\u001b[1;34m(self, driver_command, params)\u001b[0m\n\u001b[0;32m    423\u001b[0m         \u001b[0mresponse\u001b[0m \u001b[1;33m=\u001b[0m \u001b[0mself\u001b[0m\u001b[1;33m.\u001b[0m\u001b[0mcommand_executor\u001b[0m\u001b[1;33m.\u001b[0m\u001b[0mexecute\u001b[0m\u001b[1;33m(\u001b[0m\u001b[0mdriver_command\u001b[0m\u001b[1;33m,\u001b[0m \u001b[0mparams\u001b[0m\u001b[1;33m)\u001b[0m\u001b[1;33m\u001b[0m\u001b[1;33m\u001b[0m\u001b[0m\n\u001b[0;32m    424\u001b[0m         \u001b[1;32mif\u001b[0m \u001b[0mresponse\u001b[0m\u001b[1;33m:\u001b[0m\u001b[1;33m\u001b[0m\u001b[1;33m\u001b[0m\u001b[0m\n\u001b[1;32m--> 425\u001b[1;33m             \u001b[0mself\u001b[0m\u001b[1;33m.\u001b[0m\u001b[0merror_handler\u001b[0m\u001b[1;33m.\u001b[0m\u001b[0mcheck_response\u001b[0m\u001b[1;33m(\u001b[0m\u001b[0mresponse\u001b[0m\u001b[1;33m)\u001b[0m\u001b[1;33m\u001b[0m\u001b[1;33m\u001b[0m\u001b[0m\n\u001b[0m\u001b[0;32m    426\u001b[0m             response['value'] = self._unwrap_value(\n\u001b[0;32m    427\u001b[0m                 response.get('value', None))\n",
      "\u001b[1;32m~\\anaconda3\\lib\\site-packages\\selenium\\webdriver\\remote\\errorhandler.py\u001b[0m in \u001b[0;36mcheck_response\u001b[1;34m(self, response)\u001b[0m\n\u001b[0;32m    245\u001b[0m                 \u001b[0malert_text\u001b[0m \u001b[1;33m=\u001b[0m \u001b[0mvalue\u001b[0m\u001b[1;33m[\u001b[0m\u001b[1;34m'alert'\u001b[0m\u001b[1;33m]\u001b[0m\u001b[1;33m.\u001b[0m\u001b[0mget\u001b[0m\u001b[1;33m(\u001b[0m\u001b[1;34m'text'\u001b[0m\u001b[1;33m)\u001b[0m\u001b[1;33m\u001b[0m\u001b[1;33m\u001b[0m\u001b[0m\n\u001b[0;32m    246\u001b[0m             \u001b[1;32mraise\u001b[0m \u001b[0mexception_class\u001b[0m\u001b[1;33m(\u001b[0m\u001b[0mmessage\u001b[0m\u001b[1;33m,\u001b[0m \u001b[0mscreen\u001b[0m\u001b[1;33m,\u001b[0m \u001b[0mstacktrace\u001b[0m\u001b[1;33m,\u001b[0m \u001b[0malert_text\u001b[0m\u001b[1;33m)\u001b[0m  \u001b[1;31m# type: ignore[call-arg]  # mypy is not smart enough here\u001b[0m\u001b[1;33m\u001b[0m\u001b[1;33m\u001b[0m\u001b[0m\n\u001b[1;32m--> 247\u001b[1;33m         \u001b[1;32mraise\u001b[0m \u001b[0mexception_class\u001b[0m\u001b[1;33m(\u001b[0m\u001b[0mmessage\u001b[0m\u001b[1;33m,\u001b[0m \u001b[0mscreen\u001b[0m\u001b[1;33m,\u001b[0m \u001b[0mstacktrace\u001b[0m\u001b[1;33m)\u001b[0m\u001b[1;33m\u001b[0m\u001b[1;33m\u001b[0m\u001b[0m\n\u001b[0m\u001b[0;32m    248\u001b[0m \u001b[1;33m\u001b[0m\u001b[0m\n\u001b[0;32m    249\u001b[0m     \u001b[1;32mdef\u001b[0m \u001b[0m_value_or_default\u001b[0m\u001b[1;33m(\u001b[0m\u001b[0mself\u001b[0m\u001b[1;33m,\u001b[0m \u001b[0mobj\u001b[0m\u001b[1;33m:\u001b[0m \u001b[0mMapping\u001b[0m\u001b[1;33m[\u001b[0m\u001b[0m_KT\u001b[0m\u001b[1;33m,\u001b[0m \u001b[0m_VT\u001b[0m\u001b[1;33m]\u001b[0m\u001b[1;33m,\u001b[0m \u001b[0mkey\u001b[0m\u001b[1;33m:\u001b[0m \u001b[0m_KT\u001b[0m\u001b[1;33m,\u001b[0m \u001b[0mdefault\u001b[0m\u001b[1;33m:\u001b[0m \u001b[0m_VT\u001b[0m\u001b[1;33m)\u001b[0m \u001b[1;33m->\u001b[0m \u001b[0m_VT\u001b[0m\u001b[1;33m:\u001b[0m\u001b[1;33m\u001b[0m\u001b[1;33m\u001b[0m\u001b[0m\n",
      "\u001b[1;31mNoSuchElementException\u001b[0m: Message: no such element: Unable to locate element: {\"method\":\"xpath\",\"selector\":\"(//div[@id='sbwrap'])[1]\"}\n  (Session info: chrome=100.0.4896.127)\nStacktrace:\nBacktrace:\n\tOrdinal0 [0x002C7413+2389011]\n\tOrdinal0 [0x00259F61+1941345]\n\tOrdinal0 [0x0014C658+837208]\n\tOrdinal0 [0x001791DD+1020381]\n\tOrdinal0 [0x0017949B+1021083]\n\tOrdinal0 [0x001A6032+1204274]\n\tOrdinal0 [0x00194194+1130900]\n\tOrdinal0 [0x001A4302+1196802]\n\tOrdinal0 [0x00193F66+1130342]\n\tOrdinal0 [0x0016E546+976198]\n\tOrdinal0 [0x0016F456+980054]\n\tGetHandleVerifier [0x00479632+1727522]\n\tGetHandleVerifier [0x0052BA4D+2457661]\n\tGetHandleVerifier [0x0035EB81+569713]\n\tGetHandleVerifier [0x0035DD76+566118]\n\tOrdinal0 [0x00260B2B+1968939]\n\tOrdinal0 [0x00265988+1989000]\n\tOrdinal0 [0x00265A75+1989237]\n\tOrdinal0 [0x0026ECB1+2026673]\n\tBaseThreadInitThunk [0x76A46739+25]\n\tRtlGetFullPathName_UEx [0x770B8E7F+1215]\n\tRtlGetFullPathName_UEx [0x770B8E4D+1165]\n\t(No symbol) [0x00000000]\n"
     ]
    }
   ],
   "source": [
    "driver.find_element_by_xpath(\"(//div[@id='sbwrap'])[1]\").text\n",
    "#(//div[@id='sbwrap'])[1]"
   ]
  },
  {
   "cell_type": "code",
   "execution_count": null,
   "id": "e5fa476b-e6c0-458b-a883-26597fd963b1",
   "metadata": {},
   "outputs": [],
   "source": [
    "text1 + driver.find_element_by_xpath(\"(//div[@id='sbwrap'])[1]\").text"
   ]
  },
  {
   "cell_type": "code",
   "execution_count": null,
   "id": "6e67e075-e685-4c67-b4bd-41d1a400c1e1",
   "metadata": {},
   "outputs": [],
   "source": [
    "first = driver.current_url"
   ]
  },
  {
   "cell_type": "code",
   "execution_count": null,
   "id": "4f14fa10-2886-4b88-b981-c338d19e16e4",
   "metadata": {},
   "outputs": [],
   "source": [
    "expression = re.compile(r'([A-Z][^\\.!?]*[\\.!?])')\n",
    "list1 = re.findall(expression, text1)\n"
   ]
  },
  {
   "cell_type": "code",
   "execution_count": null,
   "id": "0b621320-d029-49e5-b29e-78ca928fb01c",
   "metadata": {},
   "outputs": [],
   "source": [
    "matches1 = []\n",
    "#('arm','weapon', 'shot', 'police', 'military', 'drugs', 'suspect')\n",
    "for match in list1:\n",
    "    if \"arm\" in match:\n",
    "        matches1.append(match)\n",
    "    if \"weapon\" in match:\n",
    "        matches1.append(match)\n",
    "    if \"shot\" in match:\n",
    "        matches1.append(match)\n",
    "    if \"police\" in match:\n",
    "        matches1.append(match)\n",
    "    if \"military\" in match:\n",
    "        matches1.append(match)\n",
    "    if \"drmatches1ugs\" in match:\n",
    "        matches1.append(match)\n",
    "    if \"suspects\" in match:\n",
    "        matches1.append(match)\n",
    "    if \"Arm\" in match:\n",
    "        matches1.append(match)\n",
    "    if \"Weapon\" in match:\n",
    "        matches1.append(match)\n",
    "    if \"Shot\" in match:\n",
    "        matches1.append(match)\n",
    "    if \"Police\" in match:\n",
    "        matches1.append(match)\n",
    "    if \"Military\" in match:\n",
    "        matches1.append(match)\n",
    "    if \"Drugs\" in match:\n",
    "        matches1.append(match)\n",
    "    if \"Suspects\" in match:\n",
    "        matches1.append(match)\n",
    "    if \"kill\" in match:\n",
    "        matches1.append(match)\n",
    "print(matches1)"
   ]
  },
  {
   "cell_type": "markdown",
   "id": "ce758ed3-497f-411b-9ec5-fccebc3b6a41",
   "metadata": {},
   "source": [
    "# Search 2"
   ]
  },
  {
   "cell_type": "code",
   "execution_count": null,
   "id": "82e4cce3-ef3a-404c-be1e-a6bebe7a4e35",
   "metadata": {},
   "outputs": [],
   "source": [
    "try:\n",
    "    try:\n",
    "        driver.get(\"https://www.myjoyonline.com/\")\n",
    "        time.sleep(30)\n",
    "    except Exception:\n",
    "        pass\n",
    "    driver.find_element_by_xpath(\"(//a)[26]\").click()\n",
    "    element = driver.find_element_by_xpath(\"(//input[@id='s'])[3]\").send_keys(new_lists[1])\n",
    "    try:\n",
    "        driver.find_element_by_xpath(\"(//input[@id='s'])[2]\").send_keys(Keys.ENTER) #sendKeys(Keys.ENTER)\n",
    "        time.sleep(15)\n",
    "    except Exception:\n",
    "        pass        \n",
    "    try:\n",
    "        driver.find_element_by_xpath(\"(//div)[47]\").click()\n",
    "        time.sleep(30)\n",
    "    except Exception:\n",
    "        pass\n",
    "    driver.find_element_by_xpath(\"(//div[@id='sbwrap'])[1]\").text\n",
    "except Exception:\n",
    "    pass"
   ]
  },
  {
   "cell_type": "code",
   "execution_count": null,
   "id": "13fa1560-c25f-4d78-b656-147154f2f4c4",
   "metadata": {},
   "outputs": [],
   "source": [
    "second = driver.current_url"
   ]
  },
  {
   "cell_type": "code",
   "execution_count": null,
   "id": "5bb86ca5-8d07-43a3-8d7e-0db323345263",
   "metadata": {},
   "outputs": [],
   "source": [
    "text2 = driver.find_element_by_xpath(\"(//div[@id='sbwrap'])[1]\").text\n",
    "expression = re.compile(r'([A-Z][^\\.!?]*[\\.!?])')\n",
    "list2 = re.findall(expression, text2)\n"
   ]
  },
  {
   "cell_type": "code",
   "execution_count": null,
   "id": "7bd3f94a-4a85-4cdf-99b8-31a4b494339b",
   "metadata": {},
   "outputs": [],
   "source": [
    "matches2 = []\n",
    "#('arm','weapon', 'shot', 'police', 'military', 'drugs', 'suspect')\n",
    "for match in list2:\n",
    "    if \"arm\" in match:\n",
    "        matches2.append(match)\n",
    "    if \"weapon\" in match:\n",
    "        matches2.append(match)\n",
    "    if \"shot\" in match:\n",
    "        matches2.append(match)\n",
    "    if \"police\" in match:\n",
    "        matches2.append(match)\n",
    "    if \"military\" in match:\n",
    "        matches2.append(match)\n",
    "    if \"drmatches1ugs\" in match:\n",
    "        matches2.append(match)\n",
    "    if \"suspects\" in match:\n",
    "        matches2.append(match)\n",
    "    if \"Arm\" in match:\n",
    "        matches2.append(match)\n",
    "    if \"Weapon\" in match:\n",
    "        matches2.append(match)\n",
    "    if \"Shot\" in match:\n",
    "        matches2.append(match)\n",
    "    if \"Police\" in match:\n",
    "        matches2.append(match)\n",
    "    if \"Military\" in match:\n",
    "        matches2.append(match)\n",
    "    if \"Drugs\" in match:\n",
    "        matches2.append(match)\n",
    "    if \"Suspects\" in match:\n",
    "        matches2.append(match)\n",
    "    if \"kill\" in match:\n",
    "        matches2.append(match)\n",
    "print(matches2)"
   ]
  },
  {
   "cell_type": "markdown",
   "id": "b08d9a32-a46e-4ef4-afa8-8f9d2334115d",
   "metadata": {},
   "source": [
    "# 3"
   ]
  },
  {
   "cell_type": "code",
   "execution_count": null,
   "id": "6446aa19-bf98-4eb3-89a7-fd14e5aadaf6",
   "metadata": {},
   "outputs": [],
   "source": [
    "try:\n",
    "    try:\n",
    "        driver.get(\"https://www.myjoyonline.com/\")\n",
    "        time.sleep(30)\n",
    "    except Exception:\n",
    "        pass\n",
    "    driver.find_element_by_xpath(\"(//a)[26]\").click()\n",
    "    element = driver.find_element_by_xpath(\"(//input[@id='s'])[2]\").send_keys(new_lists[2])\n",
    "    try:\n",
    "        driver.find_element_by_xpath(\"(//input[@id='s'])[2]\").send_keys(Keys.ENTER) #sendKeys(Keys.ENTER)\n",
    "        time.sleep(15)\n",
    "    except Exception:\n",
    "        pass        \n",
    "    try:\n",
    "        driver.find_element_by_xpath(\"(//div)[47]\").click()\n",
    "        time.sleep(30)\n",
    "    except Exception:\n",
    "        pass\n",
    "    driver.find_element_by_xpath(\"(//div[@id='sbwrap'])[1]\").text\n",
    "except Exception:\n",
    "    pass"
   ]
  },
  {
   "cell_type": "code",
   "execution_count": null,
   "id": "9b0a21af-c1c4-43bf-a8d0-3c0a1646a1b0",
   "metadata": {},
   "outputs": [],
   "source": [
    "third = driver.current_url"
   ]
  },
  {
   "cell_type": "code",
   "execution_count": null,
   "id": "71b8102e-89ec-4a7d-ace2-ea25caa39b62",
   "metadata": {},
   "outputs": [],
   "source": [
    "text3 = driver.find_element_by_xpath(\"(//div[@id='sbwrap'])[1]\").text\n",
    "expression = re.compile(r'([A-Z][^\\.!?]*[\\.!?])')\n",
    "list3 = re.findall(expression, text3)\n"
   ]
  },
  {
   "cell_type": "code",
   "execution_count": null,
   "id": "7073d2ee-9b93-4ac2-90d8-8874fb4ebcce",
   "metadata": {},
   "outputs": [],
   "source": [
    "matches3 = []\n",
    "#('arm','weapon', 'shot', 'police', 'military', 'drugs', 'suspect')\n",
    "for match in list3:\n",
    "    if \"arm\" in match:\n",
    "        matches3.append(match)\n",
    "    if \"weapon\" in match:\n",
    "        matches3.append(match)\n",
    "    if \"shot\" in match:\n",
    "        matches3.append(match)\n",
    "    if \"police\" in match:\n",
    "        matches3.append(match)\n",
    "    if \"military\" in match:\n",
    "        matches3.append(match)\n",
    "    if \"drmatches1ugs\" in match:\n",
    "        matches3.append(match)\n",
    "    if \"suspects\" in match:\n",
    "        matches3.append(match)\n",
    "    if \"Arm\" in match:\n",
    "        matches3.append(match)\n",
    "    if \"Weapon\" in match:\n",
    "        matches3.append(match)\n",
    "    if \"Shot\" in match:\n",
    "        matches3.append(match)\n",
    "    if \"Police\" in match:\n",
    "        matches3.append(match)\n",
    "    if \"Military\" in match:\n",
    "        matches3.append(match)\n",
    "    if \"Drugs\" in match:\n",
    "        matches3.append(match)\n",
    "    if \"Suspects\" in match:\n",
    "        matches3.append(match)\n",
    "    if \"kill\" in match:\n",
    "        matches3.append(match)\n",
    "print(matches3)"
   ]
  },
  {
   "cell_type": "code",
   "execution_count": null,
   "id": "92a1eaf5-46fa-4543-af9a-fe51d0bb10dc",
   "metadata": {},
   "outputs": [],
   "source": [
    "type(matches)"
   ]
  },
  {
   "cell_type": "markdown",
   "id": "1bd54c8e-63a6-4b6c-91c3-a5c557a650a9",
   "metadata": {},
   "source": [
    "# 4"
   ]
  },
  {
   "cell_type": "code",
   "execution_count": null,
   "id": "85e24376-2938-49ce-afaf-ed75b2422c8c",
   "metadata": {},
   "outputs": [],
   "source": [
    "new_lists[3]"
   ]
  },
  {
   "cell_type": "code",
   "execution_count": null,
   "id": "7cac340f-b1e0-4632-a96d-b649e48b4677",
   "metadata": {},
   "outputs": [],
   "source": [
    "try:\n",
    "    try:\n",
    "        driver.get(\"https://www.myjoyonline.com/\")\n",
    "        time.sleep(30)\n",
    "    except Exception:\n",
    "        pass\n",
    "    driver.find_element_by_xpath(\"(//a)[26]\").click()\n",
    "    element = driver.find_element_by_xpath(\"(//input[@id='s'])[2]\").send_keys(new_lists[3])\n",
    "    try:\n",
    "        driver.find_element_by_xpath(\"(//input[@id='s'])[2]\").send_keys(Keys.ENTER) #sendKeys(Keys.ENTER)\n",
    "        time.sleep(15)\n",
    "    except Exception:\n",
    "        pass        \n",
    "    try:\n",
    "        driver.find_element_by_xpath(\"(//div)[47]\").click()\n",
    "        time.sleep(30)\n",
    "    except Exception:\n",
    "        pass\n",
    "    driver.find_element_by_xpath(\"(//div[@id='sbwrap'])[1]\").text\n",
    "except Exception:\n",
    "    pass"
   ]
  },
  {
   "cell_type": "code",
   "execution_count": null,
   "id": "08cc80b1-b35b-4a7e-a5e8-9670a3ab27d6",
   "metadata": {},
   "outputs": [],
   "source": [
    "text4 = driver.find_element_by_xpath(\"(//div[@id='sbwrap'])[1]\").text\n",
    "expression = re.compile(r'([A-Z][^\\.!?]*[\\.!?])')\n",
    "list4 = re.findall(expression, text4)\n"
   ]
  },
  {
   "cell_type": "code",
   "execution_count": null,
   "id": "5ce4122e-8206-470e-bcd1-e6eb58a036cc",
   "metadata": {},
   "outputs": [],
   "source": [
    "matches4 = []\n",
    "#('arm','weapon', 'shot', 'police', 'military', 'drugs', 'suspect')\n",
    "for match in list4:\n",
    "    if \"arm\" in match:\n",
    "        matches4.append(match)\n",
    "    if \"weapon\" in match:\n",
    "        matches4.append(match)\n",
    "    if \"shot\" in match:\n",
    "        matches4.append(match)\n",
    "    if \"police\" in match:\n",
    "        matches4.append(match)\n",
    "    if \"military\" in match:\n",
    "        matches4.append(match)\n",
    "    if \"drmatches1ugs\" in match:\n",
    "        matches4.append(match)\n",
    "    if \"suspects\" in match:\n",
    "        matches4.append(match)\n",
    "    if \"Arm\" in match:\n",
    "        matches4.append(match)\n",
    "    if \"Weapon\" in match:\n",
    "        matches4.append(match)\n",
    "    if \"Shot\" in match:\n",
    "        matches4.append(match)\n",
    "    if \"Police\" in match:\n",
    "        matches4.append(match)\n",
    "    if \"Military\" in match:\n",
    "        matches4.append(match)\n",
    "    if \"Drugs\" in match:\n",
    "        matches4.append(match)\n",
    "    if \"Suspects\" in match:\n",
    "        matches4.append(match)\n",
    "    if \"kill\" in match:\n",
    "        matches4.append(match)\n",
    "print(matches4)"
   ]
  },
  {
   "cell_type": "code",
   "execution_count": null,
   "id": "74af774c-d0af-43cf-8977-315964ca05e4",
   "metadata": {},
   "outputs": [],
   "source": []
  },
  {
   "cell_type": "code",
   "execution_count": null,
   "id": "a2c2b4ed-3192-497a-b67d-9e02a7e3157a",
   "metadata": {},
   "outputs": [],
   "source": []
  },
  {
   "cell_type": "code",
   "execution_count": null,
   "id": "354acbd0-2e81-4fe5-90dc-1a3fa843be19",
   "metadata": {},
   "outputs": [],
   "source": [
    "\n",
    "forth = driver.current_url"
   ]
  },
  {
   "cell_type": "markdown",
   "id": "f1384606-e54f-4cab-b953-62a420f4cf47",
   "metadata": {},
   "source": [
    "# 5"
   ]
  },
  {
   "cell_type": "code",
   "execution_count": null,
   "id": "b54231b5-f076-4176-a0dd-610df5d2264e",
   "metadata": {},
   "outputs": [],
   "source": [
    "try:\n",
    "    try:\n",
    "        driver.get(\"https://www.myjoyonline.com/\")\n",
    "        time.sleep(30)\n",
    "    except Exception:\n",
    "        pass\n",
    "    driver.find_element_by_xpath(\"(//a)[26]\").click()\n",
    "    element = driver.find_element_by_xpath(\"(//input[@id='s'])[2]\").send_keys(new_lists[4])\n",
    "    try:\n",
    "        driver.find_element_by_xpath(\"(//input[@id='s'])[2]\").send_keys(Keys.ENTER) #sendKeys(Keys.ENTER)\n",
    "        time.sleep(15)\n",
    "    except Exception:\n",
    "        pass        \n",
    "    try:\n",
    "        driver.find_element_by_xpath(\"(//div)[47]\").click()\n",
    "        time.sleep(30)\n",
    "    except Exception:\n",
    "        pass\n",
    "    driver.find_element_by_xpath(\"(//div[@id='sbwrap'])[1]\").text\n",
    "except Exception:\n",
    "    pass"
   ]
  },
  {
   "cell_type": "code",
   "execution_count": null,
   "id": "4d8762b9-d643-40b5-8313-4e449e0091b4",
   "metadata": {},
   "outputs": [],
   "source": [
    "fifth = driver.current_url"
   ]
  },
  {
   "cell_type": "code",
   "execution_count": null,
   "id": "4b8e1740-5d74-431f-a2e9-5658a2693c8d",
   "metadata": {},
   "outputs": [],
   "source": [
    "text5 = driver.find_element_by_xpath(\"(//div[@id='sbwrap'])[1]\").text\n",
    "expression = re.compile(r'([A-Z][^\\.!?]*[\\.!?])')\n",
    "list5 = re.findall(expression, text5)\n"
   ]
  },
  {
   "cell_type": "code",
   "execution_count": null,
   "id": "0137fb66-6314-4c66-9ad7-f88bc5de1927",
   "metadata": {},
   "outputs": [],
   "source": [
    "matches5 = []\n",
    "#('arm','weapon', 'shot', 'police', 'military', 'drugs', 'suspect')\n",
    "for match in list5:\n",
    "    if \"arm\" in match:\n",
    "        matches5.append(match)\n",
    "    if \"weapon\" in match:\n",
    "        matches5.append(match)\n",
    "    if \"shot\" in match:\n",
    "        matches5.append(match)\n",
    "    if \"police\" in match:\n",
    "        matches5.append(match)\n",
    "    if \"military\" in match:\n",
    "        matches5.append(match)\n",
    "    if \"drmatches1ugs\" in match:\n",
    "        matches5.append(match)\n",
    "    if \"suspects\" in match:\n",
    "        matches5.append(match)\n",
    "    if \"Arm\" in match:\n",
    "        matches5.append(match)\n",
    "    if \"Weapon\" in match:\n",
    "        matches5.append(match)\n",
    "    if \"Shot\" in match:\n",
    "        matches5.append(match)\n",
    "    if \"Police\" in match:\n",
    "        matches5.append(match)\n",
    "    if \"Military\" in match:\n",
    "        matches5.append(match)\n",
    "    if \"Drugs\" in match:\n",
    "        matches5.append(match)\n",
    "    if \"Suspects\" in match:\n",
    "        matches5.append(match)\n",
    "    if \"kill\" in match:\n",
    "        matches5.append(match)\n",
    "print(matches5)"
   ]
  },
  {
   "cell_type": "markdown",
   "id": "fe18b83f-1187-4d72-9630-365a9afae5b2",
   "metadata": {},
   "source": [
    "# 6"
   ]
  },
  {
   "cell_type": "code",
   "execution_count": null,
   "id": "b46d5818-d34e-4413-98ad-9921cac433bf",
   "metadata": {},
   "outputs": [],
   "source": [
    "try:\n",
    "    try:\n",
    "        driver.get(\"https://www.myjoyonline.com/\")\n",
    "        time.sleep(30)\n",
    "    except Exception:\n",
    "        pass\n",
    "    driver.find_element_by_xpath(\"(//a)[26]\").click()\n",
    "    element = driver.find_element_by_xpath(\"(//input[@id='s'])[2]\").send_keys(new_lists[5])\n",
    "    try:\n",
    "        driver.find_element_by_xpath(\"(//input[@id='s'])[2]\").send_keys(Keys.ENTER) #sendKeys(Keys.ENTER)\n",
    "        time.sleep(15)\n",
    "    except Exception:\n",
    "        pass        \n",
    "    try:\n",
    "        driver.find_element_by_xpath(\"(//div)[47]\").click()\n",
    "        time.sleep(30)\n",
    "    except Exception:\n",
    "        pass\n",
    "    driver.find_element_by_xpath(\"(//div[@id='sbwrap'])[1]\").text\n",
    "except Exception:\n",
    "    pass"
   ]
  },
  {
   "cell_type": "code",
   "execution_count": null,
   "id": "bd5b7911-20d0-461a-9038-d7fb9236ac3f",
   "metadata": {},
   "outputs": [],
   "source": []
  },
  {
   "cell_type": "code",
   "execution_count": null,
   "id": "8d3b20a9-d56a-4547-b624-91bae0669645",
   "metadata": {},
   "outputs": [],
   "source": [
    "sixth = driver.current_url"
   ]
  },
  {
   "cell_type": "code",
   "execution_count": null,
   "id": "c3848262-d0fe-4fcb-af09-b60d6f294cd1",
   "metadata": {},
   "outputs": [],
   "source": [
    "text6 = driver.find_element_by_xpath(\"(//div[@id='sbwrap'])[1]\").text\n",
    "expression = re.compile(r'([A-Z][^\\.!?]*[\\.!?])')\n",
    "list6 = re.findall(expression, text6)\n"
   ]
  },
  {
   "cell_type": "code",
   "execution_count": null,
   "id": "5b8473d1-0776-4369-b19a-79ac0561af43",
   "metadata": {},
   "outputs": [],
   "source": [
    "matches6 = []\n",
    "#('arm','weapon', 'shot', 'police', 'military', 'drugs', 'suspect')\n",
    "for match in list6:\n",
    "    if \"arm\" in match:\n",
    "        matches6.append(match)\n",
    "    if \"weapon\" in match:\n",
    "        matches6.append(match)\n",
    "    if \"shot\" in match:\n",
    "        matches6.append(match)\n",
    "    if \"police\" in match:\n",
    "        matches6.append(match)\n",
    "    if \"military\" in match:\n",
    "        matches6.append(match)\n",
    "    if \"drmatches1ugs\" in match:\n",
    "        matches6.append(match)\n",
    "    if \"suspects\" in match:\n",
    "        matches6.append(match)\n",
    "    if \"Arm\" in match:\n",
    "        matches6.append(match)\n",
    "    if \"Weapon\" in match:\n",
    "        matches6.append(match)\n",
    "    if \"Shot\" in match:\n",
    "        matches6.append(match)\n",
    "    if \"Police\" in match:\n",
    "        matches6.append(match)\n",
    "    if \"Military\" in match:\n",
    "        matches6.append(match)\n",
    "    if \"Drugs\" in match:\n",
    "        matches6.append(match)\n",
    "    if \"Suspects\" in match:\n",
    "        matches6.append(match)\n",
    "    if \"kill\" in match:\n",
    "        matches6.append(match)\n",
    "print(matches6)"
   ]
  },
  {
   "cell_type": "markdown",
   "id": "ae96aa4b-c3e5-4e9f-8fdc-173e62b25087",
   "metadata": {},
   "source": [
    "# 7"
   ]
  },
  {
   "cell_type": "code",
   "execution_count": null,
   "id": "5d78a7b2-21f7-48a2-bdaf-5f150426698b",
   "metadata": {},
   "outputs": [],
   "source": [
    "try:\n",
    "    try:\n",
    "        driver.get(\"https://www.myjoyonline.com/\")\n",
    "        time.sleep(30)\n",
    "    except Exception:\n",
    "        pass\n",
    "    driver.find_element_by_xpath(\"(//a)[26]\").click()\n",
    "    element = driver.find_element_by_xpath(\"(//input[@id='s'])[2]\").send_keys(new_lists[6])\n",
    "    try:\n",
    "        driver.find_element_by_xpath(\"(//input[@id='s'])[2]\").send_keys(Keys.ENTER) #sendKeys(Keys.ENTER)\n",
    "        time.sleep(15)\n",
    "    except Exception:\n",
    "        pass        \n",
    "    try:\n",
    "        driver.find_element_by_xpath(\"(//div)[47]\").click()\n",
    "        time.sleep(30)\n",
    "    except Exception:\n",
    "        pass\n",
    "    driver.find_element_by_xpath(\"(//div[@id='sbwrap'])[1]\").text\n",
    "except Exception:\n",
    "    pass"
   ]
  },
  {
   "cell_type": "code",
   "execution_count": null,
   "id": "37e678d4-e862-4b37-8e27-43be70cb2f64",
   "metadata": {},
   "outputs": [],
   "source": [
    "seventh = driver.current_url"
   ]
  },
  {
   "cell_type": "code",
   "execution_count": null,
   "id": "3b00d868-edc6-46ce-b39a-a6215e06581a",
   "metadata": {},
   "outputs": [],
   "source": [
    "text7 = driver.find_element_by_xpath(\"(//div[@id='sbwrap'])[1]\").text\n",
    "expression = re.compile(r'([A-Z][^\\.!?]*[\\.!?])')\n",
    "list7 = re.findall(expression, text7)\n"
   ]
  },
  {
   "cell_type": "code",
   "execution_count": null,
   "id": "7d6e01e4-1830-4262-8bb6-6352d4946600",
   "metadata": {},
   "outputs": [],
   "source": [
    "matches7 = []\n",
    "#('arm','weapon', 'shot', 'police', 'military', 'drugs', 'suspect')\n",
    "for match in list7:\n",
    "    if \"arm\" in match:\n",
    "        matches7.append(match)\n",
    "    if \"weapon\" in match:\n",
    "        matches7.append(match)\n",
    "    if \"shot\" in match:\n",
    "        matches7.append(match)\n",
    "    if \"police\" in match:\n",
    "        matches7.append(match)\n",
    "    if \"military\" in match:\n",
    "        matches7.append(match)\n",
    "    if \"drmatches1ugs\" in match:\n",
    "        matches7.append(match)\n",
    "    if \"suspects\" in match:\n",
    "        matches7.append(match)\n",
    "    if \"Arm\" in match:\n",
    "        matches7.append(match)\n",
    "    if \"Weapon\" in match:\n",
    "        matches7.append(match)\n",
    "    if \"Shot\" in match:\n",
    "        matches7.append(match)\n",
    "    if \"Police\" in match:\n",
    "        matches7.append(match)\n",
    "    if \"Military\" in match:\n",
    "        matches7.append(match)\n",
    "    if \"Drugs\" in match:\n",
    "        matches7.append(match)\n",
    "    if \"Suspects\" in match:\n",
    "        matches7.append(match)\n",
    "    if \"kill\" in match:\n",
    "        matches7.append(match)\n",
    "print(matches7)"
   ]
  },
  {
   "cell_type": "markdown",
   "id": "24aba741-c8cc-48f3-8592-3356d9b8e8ea",
   "metadata": {},
   "source": [
    "# 8"
   ]
  },
  {
   "cell_type": "code",
   "execution_count": null,
   "id": "babea504-6be8-4db7-bf03-aad1a300b792",
   "metadata": {},
   "outputs": [],
   "source": [
    "try:\n",
    "    try:\n",
    "        driver.get(\"https://www.myjoyonline.com/\")\n",
    "        time.sleep(30)\n",
    "    except Exception:\n",
    "        pass\n",
    "    driver.find_element_by_xpath(\"(//a)[26]\").click()\n",
    "    element = driver.find_element_by_xpath(\"(//input[@id='s'])[2]\").send_keys(new_lists[7])\n",
    "    try:\n",
    "        driver.find_element_by_xpath(\"(//input[@id='s'])[2]\").send_keys(Keys.ENTER) #sendKeys(Keys.ENTER)\n",
    "        time.sleep(15)\n",
    "    except Exception:\n",
    "        pass        \n",
    "    try:\n",
    "        driver.find_element_by_xpath(\"(//div)[47]\").click()\n",
    "        time.sleep(30)\n",
    "    except Exception:\n",
    "        pass\n",
    "    driver.find_element_by_xpath(\"(//div[@id='sbwrap'])[1]\").text\n",
    "except Exception:\n",
    "    pass"
   ]
  },
  {
   "cell_type": "code",
   "execution_count": null,
   "id": "5c3fd5d1-0629-43f1-ad77-3c4c75bbf8ab",
   "metadata": {},
   "outputs": [],
   "source": [
    "eighth = driver.current_url"
   ]
  },
  {
   "cell_type": "code",
   "execution_count": null,
   "id": "d5790fde-3e06-4336-89bc-85bbacb31882",
   "metadata": {},
   "outputs": [],
   "source": [
    "text8 = driver.find_element_by_xpath(\"(//div[@id='sbwrap'])[1]\").text\n",
    "expression = re.compile(r'([A-Z][^\\.!?]*[\\.!?])')\n",
    "list8 = re.findall(expression, text8)\n"
   ]
  },
  {
   "cell_type": "code",
   "execution_count": null,
   "id": "d6334cd2-302b-4099-83c8-b5cf929a5a28",
   "metadata": {},
   "outputs": [],
   "source": [
    "matches8 = []\n",
    "#('arm','weapon', 'shot', 'police', 'military', 'drugs', 'suspect')\n",
    "for match in list8:\n",
    "    if \"arm\" in match:\n",
    "        matches8.append(match)\n",
    "    if \"weapon\" in match:\n",
    "        matches8.append(match)\n",
    "    if \"shot\" in match:\n",
    "        matches8.append(match)\n",
    "    if \"police\" in match:\n",
    "        matches8.append(match)\n",
    "    if \"military\" in match:\n",
    "        matches8.append(match)\n",
    "    if \"drmatches1ugs\" in match:\n",
    "        matches8.append(match)\n",
    "    if \"suspects\" in match:\n",
    "        matches8.append(match)\n",
    "    if \"Arm\" in match:\n",
    "        matches8.append(match)\n",
    "    if \"Weapon\" in match:\n",
    "        matches8.append(match)\n",
    "    if \"Shot\" in match:\n",
    "        matches8.append(match)\n",
    "    if \"Police\" in match:\n",
    "        matches8.append(match)\n",
    "    if \"Military\" in match:\n",
    "        matches8.append(match)\n",
    "    if \"Drugs\" in match:\n",
    "        matches8.append(match)\n",
    "    if \"Suspects\" in match:\n",
    "        matches8.append(match)\n",
    "    if \"kill\" in match:\n",
    "        matches8.append(match)\n",
    "print(matches8)"
   ]
  },
  {
   "cell_type": "markdown",
   "id": "12196251-04e8-4832-beab-5e4b85d4079d",
   "metadata": {},
   "source": [
    "# 9"
   ]
  },
  {
   "cell_type": "code",
   "execution_count": null,
   "id": "d777a82e-b332-442d-a5a1-c41e54aedb80",
   "metadata": {},
   "outputs": [],
   "source": [
    "try:\n",
    "    try:\n",
    "        driver.get(\"https://www.myjoyonline.com/\")\n",
    "        time.sleep(30)\n",
    "    except Exception:\n",
    "        pass\n",
    "    driver.find_element_by_xpath(\"(//a)[26]\").click()\n",
    "    element = driver.find_element_by_xpath(\"(//input[@id='s'])[2]\").send_keys(new_lists[8])\n",
    "    try:\n",
    "        driver.find_element_by_xpath(\"(//input[@id='s'])[2]\").send_keys(Keys.ENTER) #sendKeys(Keys.ENTER)\n",
    "        time.sleep(15)\n",
    "    except Exception:\n",
    "        pass        \n",
    "    try:\n",
    "        driver.find_element_by_xpath(\"(//div)[47]\").click()\n",
    "        time.sleep(30)\n",
    "    except Exception:\n",
    "        pass\n",
    "    driver.find_element_by_xpath(\"(//div[@id='sbwrap'])[1]\").text\n",
    "except Exception:\n",
    "    pass"
   ]
  },
  {
   "cell_type": "code",
   "execution_count": null,
   "id": "7ebdec69-009b-4d7d-925b-12b2688c6b50",
   "metadata": {},
   "outputs": [],
   "source": [
    "nineth = driver.current_url"
   ]
  },
  {
   "cell_type": "code",
   "execution_count": null,
   "id": "1dc24617-5253-497c-a444-737ae856ed22",
   "metadata": {},
   "outputs": [],
   "source": [
    "text9 = driver.find_element_by_xpath(\"(//div[@id='sbwrap'])[1]\").text\n",
    "expression = re.compile(r'([A-Z][^\\.!?]*[\\.!?])')\n",
    "list9 = re.findall(expression, text9)\n"
   ]
  },
  {
   "cell_type": "code",
   "execution_count": null,
   "id": "f18cc70c-7098-48ba-8b6f-4b660885ef7f",
   "metadata": {},
   "outputs": [],
   "source": [
    "matches9 = []\n",
    "#('arm','weapon', 'shot', 'police', 'military', 'drugs', 'suspect')\n",
    "for match in list9:\n",
    "    if \"arm\" in match:\n",
    "        matches9.append(match)\n",
    "    if \"weapon\" in match:\n",
    "        matches9.append(match)\n",
    "    if \"shot\" in match:\n",
    "        matches9.append(match)\n",
    "    if \"police\" in match:\n",
    "        matches9.append(match)\n",
    "    if \"military\" in match:\n",
    "        matches9.append(match)\n",
    "    if \"drmatches1ugs\" in match:\n",
    "        matches9.append(match)\n",
    "    if \"suspects\" in match:\n",
    "        matches9.append(match)\n",
    "    if \"Arm\" in match:\n",
    "        matches9.append(match)\n",
    "    if \"Weapon\" in match:\n",
    "        matches9.append(match)\n",
    "    if \"Shot\" in match:\n",
    "        matches9.append(match)\n",
    "    if \"Police\" in match:\n",
    "        matches9.append(match)\n",
    "    if \"Military\" in match:\n",
    "        matches9.append(match)\n",
    "    if \"Drugs\" in match:\n",
    "        matches9.append(match)\n",
    "    if \"Suspects\" in match:\n",
    "        matches9.append(match)\n",
    "    if \"kill\" in match:\n",
    "        matches9.append(match)\n",
    "print(matches9)"
   ]
  },
  {
   "cell_type": "markdown",
   "id": "f3d5e994-d568-4f81-8423-12359feab591",
   "metadata": {},
   "source": [
    "# 10"
   ]
  },
  {
   "cell_type": "code",
   "execution_count": null,
   "id": "ce4c283c-8dad-4932-a104-9b1804c52b0c",
   "metadata": {},
   "outputs": [],
   "source": [
    "try:\n",
    "    try:\n",
    "        driver.get(\"https://www.myjoyonline.com/\")\n",
    "        time.sleep(15)\n",
    "    except Exception:\n",
    "        pass\n",
    "    driver.find_element_by_xpath(\"(//a)[26]\").click()\n",
    "    element = driver.find_element_by_xpath(\"(//input[@id='s'])[2]\").send_keys(new_lists[9])\n",
    "    try:\n",
    "        driver.find_element_by_xpath(\"(//input[@id='s'])[2]\").send_keys(Keys.ENTER) #sendKeys(Keys.ENTER)\n",
    "        time.sleep(5)\n",
    "    except Exception:\n",
    "        pass        \n",
    "    try:\n",
    "        driver.find_element_by_xpath(\"(//div)[47]\").click()\n",
    "        time.sleep(10)\n",
    "    except Exception:\n",
    "        pass\n",
    "    driver.find_element_by_xpath(\"(//div[@id='sbwrap'])[1]\").text\n",
    "except Exception:\n",
    "    pass"
   ]
  },
  {
   "cell_type": "code",
   "execution_count": null,
   "id": "bceebb3d-ea6b-4421-90c6-82c69c22ba90",
   "metadata": {},
   "outputs": [],
   "source": [
    "tenth = driver.current_url"
   ]
  },
  {
   "cell_type": "markdown",
   "id": "4febc1fa-ce52-470a-9062-f5a60ecace85",
   "metadata": {},
   "source": [
    "# 11"
   ]
  },
  {
   "cell_type": "code",
   "execution_count": null,
   "id": "f20640ba-4005-41f4-ad56-b7b63330bc6a",
   "metadata": {},
   "outputs": [],
   "source": [
    "try:\n",
    "    try:\n",
    "        driver.get(\"https://www.myjoyonline.com/\")\n",
    "        time.sleep(15)\n",
    "    except Exception:\n",
    "        pass\n",
    "    driver.find_element_by_xpath(\"(//a)[26]\").click()\n",
    "    element = driver.find_element_by_xpath(\"(//input[@id='s'])[2]\").send_keys(new_lists[10])\n",
    "    try:\n",
    "        driver.find_element_by_xpath(\"(//input[@id='s'])[2]\").send_keys(Keys.ENTER) #sendKeys(Keys.ENTER)\n",
    "        time.sleep(5)\n",
    "    except Exception:\n",
    "        pass        \n",
    "    try:\n",
    "        driver.find_element_by_xpath(\"(//div)[47]\").click()\n",
    "        time.sleep(10)\n",
    "    except Exception:\n",
    "        pass\n",
    "    driver.find_element_by_xpath(\"(//div[@id='sbwrap'])[1]\").text\n",
    "except Exception:\n",
    "    pass"
   ]
  },
  {
   "cell_type": "code",
   "execution_count": null,
   "id": "09145964-4805-4123-83ac-71c0b7d58086",
   "metadata": {},
   "outputs": [],
   "source": [
    "eleventh = driver.current_url"
   ]
  },
  {
   "cell_type": "markdown",
   "id": "b4d542e9-a80c-418f-9fc5-f016fd44d13e",
   "metadata": {},
   "source": [
    "# 12"
   ]
  },
  {
   "cell_type": "code",
   "execution_count": null,
   "id": "694557f0-1c51-436c-95c7-a71d18e2b724",
   "metadata": {},
   "outputs": [],
   "source": [
    "try:\n",
    "    try:\n",
    "        driver.get(\"https://www.myjoyonline.com/\")\n",
    "        time.sleep(15)\n",
    "    except Exception:\n",
    "        pass\n",
    "    driver.find_element_by_xpath(\"(//a)[26]\").click()\n",
    "    element = driver.find_element_by_xpath(\"(//input[@id='s'])[2]\").send_keys(new_lists[11])\n",
    "    try:\n",
    "        driver.find_element_by_xpath(\"(//input[@id='s'])[2]\").send_keys(Keys.ENTER) #sendKeys(Keys.ENTER)\n",
    "        time.sleep(5)\n",
    "    except Exception:\n",
    "        pass        \n",
    "    try:\n",
    "        driver.find_element_by_xpath(\"(//div)[47]\").click()\n",
    "        time.sleep(10)\n",
    "    except Exception:\n",
    "        pass\n",
    "    driver.find_element_by_xpath(\"(//div[@id='sbwrap'])[1]\").text\n",
    "except Exception:\n",
    "    pass"
   ]
  },
  {
   "cell_type": "code",
   "execution_count": null,
   "id": "f731bc54-fca7-4151-ae60-ec744faaad0f",
   "metadata": {},
   "outputs": [],
   "source": [
    "twelveth = driver.current_url"
   ]
  },
  {
   "cell_type": "markdown",
   "id": "fe38e66b-0427-4bf4-9dc2-83f5fc06cfce",
   "metadata": {},
   "source": [
    "# 13"
   ]
  },
  {
   "cell_type": "code",
   "execution_count": null,
   "id": "8e4b622e-c998-4746-b416-0ab15ce9f355",
   "metadata": {},
   "outputs": [],
   "source": [
    "try:\n",
    "    try:\n",
    "        driver.get(\"https://www.myjoyonline.com/\")\n",
    "        time.sleep(15)\n",
    "    except Exception:\n",
    "        pass\n",
    "    driver.find_element_by_xpath(\"(//a)[26]\").click()\n",
    "    element = driver.find_element_by_xpath(\"(//input[@id='s'])[2]\").send_keys(new_lists[12])\n",
    "    try:\n",
    "        driver.find_element_by_xpath(\"(//input[@id='s'])[2]\").send_keys(Keys.ENTER) #sendKeys(Keys.ENTER)\n",
    "        time.sleep(5)\n",
    "    except Exception:\n",
    "        pass        \n",
    "    try:\n",
    "        driver.find_element_by_xpath(\"(//div)[47]\").click()\n",
    "        time.sleep(10)\n",
    "    except Exception:\n",
    "        pass\n",
    "    driver.find_element_by_xpath(\"(//div[@id='sbwrap'])[1]\").text\n",
    "except Exception:\n",
    "    pass"
   ]
  },
  {
   "cell_type": "code",
   "execution_count": null,
   "id": "8a946b42-822b-49ae-a668-c36e54ebc0d2",
   "metadata": {},
   "outputs": [],
   "source": [
    "thirteenth = driver.current_url"
   ]
  },
  {
   "cell_type": "markdown",
   "id": "0314b4f9-6620-411c-a5c8-0464b12e6127",
   "metadata": {},
   "source": [
    "# 14"
   ]
  },
  {
   "cell_type": "code",
   "execution_count": null,
   "id": "8def5151-22eb-47b8-be00-a3aff493a072",
   "metadata": {},
   "outputs": [],
   "source": [
    "try:\n",
    "    try:\n",
    "        driver.get(\"https://www.myjoyonline.com/\")\n",
    "        time.sleep(15)\n",
    "    except Exception:\n",
    "        pass\n",
    "    driver.find_element_by_xpath(\"(//a)[26]\").click()\n",
    "    element = driver.find_element_by_xpath(\"(//input[@id='s'])[2]\").send_keys(new_lists[13])\n",
    "    try:\n",
    "        driver.find_element_by_xpath(\"(//input[@id='s'])[2]\").send_keys(Keys.ENTER) #sendKeys(Keys.ENTER)\n",
    "        time.sleep(5)\n",
    "    except Exception:\n",
    "        pass        \n",
    "    try:\n",
    "        driver.find_element_by_xpath(\"(//div)[47]\").click()\n",
    "        time.sleep(10)\n",
    "    except Exception:\n",
    "        pass\n",
    "    driver.find_element_by_xpath(\"(//div[@id='sbwrap'])[1]\").text\n",
    "except Exception:\n",
    "    pass"
   ]
  },
  {
   "cell_type": "code",
   "execution_count": null,
   "id": "8fc94143-ec95-4d56-8c1f-03a4c336fad5",
   "metadata": {},
   "outputs": [],
   "source": [
    "forteenth = driver.current_url"
   ]
  },
  {
   "cell_type": "markdown",
   "id": "5ca1171b-11ba-4d91-81aa-fb897d80b8c9",
   "metadata": {},
   "source": [
    "# 15"
   ]
  },
  {
   "cell_type": "code",
   "execution_count": null,
   "id": "5fc61881-65bf-4740-9a1a-78d3a51ac038",
   "metadata": {},
   "outputs": [],
   "source": [
    "try:\n",
    "    try:\n",
    "        driver.get(\"https://www.myjoyonline.com/\")\n",
    "        time.sleep(15)\n",
    "    except Exception:\n",
    "        pass\n",
    "    driver.find_element_by_xpath(\"(//a)[26]\").click()\n",
    "    element = driver.find_element_by_xpath(\"(//input[@id='s'])[2]\").send_keys(new_lists[14])\n",
    "    try:\n",
    "        driver.find_element_by_xpath(\"(//input[@id='s'])[2]\").send_keys(Keys.ENTER) #sendKeys(Keys.ENTER)\n",
    "        time.sleep(5)\n",
    "    except Exception:\n",
    "        pass        \n",
    "    try:\n",
    "        driver.find_element_by_xpath(\"(//div)[47]\").click()\n",
    "        time.sleep(10)\n",
    "    except Exception:\n",
    "        pass\n",
    "    driver.find_element_by_xpath(\"(//div[@id='sbwrap'])[1]\").text\n",
    "except Exception:\n",
    "    pass"
   ]
  },
  {
   "cell_type": "code",
   "execution_count": null,
   "id": "8d76c0c7-b849-484f-bbe7-8cb06388c839",
   "metadata": {},
   "outputs": [],
   "source": [
    "fifteenth = driver.current_url"
   ]
  },
  {
   "cell_type": "code",
   "execution_count": null,
   "id": "277061b4-5788-428a-bcc3-f8486b5974b9",
   "metadata": {},
   "outputs": [],
   "source": [
    "new_lists[14]"
   ]
  },
  {
   "cell_type": "code",
   "execution_count": null,
   "id": "671edd0b-8048-417d-9a8a-f915056d3718",
   "metadata": {},
   "outputs": [],
   "source": [
    "text1 = ('hhh', 'ggg', 'rrr')\n",
    "text2 = ('www', 'ppp', 'ccc')"
   ]
  },
  {
   "cell_type": "code",
   "execution_count": null,
   "id": "7a91a97c-9168-42b0-a778-9e699dfd6c89",
   "metadata": {},
   "outputs": [],
   "source": [
    "import pandas as pd"
   ]
  },
  {
   "cell_type": "code",
   "execution_count": null,
   "id": "bb551982-8172-4431-8453-0f74ca6b4425",
   "metadata": {},
   "outputs": [],
   "source": [
    "urls = (first, second, third, forth, fifth, sixth, seventh, eighth, nineth, tenth, eleventh, twelveth, thirteenth, forteenth, fifteenth)\n",
    "keynames = (matches1, matches2, matches3, matches4, matches5, matches6, matches7, matches8, matches9)"
   ]
  },
  {
   "cell_type": "code",
   "execution_count": null,
   "id": "733a86b5-6612-4869-8f64-5ad5f5cb4dec",
   "metadata": {},
   "outputs": [],
   "source": [
    "col1 = \"urls_of_websites\"\n",
    "col2 = \"keywords\""
   ]
  },
  {
   "cell_type": "code",
   "execution_count": null,
   "id": "9402b2a7-6f85-4571-a85e-d151d806da4c",
   "metadata": {},
   "outputs": [],
   "source": [
    "data = pd.DataFrame({col1:urls, col2:keynames})"
   ]
  },
  {
   "cell_type": "code",
   "execution_count": null,
   "id": "319dda51-1543-4cab-94f9-c4ddba10ca22",
   "metadata": {},
   "outputs": [],
   "source": [
    "data.to_excel('C:\\\\Users\\\\hp\\\\Desktop\\\\selenium.xlsx', sheet_name='today', index=False)"
   ]
  },
  {
   "cell_type": "code",
   "execution_count": null,
   "id": "9300e003-652e-4dae-8afd-093a6c055f27",
   "metadata": {},
   "outputs": [],
   "source": []
  },
  {
   "cell_type": "code",
   "execution_count": null,
   "id": "966f1040-64a7-4232-817c-ebe45d3b246a",
   "metadata": {},
   "outputs": [],
   "source": []
  },
  {
   "cell_type": "code",
   "execution_count": null,
   "id": "47ab2788-4fc5-4908-b21e-4570872d67e4",
   "metadata": {},
   "outputs": [],
   "source": []
  },
  {
   "cell_type": "code",
   "execution_count": null,
   "id": "736483bc-97c3-4e1c-8f78-4e0d97523e95",
   "metadata": {},
   "outputs": [],
   "source": []
  },
  {
   "cell_type": "code",
   "execution_count": null,
   "id": "872d33f8-58f0-4123-9ae4-9f36a7f1e883",
   "metadata": {},
   "outputs": [],
   "source": []
  },
  {
   "cell_type": "code",
   "execution_count": null,
   "id": "4e8aee37-9a95-4883-b64e-6d6e66aef621",
   "metadata": {},
   "outputs": [],
   "source": []
  },
  {
   "cell_type": "code",
   "execution_count": null,
   "id": "f2f2014e-817d-4b1b-a9a4-2dfc815d2489",
   "metadata": {},
   "outputs": [],
   "source": []
  },
  {
   "cell_type": "code",
   "execution_count": null,
   "id": "57fb0e21-48aa-4ddb-a38c-ffbc3f86fdb5",
   "metadata": {},
   "outputs": [],
   "source": []
  },
  {
   "cell_type": "code",
   "execution_count": null,
   "id": "0ebea970-20e5-4172-a84f-bcf0319bf994",
   "metadata": {},
   "outputs": [],
   "source": []
  },
  {
   "cell_type": "code",
   "execution_count": null,
   "id": "df585821-02e6-4aa8-8646-2cd83f56fcdd",
   "metadata": {},
   "outputs": [],
   "source": []
  },
  {
   "cell_type": "code",
   "execution_count": null,
   "id": "1e539cda-0d88-41e5-8d78-97f619c7e385",
   "metadata": {},
   "outputs": [],
   "source": []
  },
  {
   "cell_type": "code",
   "execution_count": null,
   "id": "a497d623-2cf5-4f5c-a692-a1105adcd3a1",
   "metadata": {},
   "outputs": [],
   "source": []
  },
  {
   "cell_type": "code",
   "execution_count": null,
   "id": "74b4878f-9976-4db8-a4c4-f550b5d32850",
   "metadata": {},
   "outputs": [],
   "source": []
  },
  {
   "cell_type": "code",
   "execution_count": null,
   "id": "24148903-1cc2-45e9-822a-74e3c0f98b1d",
   "metadata": {},
   "outputs": [],
   "source": []
  },
  {
   "cell_type": "code",
   "execution_count": null,
   "id": "11b91621-f1d5-4d27-8c6a-c337d8ca0b85",
   "metadata": {},
   "outputs": [],
   "source": []
  },
  {
   "cell_type": "code",
   "execution_count": null,
   "id": "817c59e9-4fa0-484e-a6a4-331797c13855",
   "metadata": {},
   "outputs": [],
   "source": []
  },
  {
   "cell_type": "code",
   "execution_count": null,
   "id": "f99390b5-58c2-4212-bede-8bd86af56604",
   "metadata": {},
   "outputs": [],
   "source": []
  },
  {
   "cell_type": "code",
   "execution_count": null,
   "id": "56f79205-2502-4de3-89bf-47edb5343111",
   "metadata": {},
   "outputs": [],
   "source": []
  },
  {
   "cell_type": "code",
   "execution_count": null,
   "id": "4ee2ba76-073f-44c0-8c33-1a9e38464f3a",
   "metadata": {},
   "outputs": [],
   "source": []
  },
  {
   "cell_type": "code",
   "execution_count": null,
   "id": "a3e8eb67-e741-4f50-9193-4da001674458",
   "metadata": {},
   "outputs": [],
   "source": []
  },
  {
   "cell_type": "code",
   "execution_count": null,
   "id": "2953126d-d504-41c2-883a-7b7774936b8d",
   "metadata": {},
   "outputs": [],
   "source": []
  },
  {
   "cell_type": "code",
   "execution_count": null,
   "id": "ebd1fced-0515-49e0-b164-a67ded62d617",
   "metadata": {},
   "outputs": [],
   "source": []
  },
  {
   "cell_type": "code",
   "execution_count": null,
   "id": "c2f29e14-5dea-4dd0-a34d-dc1d262edf3a",
   "metadata": {},
   "outputs": [],
   "source": []
  },
  {
   "cell_type": "code",
   "execution_count": null,
   "id": "9b357a02-01e7-43e5-b904-3da69f62a3ec",
   "metadata": {},
   "outputs": [],
   "source": []
  },
  {
   "cell_type": "code",
   "execution_count": null,
   "id": "b5aaad23-8c5d-4fce-a265-508cfdc06244",
   "metadata": {},
   "outputs": [],
   "source": []
  }
 ],
 "metadata": {
  "kernelspec": {
   "display_name": "Python 3 (ipykernel)",
   "language": "python",
   "name": "python3"
  },
  "language_info": {
   "codemirror_mode": {
    "name": "ipython",
    "version": 3
   },
   "file_extension": ".py",
   "mimetype": "text/x-python",
   "name": "python",
   "nbconvert_exporter": "python",
   "pygments_lexer": "ipython3",
   "version": "3.9.7"
  }
 },
 "nbformat": 4,
 "nbformat_minor": 5
}
