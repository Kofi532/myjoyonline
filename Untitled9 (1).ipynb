{
 "cells": [
  {
   "cell_type": "code",
   "execution_count": 14,
   "id": "dc522453-4c60-4871-9379-17cb0c9c4d51",
   "metadata": {},
   "outputs": [],
   "source": [
    "keyword = ('arm', 'weapon', 'shot', 'police', 'military', 'drugs', 'suspect')\n",
    "passage = ('arms is good', 'thiefs', 'youtube is giong with weapons')"
   ]
  },
  {
   "cell_type": "code",
   "execution_count": 15,
   "id": "954bdbfe-b12f-4573-a5fe-01e3e49e03cd",
   "metadata": {},
   "outputs": [],
   "source": [
    "for keyword in passage:\n",
    "    keyword"
   ]
  },
  {
   "cell_type": "code",
   "execution_count": 16,
   "id": "00d272fc-bc54-4997-b4de-43fd373bf56d",
   "metadata": {},
   "outputs": [
    {
     "data": {
      "text/plain": [
       "'youtube is giong with weapons'"
      ]
     },
     "execution_count": 16,
     "metadata": {},
     "output_type": "execute_result"
    }
   ],
   "source": [
    "keyword"
   ]
  },
  {
   "cell_type": "code",
   "execution_count": null,
   "id": "074810bf-b951-4d3a-9bd7-4069b3852ed3",
   "metadata": {},
   "outputs": [],
   "source": [
    "import pandas as pd\n",
    "list1 = [10,20,30,40]\n",
    "list2 = [40,30,20,10]\n",
    "col1 = \"X\"\n",
    "col2 = \"Y\"\n",
    "data = pd.DataFrame({col1:text1,col2:text2})\n",
    "data.to_excel('C:\\\\Users\\\\hp\\\\Desktop\\\\selenium.xlsx', sheet_name='sheet1', index=False)\n",
    "#C:\\Users\\hp\\Desktop\\selenium.xlsx"
   ]
  },
  {
   "cell_type": "code",
   "execution_count": null,
   "id": "b633e33e-07d2-4610-8a17-f1d40cce3cb2",
   "metadata": {},
   "outputs": [],
   "source": []
  },
  {
   "cell_type": "code",
   "execution_count": 1,
   "id": "746adcf8-db0f-4ea9-9812-ac648a87784e",
   "metadata": {},
   "outputs": [
    {
     "name": "stderr",
     "output_type": "stream",
     "text": [
      "\n",
      "\n",
      "====== WebDriver manager ======\n",
      "Current google-chrome version is 100.0.4896\n",
      "Get LATEST chromedriver version for 100.0.4896 google-chrome\n",
      "Driver [C:\\Users\\hp\\.wdm\\drivers\\chromedriver\\win32\\100.0.4896.60\\chromedriver.exe] found in cache\n",
      "C:\\Users\\hp\\AppData\\Local\\Temp/ipykernel_8072/2953177188.py:6: DeprecationWarning: executable_path has been deprecated, please pass in a Service object\n",
      "  driver = webdriver.Chrome(ChromeDriverManager().install())\n"
     ]
    }
   ],
   "source": [
    "import time\n",
    "from time import sleep\n",
    "from selenium import webdriver\n",
    "from selenium.webdriver.common.keys import Keys\n",
    "from webdriver_manager.chrome import ChromeDriverManager\n",
    "driver = webdriver.Chrome(ChromeDriverManager().install())\n",
    "\n",
    "time.sleep(5)"
   ]
  },
  {
   "cell_type": "code",
   "execution_count": 2,
   "id": "1e5a3572-9164-4041-986c-f9b26a815d5c",
   "metadata": {},
   "outputs": [],
   "source": [
    "driver.get(\"https://www.ghanaweb.com/GhanaHomePage/features/Natural-Justice-and-the-Power-of-286137\")  "
   ]
  },
  {
   "cell_type": "code",
   "execution_count": 6,
   "id": "5dbda198-5da1-45cc-afaf-36d336ad19e1",
   "metadata": {},
   "outputs": [
    {
     "name": "stderr",
     "output_type": "stream",
     "text": [
      "C:\\Users\\hp\\AppData\\Local\\Temp/ipykernel_8072/2594910823.py:1: DeprecationWarning: find_element_by_xpath is deprecated. Please use find_element(by=By.XPATH, value=xpath) instead\n",
      "  driver.find_element_by_xpath(\"(//div[@id='pagecontainer'])[1]\").text\n"
     ]
    },
    {
     "data": {
      "text/plain": [
       "'Youtube Icon Facebook Icon Twitter Icon\\nSign up\\nLogin\\nYou are here: Home → Wall → Opinions → Articles → 2013 09 20 → Article 286137\\nNews\\nSports\\nBusiness\\nEntertainment\\nAfrica\\nGhanaWeb TV\\nWall\\nCountry\\nFeature Articles\\nHome - Features\\nArchived Articles\\nColumnists\\nWall Area\\nHome - Wall\\nMembers\\nOpinions\\nOther Sections\\nHomepage\\nNews\\nBusiness\\nSports\\nEntertainment\\nAfrica\\nTV / Radio\\nWall\\nOpinions of Friday, 20 September 2013\\nColumnist: Korang, Daniel\\nNatural Justice and the Power of ....\\n« Prev\\nNext »\\nComments (4)\\nListen to Article\\nWhatsApp\\nFacebook\\nTwitter\\nEmail This\\nCourt to Punish for Contempt of Itself: A Juridical Farce?\\n\\nDaniel Korang (aka Prof)\\n\\nIntroduction\\n\\nThe Ghana Legal System is replete with hackneyed and hallowed legal principles which supply the very life-blood of our system of justice. Among these principles are the rules of natural justice and contempt of court. Both principles are essential and necessary for the sustenance of a sound legal system. In fact, without these two legal principles, the administration of justice will be based on the personal whims of adjudicators and the courts will lack requisite power to enforce its decisions and preserve the sanctity of its proceedings and decisions. However, a strict adherence to these two legal principles seems to create a legal conundrum. In this discourse, I propose to give general explanation of these two principles and proceed to determine how each impacts on the other.\\nThe Power of Court to Punish for Contempt\\nAlthough it has gained statutory footing in our legal system, the law of contempt is largely a common law principle. Articles 19(12) and 126(2) of the 1992 Constitution give the courts power to punish for contempt of themselves. Article 19(12) provides that, “Clause (11) of this article shall not prevent a Superior Court from punishing a person for contempt of itself notwithstanding that the act or omission constituting the contempt is not defined in a written law and the penalty is not so prescribed”. The phrase “punishing a person for contempt of itself” carries the connotation and necessary implication that a court can lawfully sit to hear contempt applications in which the contemptuous act was done in relation to the court itself. Article 126(2) states in part that, “The Superior Courts shall be superior courts of record and shall have the power to commit for contempt to themselves…”\\nFrom the foregoing, it is plain that a court or a judge has the power to punish a person for contempt of the court. The multi-dollar question is whether or not by sitting to hear applications involving contempt of itself the court is acting in breach of the second rule of natural justice namely, ‘no man should be a judge in his own case’. What happens if a judge feels personally scandalised, disrespected or disobeyed and he proceeds to hear the contemnor and commits him to prison? Is the judge acting as a judge in his own case? Before we attempt an answer, I beg leave to briefly discuss the rule of natural justice in question.\\nNatural Justice: Nemo Judex in Causa Sua\\nWhilst the term natural justice is often retained as a general concept, it has largely been replaced and extended by the more general phrase \"duty to act fairly\". Natural justice concerns itself with two rules namely, “nemo judex in causa sua” which is literally translated as “no man should be a judge in his own case” and “audi alteram partem” which is literally translated \"hear the other side\" or “no man should be condemned unheard”.\\nOf particular relevance to our present discussion is the rule “nemo judex in causa sua”. It is a cardinal principle which underpins our administration of justice, and indeed that of all the common law countries, that a person is not allowed to be a judge in his own cause. This is a principle of natural justice and it is so basic that its deliberate violation is now regarded as a misconduct which would render a judge or magistrate unfit to hold judicial office.\\nIt is a principle of natural justice that no person can judge a case in which he has an interest, whether pecuniary or otherwise. The rule is very strictly applied to any appearance of a possible bias, even if there is actually none, for it is said that “Justice must not only be done, but must be seen to be done\". This is the precious quality of justice epitomised in the maxim nemo judex in causa sua. All students of our legal system are acquainted with this rule of natural justice. A monstrous breach of the rule is difficult to imagine! I think it is unreasonable.\\nThe basis on which impartiality operates is the need to maintain public confidence in the legal system. The erosion of public confidence undermines the nobility of the legal system, and leads to ensuing chaos. The essence of the need for impartiality was observed by Lord Denning, the Master of the Rolls, in Metropolitan Properties Co. (F.G.C.) Ltd. v. Lannon (1968): “Justice must be rooted in confidence and confidence is destroyed when right-minded people go away thinking: \\'The judge was biased’.” Lord Esher also said that the participation of a disqualified person \"certainly rendered the decision wholly void.\"\\nLord Campbell stated the rule with much precision in Dimes v. Proprietors of the Grand Junction Canal and others (1852), 3 H. L. Cas. 993. He said:\\n“It is of the last importance that the maxim that no man is to be a judge in his own cause should be held sacred. And that is not to be confined to a cause in which he is a party, but applies to a cause in which he has an interest.”\\nThe import of this rule was vividly expressed by Lord Thankerton in Franklin v. Minister of Town and Country Planning, [1948] A. C. 87 when he said:\\n\"I could wish that the use of the word \\'bias\\' should be confined to its proper sphere. Its proper significance, in my opinion is to denote a departure from the standard of even-handed justice which the law requires from those who occupy judicial office or those who are, commonly regarded as holding a quasi-judicial office, such as an arbitrator. The reason for this clearly is that, having to adjudicate between two or more parties, he must come to his adjudication with an independent mind, without any inclination of bias towards one side or other in the dispute.\"\\nBasically, these are principles which are necessary for a just and fair decision making. These principles are often embedded in the rules of procedure which govern the judiciary. If there is any substantial departure from these principles of natural justice, the decision can be challenged and set aside through the judicial process.\\nDoes Contempt of Court Violate Natural Justice?\\nHaving understood contempt of court and the rule ‘nemo judex in causa sua’, it is now necessary to ascertain whether or not a strict adherence to the former rule breaches or is likely to breach the latter. In cases where contemptuous matters or statements are published of a judge or a group of judges, it becomes an issue whether it is proper for the same judges or court to sit and determine the matter. The case that readily comes to mind is The Republic vrs Nana Oduro Numapau 18th March, 1998. The facts of this case are that, Counsel for the 16th Respondent filed a motion before the Supreme Court seeking to have two members of the panel recuse themselves from sitting and adjudicating on a contempt of Court application pending before the Court. The justices were Hayfron Benjamin JSC and Ampiah JSC. In the case of Hayfron-Benjamin J.S.C. the charge was that he had acted in respect of the proceedings culminating in the present application, as the respondent/applicant\\'s counsel and may consciously or unconsciously make use of confidential information that may have been or was actually, imparted to him in breach of a solicitor/client relationship to his detriment.\\nIn respect of Ampiah J.S.C. it was argued that he had, previously, while a Justice of the High Court, condemned the installation and insertion of 16th respondent/applicant’s name in the Register of Chiefs. In each case respondent was apprehensive that justice may not be done to him by the participation of these two judges in the contempt application.\\nWhen the motion was filed the two judges were cited as respondents and actually served in that capacity and proof of service filed in the original docket. However, in selecting the panel to sit on this motion, the Chief Justice selected the two judges also as members of the five-member panel to hear the application seeking to disqualify them. The applicant thereupon raised a preliminary objection to the Court\\'s jurisdiction, in that the Court was improperly constituted as the panel included the very judges whom the motion sought to disqualify and who were in every aspect of the word \"parties\" to the matter before the Court.\\nThe Supreme Court held by a 3:2 majority that the two justices could sit to determine the contempt application and that their presence did not violate the rule that ‘no man should be a judge in his own case’. The decision was ostensibly based on the doctrine of necessity (which I personally think was erroneously invoked and relied upon by the court). In dismissing the objection, Hayfron Benjamin JSC– one of the impugned judges – held:\\n“In my respectful opinion it would be wrong for a judge to run away from the judgment seat on the merest allegation of bias or other disqualifying ground. His clear duty is to conduct a meticulous investigation of the allegation and if proved bow out to preserve the reputation for impartiality of the bench on which he sits.”\\nQuite intriguingly, Hayfron Benjamin was the Chairman or Presiding Judge. Interestingly, all that justice Ampiah JSC had to say as his judgment is this one mini-sentence: “I associated myself with this opinion in overruling the preliminary objection.” Did it come as a surprise that the two judges all overruled the objection against them to sit on the matter? By overruling the objection and proceeding to hear the contempt application, did the two judges (and more so the majority) act as judges in their own case?\\nJustice Hayfron Benjamin’s decision drew substantial anchorage from the following statement by Amissah JA in the case of Attorney General v. Sallah (1970):\\n\"It would be wholly wrong for a party to be allowed to raise objection to a judge based on allegations without foundation. It would equally be wrong if he were to be allowed to exaggerate in order to give a better appearance to his objection than it would otherwise have. Because to yield to that would mean to give power to a party to choose, by a process of elimination through objections, his own judge for his own cause. And that would be fatal to the cause of justice.\"\\nEven though this statement may be wholly correct, it cannot, with due respect, be taken to be a general rule of law. It must rather be a hallowed exception to the general rule that ‘no man should be a judge in his own case’.\\nCome to think of this. Were the allegations against Hayfron Benjamin JSC and Ampiah JSC without foundation? Were the allegations true? The allegations were factually true but their Lordships declined to recuse themselves from the case. How on earth can a lawyer in a case, after having been appointed a judge, sit on the same case in which he once was a lawyer, and be expected to be fair to the other party against whom he (lawyer) conducted the case? This clearly raises suspicion of real likelihood of bias, and should not be taken too lightly. Is this development in violation of the hackneyed rule of natural justice, which frowns upon a man sitting as a judge in his own case?\\nA more classic example of this judicial puzzle is the recent 2012 Presidential Election Petition. As it may also be recalled, during the trial, the Supreme Court was quick to extend invitations to persons whose utterances and actions were regarded as contemptuous of the proceedings. In fact, if my memory sets me right, two persons ended up in prison, while two others were mulcted in heavy fines. We recall that, Justice Atuguba vented a mixture of judicial and personal spleen on the alleged contemnors. In fact, he went haywire, to say the least, because he inter alia felt personally disparaged. Was it proper for the same judges to sit and determine whether the persons invited were in fact guilty of contempt of the court? The need to ensure a fair trial should not involve a talismanic incantation at the Bench that flies in the face of clear rules of procedure and natural justice.\\nThe absurdity, as I see it, is that the Supreme Court judges, upon inviting an alleged contemnor were only expecting him to go on his knees and render unqualified apology. It must be noted that contempt of court is a quasi-criminal offence and must therefore be “proved beyond reasonable doubt”. Experience and available legal literature must teach us that when a court extends invitations to persons to be tried for contempt of itself, there is a real likelihood of substantial prejudice and bigotry. The court always has prior inclination that the person appearing before it HAS ALREADY committed contemp. No wonder, counsel for Sir John came to the Supreme Court with his “begging letter” asking for mercy. Where then lies the constitutional principle that “A person charged with a criminal offence shall be presumed to be innocent until he is proved or has pleaded guilty?” (vide article 19(2) (c)).\\nA dare say that any allegation of bias against a judge or court must be taken seriously as the truth of it impinges greatly on the quality of justice. Judges should not be over-trusted, and it is necessary for judges to admit that judicial power is not meant to achieve personal and parochial ends. If judges are personally committed to do justice, they should not run away from allegations questioning their fidelity to law. Rather, they must, through the judicial process, consider the merits of every such allegation in other to dispel any unwholesome assumption that judges are bias in their judicial functions.\\nAs the Master of the Rolls, Jessel, declared in Clements and Costa Rica Republic v. Erlanger (1877), 46 L.J. Ch. 375 at 383.\\n\"This jurisdiction of committing for contempt being practically arbitrary and unlimited should be most jealously and carefully watched, and exercised, if I may say so, with the greatest reluctance and the greatest anxiety on the part of the Judges to see whether there is no other mode which is not open to the objection of arbitrariness and which can be brought to bear upon the subject\".\\nOur judiciary, as I have always maintained, is filled with ORDINARY men with legal knowledge and training; they are not without proclivities, emotions, passions, personal desires, choices and whims. In fact, judges have personal whims, caprices, orientation, proclivities, idiosyncrasies, quirks, eccentricity and suchlike tendencies. Their fallibilities, frailties, imperfections and weaknesses oftentimes animate their verdicts. They have natural passion for ethnicity, religion and society.\\nThe law of contempt, due to its summary nature, may be mischievously used to punish innocent persons; it is an unruly horse indeed, and when once you get astride it you never know where it will carry you. It may lead you from the sound law which requires that a person’s guilt must be established before he becomes a fit subject for criminal punishment. Contempt of court should be sparingly used to punish people.\\nThe view is also held that contempt is not meant to protect a judge personally and so it does not violate natural justice. As was said by Chief Justice Abbott in 1821 in R. v. Davison (182l), 4 B. &Ald. 329, \"the power to commit [for contempt] has been vested in the Judges not for their personal protection, but for that of the public.\" In R v David Makali (1994), a contempt case, the court reasoned that although justice must be seen to be done, judges should discharge their duty and not accede too easily to allegations of bias made by litigants. Regarding applications for disqualification, the same ratio had been followed in Nyamodi Ochieng v KPTC 1994 where the plaintiff’s application that certain judges conversant with the case hear an application for contempt was denied. In a blunt judgment, the court held that the luxury of shopping for judges was not available in law. In Miller v Miller (1988) the plaintiff sought the disqualification of a judge on the ground that allegations of bias had been made against him. In rejecting this reasoning, the Appeal Court insisted, “It would be disastrous if this were to become practice. The administration of justice through the court would be adversely affected. Mischievous parties… would obtain disqualification of judges with ease.” In Uhuru Highway v Central Bank (1998) the court lashed out at counsel of the first defendant CBK: \"they have the tendency to seek disqualification of judges whenever a matter before the Court is not decided in their favour… This gives the impression that they are shopping around for judges of their own choice… This practice is intimidatory and no court will condone it as it undermines the rule of law.\"\\nThe modern trend or test adopted by the courts is “real danger of bias” test and not “real likelihood of bias” test. It has been held in Locabail v Bayfield Properties 2000 1 All ER 65 that: “It would be dangerous and futile to attempt to define or list the factors which may give rise to a real danger of bias. … We cannot, however, conceive of circumstances in which an objection could be soundly based on the religion, ethnic or national origin, gender, age, class, … judge’s background, nor that of any members of the Judges family; … or previous judicial decisions or extra-curricular utterances; or previous receipt of instructions to act for or against any party… By contrast, a real danger of bias might well be thought to arise if there were personal friendship or animosity between the Judge and a litigant; … or if, in a case where the credibility of any individual were an issue decided by the Judge, he had in a previous case rejected the evidence of that person in such outspoken terms as to throw doubt on his ability to approach such persons evidence with an open mind on any later occasion.”\\nNevertheless, the summary process of committal can place the judge if not in the position of judging \"his own cause\", certainly in that of doubling the roles of prosecutor and judge, which is a position no less objectionable as contrary to natural justice.\\nConclusion\\nTo this end, it may be argued, on one part, that when judges sit to hear contempt cases, they do not seek to protect themselves but the institution of the judiciary thereby not violating natural justice; and on the other part that, in any case of contempt the panel or a member thereof who feels disparaged must be reconstituted in order to serve the ends of justice.\\nIt is necessary to observe that whereas the court must ensure respect for itself, the fact must not be lost on us that the right of the individual to fair hearing must be respected. The court should resist any clamour for non-existing dignity at the expense of sound legal principles which form the very substratum of our legal system. It is suggested that judges should not deal with contempt committed of itself but should refer the contemnor to another judge or to the Attorney General. This would also have the advantage of meeting the requirement in the 1992 Constitution whereby anyone accused of a criminal offence should have \"adequate time and facilities for the preparation of his defence\" (see article 19(2)(e) thereof).\\nI propose to end with the following words of wisdom from ACQUAH, J.S.C. in The Republic vrs Nana Oduro Numapau 18th March, 1998:\\n“I concede that we judges are there to decide cases and not to excuse ourselves whenever a litigant doubts without cause, the judicial qualities of those assigned to sit in judgment. And litigants should certainly not be encouraged to treat judges like members of a jury whom they can challenge off the case. But at the same time we judges must appreciate that the noble virtues of our vocation enjoin us to comport ourselves in such a way as to be above suspicion, and thereby instil in the public, confidence in the administration of justice. We are thus to ensure that it is not merely of some importance but is of fundamental importance that in the performance of our judicial duties, justice should not only be done, but should manifestly and undoubtedly be seen to be done. Therefore whenever the public has reasonable cause to be suspicious of our fidelity, we must know that we are in danger of losing their confidence.”\\nBY DANIEL KORANG\\nENSO NYAME YE CHAMBERS\\nP.O. BOX 2191\\nSUNYANI\\n0208759342\\nComments:\\nThis article has 4 comment(s), give your comment\\nPromoted stories\\nEverything shows he wanted money - Azumah Nelson joins Ike Quartey\\'s criticism of…\\n(Ghana Web)\\nEfia Odo goes berserk as calls for her arrest heighten\\n(Ghana Web)\\nFROM THE WEB\\nApartments For Sale in Dubai Might Surprise You\\n(Dubai Real Estate Options | Search ads)\\nI charge men $30,000 for a date - Princess Shyngle\\n(Ghana Web)\\nFROM THE WEB\\nGhana: Work-From-Home Jobs In The US May Pay You More Than You Think\\n(Remote Job Offers | Search ads)\\nFROM THE WEB\\nStudy for Free in Canada? Yes You Can\\n(Study In Canada | Sponsored Links)\\nWhy is this Picture of Abena Korkor & Kennedy Osei Causing Massive Reaction…\\n(Ghana Web)\\nFROM THE WEB\\nOnline Job in USA from Accra. Salaries May Surprise You\\n(USA Job from Home | Search Ads)\\nFROM THE WEB\\nAccra - Every household should have an emergency kit!\\n(News Fakt)\\nDon’t start YouTube for wrong reasons – Wode Maya\\n(Ghana Web)\\nFROM THE WEB\\nVillas Prices In Dubai Might Surprise You\\n(Villas in Dubai | Sponsored Links)\\nMissing Lands Commisson staff: TA\\'s slept in Dr Aggrey’s house with kids only –…\\n(Ghana Web)\\nNews\\nMissing Lands Commission staff: TAs slept in Dr Aggrey’s house with kids only – TA tells court\\nSports\\nThe inside story of how Tony Yeboah\\'s parents caused the arrest of Kotoko Babies owner\\nBusiness\\nFood shortage in Ghana a global crisis - GIPC CEO\\nEntertainment\\nYvonne Nelson reveals how she was given a relationship contract by a man she loved\\nAfrica\\nTwitter board accepts Elon Musk\\'s $44-billion offer to buy tech giant\\n\\nAbout Us\\nAdvertising\\nFAQ\\nSitemap\\nPrivacy Policy\\nCopyright © 1994 - 2022 GhanaWeb. All rights reserved.'"
      ]
     },
     "execution_count": 6,
     "metadata": {},
     "output_type": "execute_result"
    }
   ],
   "source": [
    "driver.find_element_by_xpath(\"(//div[@id='pagecontainer'])[1]\").text"
   ]
  },
  {
   "cell_type": "code",
   "execution_count": null,
   "id": "dc31bf2a-36ad-4655-a9f1-a83cade03491",
   "metadata": {},
   "outputs": [],
   "source": []
  }
 ],
 "metadata": {
  "kernelspec": {
   "display_name": "Python 3 (ipykernel)",
   "language": "python",
   "name": "python3"
  },
  "language_info": {
   "codemirror_mode": {
    "name": "ipython",
    "version": 3
   },
   "file_extension": ".py",
   "mimetype": "text/x-python",
   "name": "python",
   "nbconvert_exporter": "python",
   "pygments_lexer": "ipython3",
   "version": "3.9.7"
  }
 },
 "nbformat": 4,
 "nbformat_minor": 5
}
